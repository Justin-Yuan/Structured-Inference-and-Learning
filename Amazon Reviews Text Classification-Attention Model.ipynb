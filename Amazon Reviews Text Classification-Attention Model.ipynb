{
 "cells": [
  {
   "cell_type": "code",
   "execution_count": 29,
   "metadata": {
    "collapsed": true
   },
   "outputs": [],
   "source": [
    "from __future__ import print_function \n",
    "import numpy as np\n",
    "import tensorflow as tf \n",
    "import matplotlib.pyplot as plt\n",
    "%matplotlib inline\n",
    "\n",
    "import os\n",
    "import sys\n",
    "\n",
    "from keras.preprocessing.text import Tokenizer\n",
    "from keras.preprocessing.sequence import pad_sequences\n",
    "from keras.utils import to_categorical\n",
    "from keras.models import Model\n",
    "from keras.layers import Input, Dense, Flatten, Lambda, TimeDistributed\n",
    "from keras.layers import Conv1D, MaxPooling1D, Embedding, Activation, Reshape, merge, Merge\n",
    "from keras.layers import SimpleRNN, GRU, LSTM, Bidirectional\n",
    "from keras.engine.topology import Layer\n",
    "from keras import initializers\n",
    "from keras.callbacks import ModelCheckpoint\n",
    "\n",
    "import keras.backend as K"
   ]
  },
  {
   "cell_type": "markdown",
   "metadata": {},
   "source": [
    "## Load the dataset"
   ]
  },
  {
   "cell_type": "code",
   "execution_count": 2,
   "metadata": {
    "collapsed": true
   },
   "outputs": [],
   "source": [
    "f = np.load('data_and_embedding100.npz')"
   ]
  },
  {
   "cell_type": "code",
   "execution_count": 3,
   "metadata": {
    "collapsed": true
   },
   "outputs": [],
   "source": [
    "num_words = int(f['num_words'])\n",
    "embedding_dim = int(f['embedding_dim'])\n",
    "max_sequence_length = int(f['max_sequence_length'])\n",
    "max_sentence_length = int(f['max_sentence_length'])\n",
    "\n",
    "data = f['data']\n",
    "labels = f['labels']\n",
    "\n",
    "embedding_matrix = f['embedding_matrix']\n",
    "sequences_sentences = f['sequences_sentences']"
   ]
  },
  {
   "cell_type": "code",
   "execution_count": 4,
   "metadata": {
    "collapsed": false
   },
   "outputs": [
    {
     "name": "stdout",
     "output_type": "stream",
     "text": [
      "<class 'numpy.ndarray'> <class 'numpy.ndarray'> <class 'numpy.ndarray'>\n",
      "389877 389877 389877\n",
      "<class 'numpy.ndarray'> <class 'numpy.ndarray'> <class 'list'> <class 'list'>\n",
      "(100,) (6,) 6\n",
      "[ 115    8  141   27    9   12   15    8   62   87    1   30 2140   10  394\n",
      "  506  435    1    3  199  184    7  111   84   14    1    3   39  164  157\n",
      "  110    3  185  428    7  185   51    1    3   56   37  335   60   28  228\n",
      "   14 3199    1    3  459    7  228  425   14    3   17   38   18   11   26\n",
      "  178    6   46   28   18    2  749  471  847    1   28  336    2  457    4\n",
      "   29  434    1   20    3 4214 2784   14   71  100   48  662   37   43  696\n",
      "   51  370   57    3  191    6   66    5   27    1] [ 0.  0.  0.  0.  0.  1.]\n",
      "\n",
      "[20, 30, 194, 310, 48, 198]\n",
      "\n",
      "[368, 188, 6, 33, 19, 13, 33, 193, 149, 104, 38]\n",
      "\n",
      "[357, 250, 11, 628, 1687]\n",
      "\n",
      "[618, 102, 421, 9, 48, 892, 6, 549, 2077, 1112]\n",
      "\n"
     ]
    }
   ],
   "source": [
    "print(type(data), type(labels), type(sequences_sentences))\n",
    "print(len(data), len(labels), len(sequences_sentences))\n",
    "print(type(data[0]), type(labels[0]), type(sequences_sentences[0]), type(sequences_sentences[0][0]))\n",
    "print(data[0].shape, labels[0].shape, len(sequences_sentences[0][0]))\n",
    "print(data[0], labels[0])\n",
    "print()\n",
    "for i in range(len(sequences_sentences[0])):\n",
    "    print(sequences_sentences[0][i])\n",
    "    print()"
   ]
  },
  {
   "cell_type": "code",
   "execution_count": 5,
   "metadata": {
    "collapsed": false
   },
   "outputs": [
    {
     "name": "stdout",
     "output_type": "stream",
     "text": [
      "0 4105\n",
      "1 29305\n",
      "2 39576\n",
      "3 48471\n",
      "4 72506\n",
      "5 82330\n",
      "6 84413\n",
      "7 93664\n",
      "8 91438\n",
      "9 93246\n",
      "10 87712\n",
      "11 89877\n",
      "12 91221\n",
      "13 81235\n",
      "14 72826\n",
      "15 70124\n",
      "16 60506\n",
      "17 59314\n",
      "18 50505\n",
      "19 44911\n",
      "20 42551\n",
      "21 36989\n",
      "22 33430\n",
      "23 27958\n",
      "24 27428\n",
      "25 22159\n",
      "26 19351\n",
      "27 16612\n",
      "28 14715\n",
      "29 12170\n",
      "30 12046\n",
      "31 9199\n",
      "32 8327\n",
      "33 7422\n",
      "34 6345\n",
      "35 6010\n",
      "36 4858\n",
      "37 4811\n",
      "38 3962\n",
      "39 3450\n",
      "40 3237\n",
      "41 2503\n",
      "42 2031\n",
      "43 2069\n",
      "44 2091\n",
      "45 1582\n",
      "46 1795\n",
      "47 1498\n",
      "48 1044\n",
      "49 1396\n",
      "50 818\n",
      "51 546\n",
      "52 587\n",
      "53 593\n",
      "54 665\n",
      "55 487\n",
      "56 669\n",
      "57 543\n",
      "58 388\n",
      "59 441\n",
      "60 409\n",
      "61 208\n",
      "62 309\n",
      "63 209\n",
      "64 464\n",
      "65 116\n",
      "66 270\n",
      "67 151\n",
      "68 131\n",
      "69 48\n",
      "70 232\n",
      "71 127\n",
      "72 96\n",
      "73 191\n",
      "74 123\n",
      "75 61\n",
      "76 125\n",
      "77 46\n",
      "78 97\n",
      "79 8\n",
      "80 24\n",
      "81 68\n",
      "82 81\n",
      "83 154\n",
      "84 222\n",
      "85 88\n",
      "86 22\n",
      "87 168\n",
      "88 4\n",
      "89 110\n",
      "90 21\n",
      "91 10\n",
      "92 2\n",
      "93 10\n",
      "94 13\n",
      "95 29\n",
      "96 5\n",
      "97 6\n",
      "98 10\n",
      "99 13\n",
      "100 232\n",
      "101 1\n",
      "102 6\n",
      "103 1\n",
      "104 1\n",
      "106 1\n",
      "107 10\n",
      "108 5\n",
      "109 1\n",
      "110 9\n",
      "112 5\n",
      "113 12\n",
      "115 1\n",
      "116 1\n",
      "117 52\n",
      "118 2\n",
      "119 4\n",
      "120 2\n",
      "121 1\n",
      "123 14\n",
      "124 5\n",
      "125 1\n",
      "126 1\n",
      "127 1\n",
      "132 1\n",
      "140 1\n",
      "146 1\n",
      "148 1\n",
      "152 1\n",
      "153 1\n",
      "155 1\n",
      "156 5\n",
      "160 2\n",
      "162 5\n",
      "190 7\n",
      "201 1\n",
      "206 1\n",
      "255 1\n"
     ]
    }
   ],
   "source": [
    "word_length_dict = {}\n",
    "\n",
    "for doc in sequences_sentences:\n",
    "    for sent in doc:\n",
    "        if len(sent) not in word_length_dict:\n",
    "            word_length_dict[len(sent)] = 1\n",
    "        else:\n",
    "            word_length_dict[len(sent)] += 1\n",
    "            \n",
    "for key in sorted(word_length_dict):\n",
    "    print(key, word_length_dict[key])\n",
    "    "
   ]
  },
  {
   "cell_type": "code",
   "execution_count": 6,
   "metadata": {
    "collapsed": false
   },
   "outputs": [
    {
     "data": {
      "text/plain": [
       "(array([ 101.,    7.,    2.,    2.,    2.,    2.,    1.,    2.,    1.,\n",
       "           2.,    2.,    0.,    2.,    0.,    1.,    2.,    0.,    2.,\n",
       "           2.,    5.]),\n",
       " array([  1.00000000e+00,   4.68415000e+03,   9.36730000e+03,\n",
       "          1.40504500e+04,   1.87336000e+04,   2.34167500e+04,\n",
       "          2.80999000e+04,   3.27830500e+04,   3.74662000e+04,\n",
       "          4.21493500e+04,   4.68325000e+04,   5.15156500e+04,\n",
       "          5.61988000e+04,   6.08819500e+04,   6.55651000e+04,\n",
       "          7.02482500e+04,   7.49314000e+04,   7.96145500e+04,\n",
       "          8.42977000e+04,   8.89808500e+04,   9.36640000e+04]),\n",
       " <a list of 20 Patch objects>)"
      ]
     },
     "execution_count": 6,
     "metadata": {},
     "output_type": "execute_result"
    },
    {
     "data": {
      "image/png": "[encoded data removed]",
      "text/plain": [
       "<matplotlib.figure.Figure at 0x7fef8addbbe0>"
      ]
     },
     "metadata": {},
     "output_type": "display_data"
    }
   ],
   "source": [
    "plt.hist(list(word_length_dict.values()), 20)\n",
    "        \n",
    "# a suitable maximum number of words in each sentence 80-100"
   ]
  },
  {
   "cell_type": "code",
   "execution_count": 7,
   "metadata": {
    "collapsed": false,
    "scrolled": true
   },
   "outputs": [
    {
     "name": "stdout",
     "output_type": "stream",
     "text": [
      "1 34130\n",
      "2 70960\n",
      "3 87480\n",
      "4 61635\n",
      "5 45395\n",
      "6 28638\n",
      "7 18575\n",
      "8 12369\n",
      "9 7664\n",
      "10 6343\n",
      "11 4730\n",
      "12 2533\n",
      "13 2157\n",
      "14 1444\n",
      "15 1045\n",
      "16 927\n",
      "17 432\n",
      "18 656\n",
      "19 455\n",
      "20 233\n",
      "21 259\n",
      "22 221\n",
      "23 236\n",
      "24 249\n",
      "25 120\n",
      "26 273\n",
      "27 88\n",
      "28 42\n",
      "29 80\n",
      "30 25\n",
      "31 12\n",
      "32 125\n",
      "33 57\n",
      "34 38\n",
      "35 15\n",
      "36 55\n",
      "37 13\n",
      "39 6\n",
      "40 4\n",
      "41 1\n",
      "42 3\n",
      "44 43\n",
      "45 7\n",
      "46 1\n",
      "48 1\n",
      "49 10\n",
      "50 2\n",
      "51 12\n",
      "53 1\n",
      "54 25\n",
      "58 33\n",
      "59 1\n",
      "72 7\n",
      "107 11\n"
     ]
    }
   ],
   "source": [
    "sentence_length_dict = {}\n",
    "\n",
    "for sent in sequences_sentences:\n",
    "#     for sent in doc:\n",
    "    if len(sent) not in sentence_length_dict:\n",
    "        sentence_length_dict[len(sent)] = 1\n",
    "    else:\n",
    "        sentence_length_dict[len(sent)] += 1\n",
    "            \n",
    "for key in sorted(sentence_length_dict):\n",
    "    print(key, sentence_length_dict[key])\n",
    "    \n",
    "    \n",
    "# a suitable maximum number of sentences in each review 30-40"
   ]
  },
  {
   "cell_type": "code",
   "execution_count": 8,
   "metadata": {
    "collapsed": false
   },
   "outputs": [
    {
     "data": {
      "text/plain": [
       "(array([ 43.,   3.,   1.,   0.,   1.,   0.,   1.,   1.,   0.,   0.,   1.,\n",
       "          0.,   0.,   0.,   1.,   0.,   1.,   0.,   0.,   1.]),\n",
       " array([  1.00000000e+00,   4.37495000e+03,   8.74890000e+03,\n",
       "          1.31228500e+04,   1.74968000e+04,   2.18707500e+04,\n",
       "          2.62447000e+04,   3.06186500e+04,   3.49926000e+04,\n",
       "          3.93665500e+04,   4.37405000e+04,   4.81144500e+04,\n",
       "          5.24884000e+04,   5.68623500e+04,   6.12363000e+04,\n",
       "          6.56102500e+04,   6.99842000e+04,   7.43581500e+04,\n",
       "          7.87321000e+04,   8.31060500e+04,   8.74800000e+04]),\n",
       " <a list of 20 Patch objects>)"
      ]
     },
     "execution_count": 8,
     "metadata": {},
     "output_type": "execute_result"
    },
    {
     "data": {
      "image/png": "[encoded data removed]",
      "text/plain": [
       "<matplotlib.figure.Figure at 0x7fef9dcaea20>"
      ]
     },
     "metadata": {},
     "output_type": "display_data"
    }
   ],
   "source": [
    "plt.hist(list(sentence_length_dict.values()), 20)\n"
   ]
  },
  {
   "cell_type": "code",
   "execution_count": 9,
   "metadata": {
    "collapsed": true
   },
   "outputs": [],
   "source": [
    "validation_split = 0.2 \n",
    "epochs = 60"
   ]
  },
  {
   "cell_type": "code",
   "execution_count": 10,
   "metadata": {
    "collapsed": true
   },
   "outputs": [],
   "source": [
    "# indices = np.arange(data.shape[0])\n",
    "# np.random.shuffle(indices)\n",
    "# data = data[indices]\n",
    "# labels = labels[indices]\n",
    "# num_validation_samples = int(validation_split * data.shape[0])\n",
    "\n",
    "# x_train = data[:-num_validation_samples]\n",
    "# y_train = labels[:-num_validation_samples]\n",
    "# x_val = data[-num_validation_samples:]\n",
    "# y_val = labels[-num_validation_samples:]"
   ]
  },
  {
   "cell_type": "markdown",
   "metadata": {},
   "source": [
    "## Hierarchical Attention"
   ]
  },
  {
   "cell_type": "markdown",
   "metadata": {
    "collapsed": true
   },
   "source": [
    "### Reconstruct dataset"
   ]
  },
  {
   "cell_type": "code",
   "execution_count": 11,
   "metadata": {
    "collapsed": true
   },
   "outputs": [],
   "source": [
    "max_sequence_length = 80\n",
    "max_sentence_length = 30"
   ]
  },
  {
   "cell_type": "code",
   "execution_count": 12,
   "metadata": {
    "collapsed": true
   },
   "outputs": [],
   "source": [
    "def pad_seq(sent, num):\n",
    "    if len(sent) >= num:\n",
    "        return sent[:num]\n",
    "    else:\n",
    "        return [0]*(num-len(sent)) + sent\n",
    "\n",
    "def pad_sent(sent_list, num):\n",
    "    if len(sent_list) >= num:\n",
    "        return sent_list[:num]\n",
    "    else:\n",
    "        zero_sent = [0]*len(sent_list[0])\n",
    "        return [zero_sent for i in range(num-len(sent_list))] + sent_list"
   ]
  },
  {
   "cell_type": "code",
   "execution_count": 13,
   "metadata": {
    "collapsed": false
   },
   "outputs": [
    {
     "name": "stdout",
     "output_type": "stream",
     "text": [
      "[0, 0, 0, 0, 0, 1, 2, 3, 4]\n",
      "[[0, 0, 0], [0, 0, 0], [1, 1, 1], [0, 0, 2]]\n"
     ]
    }
   ],
   "source": [
    "print(pad_seq([1,2,3,4], 9))\n",
    "print(pad_sent([[1,1,1], [0,0,2]], 4))"
   ]
  },
  {
   "cell_type": "code",
   "execution_count": 14,
   "metadata": {
    "collapsed": true
   },
   "outputs": [],
   "source": [
    "sent_padded_sequences = [[pad_seq(sent, max_sequence_length) for sent in sent_list] for sent_list in sequences_sentences]"
   ]
  },
  {
   "cell_type": "code",
   "execution_count": 15,
   "metadata": {
    "collapsed": false
   },
   "outputs": [
    {
     "name": "stdout",
     "output_type": "stream",
     "text": [
      "389877\n",
      "4\n",
      "80\n",
      "<class 'list'>\n"
     ]
    }
   ],
   "source": [
    "print(len(sent_padded_sequences))\n",
    "print(len(sent_padded_sequences[0]))\n",
    "print(len(sent_padded_sequences[0][0]))\n",
    "print(type(sent_padded_sequences))"
   ]
  },
  {
   "cell_type": "code",
   "execution_count": 16,
   "metadata": {
    "collapsed": true
   },
   "outputs": [],
   "source": [
    "data3d = [pad_sent(sent_list, max_sentence_length) for sent_list in sent_padded_sequences]"
   ]
  },
  {
   "cell_type": "code",
   "execution_count": 17,
   "metadata": {
    "collapsed": false
   },
   "outputs": [
    {
     "name": "stdout",
     "output_type": "stream",
     "text": [
      "<class 'list'>\n"
     ]
    }
   ],
   "source": [
    "print(type(data3d))\n",
    "\n",
    "for i in range(len(data3d)):\n",
    "    if len(data3d[0]) != max_sentence_length:\n",
    "        print(\"kk\")\n",
    "    \n",
    "for i in range(len(data3d)):\n",
    "    for j in range(len(data3d[i])):\n",
    "        if len(data3d[i][j]) != max_sequence_length:\n",
    "            print(\"pp\")"
   ]
  },
  {
   "cell_type": "code",
   "execution_count": 18,
   "metadata": {
    "collapsed": true
   },
   "outputs": [],
   "source": [
    "data3d_final = np.array(data3d)"
   ]
  },
  {
   "cell_type": "code",
   "execution_count": 19,
   "metadata": {
    "collapsed": false
   },
   "outputs": [
    {
     "name": "stdout",
     "output_type": "stream",
     "text": [
      "<class 'numpy.ndarray'>\n",
      "<class 'numpy.ndarray'>\n",
      "<class 'numpy.ndarray'>\n"
     ]
    }
   ],
   "source": [
    "print(type(data3d_final))\n",
    "print(type(data3d_final[0]))\n",
    "print(type(data3d_final[0][0]))"
   ]
  },
  {
   "cell_type": "code",
   "execution_count": 20,
   "metadata": {
    "collapsed": false
   },
   "outputs": [
    {
     "name": "stdout",
     "output_type": "stream",
     "text": [
      "(389877, 30, 80)\n",
      "(30, 80)\n",
      "(80,)\n",
      "(30, 80)\n",
      "(80,)\n",
      "(30, 80)\n",
      "(80,)\n"
     ]
    }
   ],
   "source": [
    "print(data3d_final.shape)\n",
    "print(data3d_final[0].shape)\n",
    "print(data3d_final[0][0].shape)\n",
    "\n",
    "print(data3d_final[1].shape)\n",
    "print(data3d_final[1][1].shape)\n",
    "\n",
    "print(data3d_final[2].shape)\n",
    "print(data3d_final[2][2].shape)"
   ]
  },
  {
   "cell_type": "code",
   "execution_count": 21,
   "metadata": {
    "collapsed": true
   },
   "outputs": [],
   "source": [
    "indices = np.arange(data3d_final.shape[0])\n",
    "np.random.shuffle(indices)\n",
    "data3d_final = data3d_final[indices]\n",
    "labels = labels[indices]\n",
    "num_validation_samples = int(validation_split * data3d_final.shape[0])\n",
    "\n",
    "x_train = data3d_final[:-num_validation_samples]\n",
    "y_train = labels[:-num_validation_samples]\n",
    "x_val = data3d_final[-num_validation_samples:]\n",
    "y_val = labels[-num_validation_samples:]"
   ]
  },
  {
   "cell_type": "code",
   "execution_count": 22,
   "metadata": {
    "collapsed": false
   },
   "outputs": [
    {
     "name": "stdout",
     "output_type": "stream",
     "text": [
      "(311902, 30, 80)\n",
      "(311902, 6)\n",
      "(77975, 30, 80)\n",
      "(77975, 6)\n",
      "(30, 80)\n",
      "(80,)\n"
     ]
    }
   ],
   "source": [
    "print(x_train.shape)\n",
    "print(y_train.shape)\n",
    "print(x_val.shape)\n",
    "print(y_val.shape)\n",
    "\n",
    "print(x_train[0].shape)\n",
    "print(x_train[0][0].shape)"
   ]
  },
  {
   "cell_type": "markdown",
   "metadata": {},
   "source": [
    "### Build the model "
   ]
  },
  {
   "cell_type": "code",
   "execution_count": 23,
   "metadata": {
    "collapsed": true
   },
   "outputs": [],
   "source": [
    "embedding_layer = Embedding(num_words,\n",
    "                            embedding_dim,\n",
    "                            weights=[embedding_matrix],\n",
    "                            input_length=max_sequence_length,\n",
    "                            trainable=False)"
   ]
  },
  {
   "cell_type": "code",
   "execution_count": 24,
   "metadata": {
    "collapsed": true
   },
   "outputs": [],
   "source": [
    "class AttLayer(Layer):\n",
    "    def __init__(self, output_dim=None, **kwargs):\n",
    "        self.output_dim = output_dim\n",
    "        super(AttLayer, self).__init__(**kwargs)\n",
    "        \n",
    "    def build(self, input_shape):\n",
    "        self.kernel = self.add_weight(name='kernel',\n",
    "                                     shape=(input_shape[-1], 1),\n",
    "                                     initializer='normal',\n",
    "                                     trainable=True)\n",
    "#         print(self.kernel.get_shape())\n",
    "\n",
    "        super(AttLayer, self).build(input_shape)\n",
    "        \n",
    "    def call(self, x, mask=None):\n",
    "        eij = K.dot(x, self.kernel)\n",
    "#         print(eij.get_shape(), 'eij')\n",
    "        \n",
    "        ai = K.exp(eij)\n",
    "        weights = ai/tf.expand_dims(K.sum(ai, axis=1), -1) #ai/K.sum(ai, axis=1).dimshuffle(0, 'x')\n",
    "#         print(weights.get_shape(), 'weights')\n",
    "        \n",
    "        weighted_input = x*weights #tf.expand_dims(weights, -1) #x*weights.dimshuffle(0, 1, 'x')\n",
    "#         print(weighted_input.get_shape(), 'weighted_input')\n",
    "        return tf.reduce_sum(weighted_input, axis=1)\n",
    "    \n",
    "    def compute_output_shape(self, input_shape):\n",
    "        return (input_shape[0], input_shape[-1])"
   ]
  },
  {
   "cell_type": "code",
   "execution_count": 25,
   "metadata": {
    "collapsed": true
   },
   "outputs": [],
   "source": [
    "sentence_input = Input(shape=(max_sequence_length, ), dtype='int32')\n",
    "embedded_sequences = embedding_layer(sentence_input)\n",
    "gru_word = Bidirectional(GRU(50, return_sequences=True))(embedded_sequences)\n",
    "dense_word = TimeDistributed((Dense(100)))(gru_word)\n",
    "tanh_word = TimeDistributed(Activation('tanh'))(dense_word)\n",
    "att_word = AttLayer()(tanh_word)\n",
    "sentEncoder = Model(sentence_input, att_word)\n",
    "\n",
    "review_input = Input(shape=(max_sentence_length, max_sequence_length), dtype='int32')\n",
    "review_encoder = TimeDistributed(sentEncoder)(review_input)\n",
    "gru_sent = Bidirectional(GRU(50, return_sequences=True))(review_encoder)\n",
    "dense_sent = TimeDistributed(Dense(100))(gru_sent)\n",
    "tanh_sent = TimeDistributed(Activation('tanh'))(dense_sent)\n",
    "att_sent = AttLayer()(tanh_sent)\n",
    "preds = Dense(6, activation='softmax')(att_sent)\n",
    "model_attention = Model(review_input, preds)"
   ]
  },
  {
   "cell_type": "code",
   "execution_count": 26,
   "metadata": {
    "collapsed": false
   },
   "outputs": [
    {
     "name": "stdout",
     "output_type": "stream",
     "text": [
      "_________________________________________________________________\n",
      "Layer (type)                 Output Shape              Param #   \n",
      "=================================================================\n",
      "input_1 (InputLayer)         (None, 80)                0         \n",
      "_________________________________________________________________\n",
      "embedding_1 (Embedding)      (None, 80, 100)           2000000   \n",
      "_________________________________________________________________\n",
      "bidirectional_1 (Bidirection (None, 80, 100)           45300     \n",
      "_________________________________________________________________\n",
      "time_distributed_1 (TimeDist (None, 80, 100)           10100     \n",
      "_________________________________________________________________\n",
      "time_distributed_2 (TimeDist (None, 80, 100)           0         \n",
      "_________________________________________________________________\n",
      "att_layer_1 (AttLayer)       (None, 100)               100       \n",
      "=================================================================\n",
      "Total params: 2,055,500.0\n",
      "Trainable params: 55,500.0\n",
      "Non-trainable params: 2,000,000.0\n",
      "_________________________________________________________________\n",
      "_________________________________________________________________\n",
      "Layer (type)                 Output Shape              Param #   \n",
      "=================================================================\n",
      "input_2 (InputLayer)         (None, 30, 80)            0         \n",
      "_________________________________________________________________\n",
      "time_distributed_3 (TimeDist (None, 30, 100)           2055500   \n",
      "_________________________________________________________________\n",
      "bidirectional_2 (Bidirection (None, 30, 100)           45300     \n",
      "_________________________________________________________________\n",
      "time_distributed_4 (TimeDist (None, 30, 100)           10100     \n",
      "_________________________________________________________________\n",
      "time_distributed_5 (TimeDist (None, 30, 100)           0         \n",
      "_________________________________________________________________\n",
      "att_layer_2 (AttLayer)       (None, 100)               100       \n",
      "_________________________________________________________________\n",
      "dense_3 (Dense)              (None, 6)                 606       \n",
      "=================================================================\n",
      "Total params: 2,111,606.0\n",
      "Trainable params: 111,606.0\n",
      "Non-trainable params: 2,000,000.0\n",
      "_________________________________________________________________\n"
     ]
    }
   ],
   "source": [
    "sentEncoder.summary()\n",
    "model_attention.summary()"
   ]
  },
  {
   "cell_type": "markdown",
   "metadata": {
    "collapsed": true
   },
   "source": [
    "### Train the model"
   ]
  },
  {
   "cell_type": "code",
   "execution_count": 27,
   "metadata": {
    "collapsed": true
   },
   "outputs": [],
   "source": [
    "model_attention.compile(loss='categorical_crossentropy',\n",
    "              optimizer='rmsprop',\n",
    "              metrics=['acc'])"
   ]
  },
  {
   "cell_type": "code",
   "execution_count": 30,
   "metadata": {
    "collapsed": true
   },
   "outputs": [],
   "source": [
    "filepath = \"models/HierarchicalAttention-{epoch:02d}-{val_acc:.2f}.hdf5\"\n",
    "checkpoint = ModelCheckpoint(filepath, monitor='val_acc', verbose=1, save_best_only=True, mode='max')\n",
    "callbacks_list = [checkpoint]"
   ]
  },
  {
   "cell_type": "code",
   "execution_count": 31,
   "metadata": {
    "collapsed": false
   },
   "outputs": [
    {
     "name": "stdout",
     "output_type": "stream",
     "text": [
      "Train on 311902 samples, validate on 77975 samples\n",
      "Epoch 1/60\n",
      "   256/311902 [..............................] - ETA: 7670s - loss: 1.0206 - acc: 0.6797"
     ]
    },
    {
     "ename": "KeyboardInterrupt",
     "evalue": "",
     "output_type": "error",
     "traceback": [
      "\u001b[0;31m---------------------------------------------------------------------------\u001b[0m",
      "\u001b[0;31mKeyboardInterrupt\u001b[0m                         Traceback (most recent call last)",
      "\u001b[0;32m<ipython-input-31-bfe8667b9322>\u001b[0m in \u001b[0;36m<module>\u001b[0;34m()\u001b[0m\n\u001b[1;32m      6\u001b[0m           \u001b[0mepochs\u001b[0m\u001b[0;34m=\u001b[0m\u001b[0mepochs\u001b[0m\u001b[0;34m,\u001b[0m\u001b[0;34m\u001b[0m\u001b[0m\n\u001b[1;32m      7\u001b[0m           \u001b[0mvalidation_data\u001b[0m\u001b[0;34m=\u001b[0m\u001b[0;34m(\u001b[0m\u001b[0mx_val\u001b[0m\u001b[0;34m,\u001b[0m \u001b[0my_val\u001b[0m\u001b[0;34m)\u001b[0m\u001b[0;34m,\u001b[0m\u001b[0;34m\u001b[0m\u001b[0m\n\u001b[0;32m----> 8\u001b[0;31m             callbacks=callbacks_list)\n\u001b[0m\u001b[1;32m      9\u001b[0m \u001b[0;34m\u001b[0m\u001b[0m\n\u001b[1;32m     10\u001b[0m \u001b[0mprint\u001b[0m\u001b[0;34m(\u001b[0m\u001b[0;34m\"Training time: \"\u001b[0m\u001b[0;34m,\u001b[0m \u001b[0mtime\u001b[0m\u001b[0;34m.\u001b[0m\u001b[0mtime\u001b[0m\u001b[0;34m(\u001b[0m\u001b[0;34m)\u001b[0m \u001b[0;34m-\u001b[0m \u001b[0mstart_time\u001b[0m\u001b[0;34m)\u001b[0m\u001b[0;34m\u001b[0m\u001b[0m\n",
      "\u001b[0;32m/home/harrygong/anaconda3/lib/python3.6/site-packages/keras/engine/training.py\u001b[0m in \u001b[0;36mfit\u001b[0;34m(self, x, y, batch_size, epochs, verbose, callbacks, validation_split, validation_data, shuffle, class_weight, sample_weight, initial_epoch, **kwargs)\u001b[0m\n\u001b[1;32m   1483\u001b[0m                               \u001b[0mval_f\u001b[0m\u001b[0;34m=\u001b[0m\u001b[0mval_f\u001b[0m\u001b[0;34m,\u001b[0m \u001b[0mval_ins\u001b[0m\u001b[0;34m=\u001b[0m\u001b[0mval_ins\u001b[0m\u001b[0;34m,\u001b[0m \u001b[0mshuffle\u001b[0m\u001b[0;34m=\u001b[0m\u001b[0mshuffle\u001b[0m\u001b[0;34m,\u001b[0m\u001b[0;34m\u001b[0m\u001b[0m\n\u001b[1;32m   1484\u001b[0m                               \u001b[0mcallback_metrics\u001b[0m\u001b[0;34m=\u001b[0m\u001b[0mcallback_metrics\u001b[0m\u001b[0;34m,\u001b[0m\u001b[0;34m\u001b[0m\u001b[0m\n\u001b[0;32m-> 1485\u001b[0;31m                               initial_epoch=initial_epoch)\n\u001b[0m\u001b[1;32m   1486\u001b[0m \u001b[0;34m\u001b[0m\u001b[0m\n\u001b[1;32m   1487\u001b[0m     \u001b[0;32mdef\u001b[0m \u001b[0mevaluate\u001b[0m\u001b[0;34m(\u001b[0m\u001b[0mself\u001b[0m\u001b[0;34m,\u001b[0m \u001b[0mx\u001b[0m\u001b[0;34m,\u001b[0m \u001b[0my\u001b[0m\u001b[0;34m,\u001b[0m \u001b[0mbatch_size\u001b[0m\u001b[0;34m=\u001b[0m\u001b[0;36m32\u001b[0m\u001b[0;34m,\u001b[0m \u001b[0mverbose\u001b[0m\u001b[0;34m=\u001b[0m\u001b[0;36m1\u001b[0m\u001b[0;34m,\u001b[0m \u001b[0msample_weight\u001b[0m\u001b[0;34m=\u001b[0m\u001b[0;32mNone\u001b[0m\u001b[0;34m)\u001b[0m\u001b[0;34m:\u001b[0m\u001b[0;34m\u001b[0m\u001b[0m\n",
      "\u001b[0;32m/home/harrygong/anaconda3/lib/python3.6/site-packages/keras/engine/training.py\u001b[0m in \u001b[0;36m_fit_loop\u001b[0;34m(self, f, ins, out_labels, batch_size, epochs, verbose, callbacks, val_f, val_ins, shuffle, callback_metrics, initial_epoch)\u001b[0m\n\u001b[1;32m   1138\u001b[0m                 \u001b[0mbatch_logs\u001b[0m\u001b[0;34m[\u001b[0m\u001b[0;34m'size'\u001b[0m\u001b[0;34m]\u001b[0m \u001b[0;34m=\u001b[0m \u001b[0mlen\u001b[0m\u001b[0;34m(\u001b[0m\u001b[0mbatch_ids\u001b[0m\u001b[0;34m)\u001b[0m\u001b[0;34m\u001b[0m\u001b[0m\n\u001b[1;32m   1139\u001b[0m                 \u001b[0mcallbacks\u001b[0m\u001b[0;34m.\u001b[0m\u001b[0mon_batch_begin\u001b[0m\u001b[0;34m(\u001b[0m\u001b[0mbatch_index\u001b[0m\u001b[0;34m,\u001b[0m \u001b[0mbatch_logs\u001b[0m\u001b[0;34m)\u001b[0m\u001b[0;34m\u001b[0m\u001b[0m\n\u001b[0;32m-> 1140\u001b[0;31m                 \u001b[0mouts\u001b[0m \u001b[0;34m=\u001b[0m \u001b[0mf\u001b[0m\u001b[0;34m(\u001b[0m\u001b[0mins_batch\u001b[0m\u001b[0;34m)\u001b[0m\u001b[0;34m\u001b[0m\u001b[0m\n\u001b[0m\u001b[1;32m   1141\u001b[0m                 \u001b[0;32mif\u001b[0m \u001b[0;32mnot\u001b[0m \u001b[0misinstance\u001b[0m\u001b[0;34m(\u001b[0m\u001b[0mouts\u001b[0m\u001b[0;34m,\u001b[0m \u001b[0mlist\u001b[0m\u001b[0;34m)\u001b[0m\u001b[0;34m:\u001b[0m\u001b[0;34m\u001b[0m\u001b[0m\n\u001b[1;32m   1142\u001b[0m                     \u001b[0mouts\u001b[0m \u001b[0;34m=\u001b[0m \u001b[0;34m[\u001b[0m\u001b[0mouts\u001b[0m\u001b[0;34m]\u001b[0m\u001b[0;34m\u001b[0m\u001b[0m\n",
      "\u001b[0;32m/home/harrygong/anaconda3/lib/python3.6/site-packages/keras/backend/tensorflow_backend.py\u001b[0m in \u001b[0;36m__call__\u001b[0;34m(self, inputs)\u001b[0m\n\u001b[1;32m   2071\u001b[0m         \u001b[0msession\u001b[0m \u001b[0;34m=\u001b[0m \u001b[0mget_session\u001b[0m\u001b[0;34m(\u001b[0m\u001b[0;34m)\u001b[0m\u001b[0;34m\u001b[0m\u001b[0m\n\u001b[1;32m   2072\u001b[0m         updated = session.run(self.outputs + [self.updates_op],\n\u001b[0;32m-> 2073\u001b[0;31m                               feed_dict=feed_dict)\n\u001b[0m\u001b[1;32m   2074\u001b[0m         \u001b[0;32mreturn\u001b[0m \u001b[0mupdated\u001b[0m\u001b[0;34m[\u001b[0m\u001b[0;34m:\u001b[0m\u001b[0mlen\u001b[0m\u001b[0;34m(\u001b[0m\u001b[0mself\u001b[0m\u001b[0;34m.\u001b[0m\u001b[0moutputs\u001b[0m\u001b[0;34m)\u001b[0m\u001b[0;34m]\u001b[0m\u001b[0;34m\u001b[0m\u001b[0m\n\u001b[1;32m   2075\u001b[0m \u001b[0;34m\u001b[0m\u001b[0m\n",
      "\u001b[0;32m/home/harrygong/anaconda3/lib/python3.6/site-packages/tensorflow/python/client/session.py\u001b[0m in \u001b[0;36mrun\u001b[0;34m(self, fetches, feed_dict, options, run_metadata)\u001b[0m\n\u001b[1;32m    787\u001b[0m     \u001b[0;32mtry\u001b[0m\u001b[0;34m:\u001b[0m\u001b[0;34m\u001b[0m\u001b[0m\n\u001b[1;32m    788\u001b[0m       result = self._run(None, fetches, feed_dict, options_ptr,\n\u001b[0;32m--> 789\u001b[0;31m                          run_metadata_ptr)\n\u001b[0m\u001b[1;32m    790\u001b[0m       \u001b[0;32mif\u001b[0m \u001b[0mrun_metadata\u001b[0m\u001b[0;34m:\u001b[0m\u001b[0;34m\u001b[0m\u001b[0m\n\u001b[1;32m    791\u001b[0m         \u001b[0mproto_data\u001b[0m \u001b[0;34m=\u001b[0m \u001b[0mtf_session\u001b[0m\u001b[0;34m.\u001b[0m\u001b[0mTF_GetBuffer\u001b[0m\u001b[0;34m(\u001b[0m\u001b[0mrun_metadata_ptr\u001b[0m\u001b[0;34m)\u001b[0m\u001b[0;34m\u001b[0m\u001b[0m\n",
      "\u001b[0;32m/home/harrygong/anaconda3/lib/python3.6/site-packages/tensorflow/python/client/session.py\u001b[0m in \u001b[0;36m_run\u001b[0;34m(self, handle, fetches, feed_dict, options, run_metadata)\u001b[0m\n\u001b[1;32m    995\u001b[0m     \u001b[0;32mif\u001b[0m \u001b[0mfinal_fetches\u001b[0m \u001b[0;32mor\u001b[0m \u001b[0mfinal_targets\u001b[0m\u001b[0;34m:\u001b[0m\u001b[0;34m\u001b[0m\u001b[0m\n\u001b[1;32m    996\u001b[0m       results = self._do_run(handle, final_targets, final_fetches,\n\u001b[0;32m--> 997\u001b[0;31m                              feed_dict_string, options, run_metadata)\n\u001b[0m\u001b[1;32m    998\u001b[0m     \u001b[0;32melse\u001b[0m\u001b[0;34m:\u001b[0m\u001b[0;34m\u001b[0m\u001b[0m\n\u001b[1;32m    999\u001b[0m       \u001b[0mresults\u001b[0m \u001b[0;34m=\u001b[0m \u001b[0;34m[\u001b[0m\u001b[0;34m]\u001b[0m\u001b[0;34m\u001b[0m\u001b[0m\n",
      "\u001b[0;32m/home/harrygong/anaconda3/lib/python3.6/site-packages/tensorflow/python/client/session.py\u001b[0m in \u001b[0;36m_do_run\u001b[0;34m(self, handle, target_list, fetch_list, feed_dict, options, run_metadata)\u001b[0m\n\u001b[1;32m   1130\u001b[0m     \u001b[0;32mif\u001b[0m \u001b[0mhandle\u001b[0m \u001b[0;32mis\u001b[0m \u001b[0;32mNone\u001b[0m\u001b[0;34m:\u001b[0m\u001b[0;34m\u001b[0m\u001b[0m\n\u001b[1;32m   1131\u001b[0m       return self._do_call(_run_fn, self._session, feed_dict, fetch_list,\n\u001b[0;32m-> 1132\u001b[0;31m                            target_list, options, run_metadata)\n\u001b[0m\u001b[1;32m   1133\u001b[0m     \u001b[0;32melse\u001b[0m\u001b[0;34m:\u001b[0m\u001b[0;34m\u001b[0m\u001b[0m\n\u001b[1;32m   1134\u001b[0m       return self._do_call(_prun_fn, self._session, handle, feed_dict,\n",
      "\u001b[0;32m/home/harrygong/anaconda3/lib/python3.6/site-packages/tensorflow/python/client/session.py\u001b[0m in \u001b[0;36m_do_call\u001b[0;34m(self, fn, *args)\u001b[0m\n\u001b[1;32m   1137\u001b[0m   \u001b[0;32mdef\u001b[0m \u001b[0m_do_call\u001b[0m\u001b[0;34m(\u001b[0m\u001b[0mself\u001b[0m\u001b[0;34m,\u001b[0m \u001b[0mfn\u001b[0m\u001b[0;34m,\u001b[0m \u001b[0;34m*\u001b[0m\u001b[0margs\u001b[0m\u001b[0;34m)\u001b[0m\u001b[0;34m:\u001b[0m\u001b[0;34m\u001b[0m\u001b[0m\n\u001b[1;32m   1138\u001b[0m     \u001b[0;32mtry\u001b[0m\u001b[0;34m:\u001b[0m\u001b[0;34m\u001b[0m\u001b[0m\n\u001b[0;32m-> 1139\u001b[0;31m       \u001b[0;32mreturn\u001b[0m \u001b[0mfn\u001b[0m\u001b[0;34m(\u001b[0m\u001b[0;34m*\u001b[0m\u001b[0margs\u001b[0m\u001b[0;34m)\u001b[0m\u001b[0;34m\u001b[0m\u001b[0m\n\u001b[0m\u001b[1;32m   1140\u001b[0m     \u001b[0;32mexcept\u001b[0m \u001b[0merrors\u001b[0m\u001b[0;34m.\u001b[0m\u001b[0mOpError\u001b[0m \u001b[0;32mas\u001b[0m \u001b[0me\u001b[0m\u001b[0;34m:\u001b[0m\u001b[0;34m\u001b[0m\u001b[0m\n\u001b[1;32m   1141\u001b[0m       \u001b[0mmessage\u001b[0m \u001b[0;34m=\u001b[0m \u001b[0mcompat\u001b[0m\u001b[0;34m.\u001b[0m\u001b[0mas_text\u001b[0m\u001b[0;34m(\u001b[0m\u001b[0me\u001b[0m\u001b[0;34m.\u001b[0m\u001b[0mmessage\u001b[0m\u001b[0;34m)\u001b[0m\u001b[0;34m\u001b[0m\u001b[0m\n",
      "\u001b[0;32m/home/harrygong/anaconda3/lib/python3.6/site-packages/tensorflow/python/client/session.py\u001b[0m in \u001b[0;36m_run_fn\u001b[0;34m(session, feed_dict, fetch_list, target_list, options, run_metadata)\u001b[0m\n\u001b[1;32m   1119\u001b[0m         return tf_session.TF_Run(session, options,\n\u001b[1;32m   1120\u001b[0m                                  \u001b[0mfeed_dict\u001b[0m\u001b[0;34m,\u001b[0m \u001b[0mfetch_list\u001b[0m\u001b[0;34m,\u001b[0m \u001b[0mtarget_list\u001b[0m\u001b[0;34m,\u001b[0m\u001b[0;34m\u001b[0m\u001b[0m\n\u001b[0;32m-> 1121\u001b[0;31m                                  status, run_metadata)\n\u001b[0m\u001b[1;32m   1122\u001b[0m \u001b[0;34m\u001b[0m\u001b[0m\n\u001b[1;32m   1123\u001b[0m     \u001b[0;32mdef\u001b[0m \u001b[0m_prun_fn\u001b[0m\u001b[0;34m(\u001b[0m\u001b[0msession\u001b[0m\u001b[0;34m,\u001b[0m \u001b[0mhandle\u001b[0m\u001b[0;34m,\u001b[0m \u001b[0mfeed_dict\u001b[0m\u001b[0;34m,\u001b[0m \u001b[0mfetch_list\u001b[0m\u001b[0;34m)\u001b[0m\u001b[0;34m:\u001b[0m\u001b[0;34m\u001b[0m\u001b[0m\n",
      "\u001b[0;31mKeyboardInterrupt\u001b[0m: "
     ]
    }
   ],
   "source": [
    "import time \n",
    "start_time = time.time()\n",
    "\n",
    "model_attention.fit(x_train, y_train,\n",
    "          batch_size=128,\n",
    "          epochs=epochs,\n",
    "          validation_data=(x_val, y_val),\n",
    "            callbacks=callbacks_list)\n",
    "\n",
    "print(\"Training time: \", time.time() - start_time)"
   ]
  },
  {
   "cell_type": "markdown",
   "metadata": {},
   "source": [
    "### Save the model "
   ]
  },
  {
   "cell_type": "code",
   "execution_count": null,
   "metadata": {
    "collapsed": true
   },
   "outputs": [],
   "source": [
    "model_conv_rnn.save('models/Attention.h5')"
   ]
  }
 ],
 "metadata": {
  "kernelspec": {
   "display_name": "Python 3",
   "language": "python",
   "name": "python3"
  },
  "language_info": {
   "codemirror_mode": {
    "name": "ipython",
    "version": 3
   },
   "file_extension": ".py",
   "mimetype": "text/x-python",
   "name": "python",
   "nbconvert_exporter": "python",
   "pygments_lexer": "ipython3",
   "version": "3.6.0"
  }
 },
 "nbformat": 4,
 "nbformat_minor": 2
}
