{
 "cells": [
  {
   "cell_type": "code",
   "execution_count": 26,
   "metadata": {
    "collapsed": false
   },
   "outputs": [],
   "source": [
    "import numpy as np\n",
    "import pickle\n",
    "\n",
    "# import data.load\n",
    "from metrics.accuracy import conlleval\n",
    "\n",
    "from keras.models import Sequential\n",
    "from keras.layers.embeddings import Embedding\n",
    "from keras.layers.recurrent import SimpleRNN, GRU, LSTM\n",
    "from keras.layers.core import Dense, Dropout\n",
    "from keras.layers.wrappers import TimeDistributed\n",
    "from keras.layers import Convolution1D, MaxPooling1D\n",
    "\n",
    "import progressbar"
   ]
  },
  {
   "cell_type": "markdown",
   "metadata": {},
   "source": [
    "## Load the data"
   ]
  },
  {
   "cell_type": "code",
   "execution_count": 27,
   "metadata": {
    "collapsed": true
   },
   "outputs": [],
   "source": [
    "### Load Data\n",
    "with open('atis.pkl', 'rb') as f:\n",
    "    train_set, valid_set, test_set, dicts = pickle.load(f)\n",
    "\n",
    "w2idx, ne2idx, labels2idx = dicts['words2idx'], dicts['tables2idx'], dicts['labels2idx']\n",
    "\n",
    "# Create index to word/label dicts\n",
    "idx2w  = {w2idx[k]:k for k in w2idx}\n",
    "idx2ne = {ne2idx[k]:k for k in ne2idx}\n",
    "idx2la = {labels2idx[k]:k for k in labels2idx}"
   ]
  },
  {
   "cell_type": "code",
   "execution_count": 28,
   "metadata": {
    "collapsed": false
   },
   "outputs": [
    {
     "name": "stdout",
     "output_type": "stream",
     "text": [
      "3 19915\n"
     ]
    }
   ],
   "source": [
    "print(len(train_set), len(train_set[0]))"
   ]
  },
  {
   "cell_type": "code",
   "execution_count": 29,
   "metadata": {
    "collapsed": true
   },
   "outputs": [],
   "source": [
    "### Ground truths etc for conlleval\n",
    "train_x, train_ne, train_label = train_set\n",
    "val_x, val_ne, val_label = valid_set\n",
    "\n",
    "words_val = [ list(map(lambda x: idx2w[x], w)) for w in val_x]\n",
    "groundtruth_val = [ list(map(lambda x: idx2la[x], y)) for y in val_label]\n",
    "words_train = [ list(map(lambda x: idx2w[x], w)) for w in train_x]\n",
    "groundtruth_train = [ list(map(lambda x: idx2la[x], y)) for y in train_label]"
   ]
  },
  {
   "cell_type": "code",
   "execution_count": 30,
   "metadata": {
    "collapsed": false
   },
   "outputs": [
    {
     "name": "stdout",
     "output_type": "stream",
     "text": [
      "19915\n"
     ]
    }
   ],
   "source": [
    "print(len(train_label))"
   ]
  },
  {
   "cell_type": "markdown",
   "metadata": {},
   "source": [
    "## Build the model"
   ]
  },
  {
   "cell_type": "code",
   "execution_count": 31,
   "metadata": {
    "collapsed": true
   },
   "outputs": [],
   "source": [
    "### Model\n",
    "n_classes = len(idx2la)\n",
    "n_vocab = len(idx2w)"
   ]
  },
  {
   "cell_type": "code",
   "execution_count": 32,
   "metadata": {
    "collapsed": false
   },
   "outputs": [
    {
     "name": "stdout",
     "output_type": "stream",
     "text": [
      "_________________________________________________________________\n",
      "Layer (type)                 Output Shape              Param #   \n",
      "=================================================================\n",
      "embedding_4 (Embedding)      (None, None, 100)         57200     \n",
      "_________________________________________________________________\n",
      "conv1d_4 (Conv1D)            (None, None, 64)          32064     \n",
      "_________________________________________________________________\n",
      "dropout_4 (Dropout)          (None, None, 64)          0         \n",
      "_________________________________________________________________\n",
      "gru_4 (GRU)                  (None, None, 100)         49500     \n",
      "_________________________________________________________________\n",
      "time_distributed_4 (TimeDist (None, None, 127)         12827     \n",
      "=================================================================\n",
      "Total params: 151,591.0\n",
      "Trainable params: 151,591.0\n",
      "Non-trainable params: 0.0\n",
      "_________________________________________________________________\n"
     ]
    }
   ],
   "source": [
    "# Define model\n",
    "model = Sequential()\n",
    "model.add(Embedding(n_vocab,100))\n",
    "model.add(Convolution1D(64,5,padding='same', activation='relu'))\n",
    "model.add(Dropout(0.25))\n",
    "model.add(GRU(100,return_sequences=True))\n",
    "model.add(TimeDistributed(Dense(n_classes, activation='softmax')))\n",
    "model.compile('rmsprop', 'categorical_crossentropy')\n",
    "\n",
    "model.summary()"
   ]
  },
  {
   "cell_type": "markdown",
   "metadata": {},
   "source": [
    "## Train the model "
   ]
  },
  {
   "cell_type": "code",
   "execution_count": null,
   "metadata": {
    "collapsed": true
   },
   "outputs": [],
   "source": [
    "### Training\n",
    "n_epochs = 100\n",
    "\n",
    "train_f_scores = []\n",
    "val_f_scores = []\n",
    "best_val_f1 = 0"
   ]
  },
  {
   "cell_type": "code",
   "execution_count": null,
   "metadata": {
    "collapsed": false
   },
   "outputs": [
    {
     "name": "stderr",
     "output_type": "stream",
     "text": [
      "\r",
      "N/A% (0 of 19915) |                                         | Elapsed Time: 0:00:00 ETA:  --:--:--"
     ]
    },
    {
     "name": "stdout",
     "output_type": "stream",
     "text": [
      "Epoch 0\n",
      "Training =>\n"
     ]
    },
    {
     "name": "stderr",
     "output_type": "stream",
     "text": [
      "100% (19915 of 19915) |######################################| Elapsed Time: 0:15:28 Time: 0:15:28\n",
      "N/A% (0 of 4975) |                                          | Elapsed Time: 0:00:00 ETA:  --:--:--"
     ]
    },
    {
     "name": "stdout",
     "output_type": "stream",
     "text": [
      "Loss = 0.27927522176196096, Precision = 87.84, Recall = 88.52, F1 = 88.18\n",
      "Validating =>\n"
     ]
    },
    {
     "name": "stderr",
     "output_type": "stream",
     "text": [
      "100% (4975 of 4975) |########################################| Elapsed Time: 0:01:32 Time: 0:01:32\n"
     ]
    },
    {
     "name": "stdout",
     "output_type": "stream",
     "text": [
      "Loss = 0.11787198073647803, Precision = 93.58, Recall = 94.32, F1 = 93.95\n"
     ]
    },
    {
     "name": "stderr",
     "output_type": "stream",
     "text": [
      "  0% (1 of 19915) |                                           | Elapsed Time: 0:00:00 ETA: 0:33:28"
     ]
    },
    {
     "name": "stdout",
     "output_type": "stream",
     "text": [
      "Best validation F1 score = 93.95\n",
      "\n",
      "Epoch 1\n",
      "Training =>\n"
     ]
    },
    {
     "name": "stderr",
     "output_type": "stream",
     "text": [
      "100% (19915 of 19915) |######################################| Elapsed Time: 0:15:44 Time: 0:15:44\n",
      "  0% (6 of 4975) |                                            | Elapsed Time: 0:00:00 ETA: 0:01:35"
     ]
    },
    {
     "name": "stdout",
     "output_type": "stream",
     "text": [
      "Loss = 0.10891108614985474, Precision = 96.84, Recall = 96.94, F1 = 96.89\n",
      "Validating =>\n"
     ]
    },
    {
     "name": "stderr",
     "output_type": "stream",
     "text": [
      "100% (4975 of 4975) |########################################| Elapsed Time: 0:01:09 Time: 0:01:09\n",
      "  0% (3 of 19915) |                                           | Elapsed Time: 0:00:00 ETA: 0:14:56"
     ]
    },
    {
     "name": "stdout",
     "output_type": "stream",
     "text": [
      "Loss = 0.07641706448149374, Precision = 96.7, Recall = 97.01, F1 = 96.85\n",
      "Best validation F1 score = 96.85\n",
      "\n",
      "Epoch 2\n",
      "Training =>\n"
     ]
    },
    {
     "name": "stderr",
     "output_type": "stream",
     "text": [
      "100% (19915 of 19915) |######################################| Elapsed Time: 7:47:07 Time: 7:47:07\n",
      "  0% (2 of 4975) |                                            | Elapsed Time: 0:00:00 ETA: 0:04:14"
     ]
    },
    {
     "name": "stdout",
     "output_type": "stream",
     "text": [
      "Loss = 0.0813320931131975, Precision = 97.97, Recall = 97.98, F1 = 97.98\n",
      "Validating =>\n"
     ]
    },
    {
     "name": "stderr",
     "output_type": "stream",
     "text": [
      "100% (4975 of 4975) |########################################| Elapsed Time: 0:01:12 Time: 0:01:12\n",
      "N/A% (0 of 19915) |                                         | Elapsed Time: 0:00:00 ETA:  --:--:--"
     ]
    },
    {
     "name": "stdout",
     "output_type": "stream",
     "text": [
      "Loss = 0.06107405243222025, Precision = 97.67, Recall = 97.97, F1 = 97.82\n",
      "Best validation F1 score = 97.82\n",
      "\n",
      "Epoch 3\n",
      "Training =>\n"
     ]
    },
    {
     "name": "stderr",
     "output_type": "stream",
     "text": [
      "100% (19915 of 19915) |######################################| Elapsed Time: 0:14:54 Time: 0:14:54\n",
      "  0% (5 of 4975) |                                            | Elapsed Time: 0:00:00 ETA: 0:01:40"
     ]
    },
    {
     "name": "stdout",
     "output_type": "stream",
     "text": [
      "Loss = 0.06831356459657757, Precision = 98.34, Recall = 98.46, F1 = 98.4\n",
      "Validating =>\n"
     ]
    },
    {
     "name": "stderr",
     "output_type": "stream",
     "text": [
      "100% (4975 of 4975) |########################################| Elapsed Time: 0:01:12 Time: 0:01:12\n",
      "  0% (3 of 19915) |                                           | Elapsed Time: 0:00:00 ETA: 0:15:59"
     ]
    },
    {
     "name": "stdout",
     "output_type": "stream",
     "text": [
      "Loss = 0.053656706129711754, Precision = 97.89, Recall = 98.27, F1 = 98.08\n",
      "Best validation F1 score = 98.08\n",
      "\n",
      "Epoch 4\n",
      "Training =>\n"
     ]
    },
    {
     "name": "stderr",
     "output_type": "stream",
     "text": [
      "100% (19915 of 19915) |######################################| Elapsed Time: 0:14:25 Time: 0:14:25\n",
      "  0% (6 of 4975) |                                            | Elapsed Time: 0:00:00 ETA: 0:01:33"
     ]
    },
    {
     "name": "stdout",
     "output_type": "stream",
     "text": [
      "Loss = 0.06168740193716903, Precision = 98.54, Recall = 98.72, F1 = 98.63\n",
      "Validating =>\n"
     ]
    },
    {
     "name": "stderr",
     "output_type": "stream",
     "text": [
      "100% (4975 of 4975) |########################################| Elapsed Time: 0:01:11 Time: 0:01:11\n",
      "  0% (2 of 19915) |                                           | Elapsed Time: 0:00:00 ETA: 0:18:55"
     ]
    },
    {
     "name": "stdout",
     "output_type": "stream",
     "text": [
      "Loss = 0.047191411567629994, Precision = 98.13, Recall = 98.39, F1 = 98.26\n",
      "Best validation F1 score = 98.26\n",
      "\n",
      "Epoch 5\n",
      "Training =>\n"
     ]
    },
    {
     "name": "stderr",
     "output_type": "stream",
     "text": [
      "100% (19915 of 19915) |######################################| Elapsed Time: 0:40:20 Time: 0:40:20\n",
      "  0% (6 of 4975) |                                            | Elapsed Time: 0:00:00 ETA: 0:01:36"
     ]
    },
    {
     "name": "stdout",
     "output_type": "stream",
     "text": [
      "Loss = 0.058055192279933866, Precision = 98.63, Recall = 98.76, F1 = 98.69\n",
      "Validating =>\n"
     ]
    },
    {
     "name": "stderr",
     "output_type": "stream",
     "text": [
      "100% (4975 of 4975) |########################################| Elapsed Time: 0:01:08 Time: 0:01:08\n",
      "N/A% (0 of 19915) |                                         | Elapsed Time: 0:00:00 ETA:  --:--:--"
     ]
    },
    {
     "name": "stdout",
     "output_type": "stream",
     "text": [
      "Loss = 0.044672745991632214, Precision = 98.27, Recall = 98.5, F1 = 98.38\n",
      "Best validation F1 score = 98.38\n",
      "\n",
      "Epoch 6\n",
      "Training =>\n"
     ]
    },
    {
     "name": "stderr",
     "output_type": "stream",
     "text": [
      "100% (19915 of 19915) |######################################| Elapsed Time: 0:14:43 Time: 0:14:43\n",
      "  0% (6 of 4975) |                                            | Elapsed Time: 0:00:00 ETA: 0:01:34"
     ]
    },
    {
     "name": "stdout",
     "output_type": "stream",
     "text": [
      "Loss = 0.05502442667854781, Precision = 98.74, Recall = 98.85, F1 = 98.79\n",
      "Validating =>\n"
     ]
    },
    {
     "name": "stderr",
     "output_type": "stream",
     "text": [
      "100% (4975 of 4975) |########################################| Elapsed Time: 0:01:08 Time: 0:01:08\n",
      "  0% (3 of 19915) |                                           | Elapsed Time: 0:00:00 ETA: 0:15:10"
     ]
    },
    {
     "name": "stdout",
     "output_type": "stream",
     "text": [
      "Loss = 0.04175209885045686, Precision = 98.57, Recall = 98.66, F1 = 98.62\n",
      "Best validation F1 score = 98.62\n",
      "\n",
      "Epoch 7\n",
      "Training =>\n"
     ]
    },
    {
     "name": "stderr",
     "output_type": "stream",
     "text": [
      "100% (19915 of 19915) |######################################| Elapsed Time: 0:14:26 Time: 0:14:26\n",
      "  0% (6 of 4975) |                                            | Elapsed Time: 0:00:00 ETA: 0:01:34"
     ]
    },
    {
     "name": "stdout",
     "output_type": "stream",
     "text": [
      "Loss = 0.05138715270264499, Precision = 98.88, Recall = 98.96, F1 = 98.92\n",
      "Validating =>\n"
     ]
    },
    {
     "name": "stderr",
     "output_type": "stream",
     "text": [
      "100% (4975 of 4975) |########################################| Elapsed Time: 0:01:10 Time: 0:01:10\n",
      "  0% (3 of 19915) |                                           | Elapsed Time: 0:00:00 ETA: 0:15:27"
     ]
    },
    {
     "name": "stdout",
     "output_type": "stream",
     "text": [
      "Loss = 0.03949066721827919, Precision = 98.57, Recall = 98.76, F1 = 98.67\n",
      "Best validation F1 score = 98.67\n",
      "\n",
      "Epoch 8\n",
      "Training =>\n"
     ]
    },
    {
     "name": "stderr",
     "output_type": "stream",
     "text": [
      "100% (19915 of 19915) |######################################| Elapsed Time: 0:14:32 Time: 0:14:32\n",
      "  0% (5 of 4975) |                                            | Elapsed Time: 0:00:00 ETA: 0:01:40"
     ]
    },
    {
     "name": "stdout",
     "output_type": "stream",
     "text": [
      "Loss = 0.05025689134108131, Precision = 98.87, Recall = 98.96, F1 = 98.91\n",
      "Validating =>\n"
     ]
    },
    {
     "name": "stderr",
     "output_type": "stream",
     "text": [
      "100% (4975 of 4975) |########################################| Elapsed Time: 0:01:11 Time: 0:01:11\n",
      "  0% (3 of 19915) |                                           | Elapsed Time: 0:00:00 ETA: 0:16:22"
     ]
    },
    {
     "name": "stdout",
     "output_type": "stream",
     "text": [
      "Loss = 0.03824312112403959, Precision = 98.7, Recall = 98.95, F1 = 98.82\n",
      "Best validation F1 score = 98.82\n",
      "\n",
      "Epoch 9\n",
      "Training =>\n"
     ]
    },
    {
     "name": "stderr",
     "output_type": "stream",
     "text": [
      " 30% (6010 of 19915) |############                            | Elapsed Time: 0:06:36 ETA: 0:14:02"
     ]
    }
   ],
   "source": [
    "for i in range(n_epochs):\n",
    "    print(\"Epoch {}\".format(i))\n",
    "    \n",
    "    print(\"Training =>\")\n",
    "    train_pred_label = []\n",
    "    avgLoss = 0\n",
    "    \n",
    "    bar = progressbar.ProgressBar(max_value=len(train_x))\n",
    "    for n_batch, sent in bar(enumerate(train_x)):\n",
    "        label = train_label[n_batch]\n",
    "        label = np.eye(n_classes)[label][np.newaxis,:]\n",
    "        sent = sent[np.newaxis,:]\n",
    "        \n",
    "        if sent.shape[1] > 1: #some bug in keras\n",
    "            loss = model.train_on_batch(sent, label)\n",
    "            avgLoss += loss\n",
    "\n",
    "        pred = model.predict_on_batch(sent)\n",
    "        pred = np.argmax(pred,-1)[0]\n",
    "        train_pred_label.append(pred)\n",
    "\n",
    "    avgLoss = avgLoss/n_batch\n",
    "    \n",
    "    predword_train = [ list(map(lambda x: idx2la[x], y)) for y in train_pred_label]\n",
    "    con_dict = conlleval(predword_train, groundtruth_train, words_train, 'r.txt')\n",
    "    train_f_scores.append(con_dict['f1'])\n",
    "    print('Loss = {}, Precision = {}, Recall = {}, F1 = {}'.format(avgLoss, con_dict['r'], con_dict['p'], con_dict['f1']))\n",
    "    \n",
    "    \n",
    "    print(\"Validating =>\")\n",
    "    \n",
    "    val_pred_label = []\n",
    "    avgLoss = 0\n",
    "    \n",
    "    bar = progressbar.ProgressBar(max_value=len(val_x))\n",
    "    for n_batch, sent in bar(enumerate(val_x)):\n",
    "        label = val_label[n_batch]\n",
    "        label = np.eye(n_classes)[label][np.newaxis,:]\n",
    "        sent = sent[np.newaxis,:]\n",
    "        \n",
    "        if sent.shape[1] > 1: #some bug in keras\n",
    "            loss = model.test_on_batch(sent, label)\n",
    "            avgLoss += loss\n",
    "\n",
    "        pred = model.predict_on_batch(sent)\n",
    "        pred = np.argmax(pred,-1)[0]\n",
    "        val_pred_label.append(pred)\n",
    "\n",
    "    avgLoss = avgLoss/n_batch\n",
    "    \n",
    "    predword_val = [ list(map(lambda x: idx2la[x], y)) for y in val_pred_label]\n",
    "    con_dict = conlleval(predword_val, groundtruth_val, words_val, 'r.txt')\n",
    "    val_f_scores.append(con_dict['f1'])\n",
    "    \n",
    "    print('Loss = {}, Precision = {}, Recall = {}, F1 = {}'.format(avgLoss, con_dict['r'], con_dict['p'], con_dict['f1']))\n",
    "\n",
    "    if con_dict['f1'] > best_val_f1:\n",
    "        best_val_f1 = con_dict['f1']\n",
    "        open('model_architecture.json','w').write(model.to_json())\n",
    "        model.save_weights('best_model_weights.h5',overwrite=True)\n",
    "        print(\"Best validation F1 score = {}\".format(best_val_f1))\n",
    "    print()\n",
    "    "
   ]
  }
 ],
 "metadata": {
  "kernelspec": {
   "display_name": "Python [default]",
   "language": "python",
   "name": "python3"
  },
  "language_info": {
   "codemirror_mode": {
    "name": "ipython",
    "version": 3
   },
   "file_extension": ".py",
   "mimetype": "text/x-python",
   "name": "python",
   "nbconvert_exporter": "python",
   "pygments_lexer": "ipython3",
   "version": "3.5.2"
  }
 },
 "nbformat": 4,
 "nbformat_minor": 2
}
