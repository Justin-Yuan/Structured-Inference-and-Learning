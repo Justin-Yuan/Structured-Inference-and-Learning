{
 "cells": [
  {
   "cell_type": "markdown",
   "metadata": {},
   "source": [
    "## Practical 1: word2vec\n",
    "<p>Oxford CS - Deep NLP 2017<br>\n",
    "https://www.cs.ox.ac.uk/teaching/courses/2016-2017/dl/</p>\n",
    "<p>[Yannis Assael, Brendan Shillingford, Chris Dyer]</p>"
   ]
  },
  {
   "cell_type": "markdown",
   "metadata": {},
   "source": [
    "This practical is presented as an IPython Notebook, with the code written for recent versions of **Python 3**. The code in this practical will not work with Python 2 unless you modify it. If you are using your own Python installation, ensure you have a setup identical to that described in the installation shell script (which is intended for use with the department lab machines). We will be unable to support installation on personal machines due to time constraints, so please use the lab machines and the setup script if you are unfamiliar with how to install Anaconda.\n",
    "\n",
    "To execute a notebook cell, press `shift-enter`. The return value of the last command will be displayed, if it is not `None`.\n",
    "\n",
    "Potentially useful library documentation, references, and resources:\n",
    "\n",
    "* IPython notebooks: <https://ipython.org/ipython-doc/3/notebook/notebook.html#introduction>\n",
    "* Numpy numerical array library: <https://docs.scipy.org/doc/>\n",
    "* Gensim's word2vec: <https://radimrehurek.com/gensim/models/word2vec.html>\n",
    "* Bokeh interactive plots: <http://bokeh.pydata.org/en/latest/> (we provide plotting code here, but click the thumbnails for more examples to copy-paste)\n",
    "* scikit-learn ML library (aka `sklearn`): <http://scikit-learn.org/stable/documentation.html>\n",
    "* nltk NLP toolkit: <http://www.nltk.org/>\n",
    "* tutorial for processing xml in python using `lxml`: <http://lxml.de/tutorial.html> (we did this for you below, but in case you need it in the future)"
   ]
  },
  {
   "cell_type": "code",
   "execution_count": 1,
   "metadata": {
    "collapsed": false
   },
   "outputs": [],
   "source": [
    "import numpy as np\n",
    "import os\n",
    "from random import shuffle\n",
    "import re"
   ]
  },
  {
   "cell_type": "code",
   "execution_count": 2,
   "metadata": {
    "collapsed": false
   },
   "outputs": [
    {
     "data": {
      "text/html": [
       "\n",
       "    <div class=\"bk-root\">\n",
       "        <a href=\"http://bokeh.pydata.org\" target=\"_blank\" class=\"bk-logo bk-logo-small bk-logo-notebook\"></a>\n",
       "        <span id=\"cc90d504-243b-4baf-be18-0eb350a069e0\">Loading BokehJS ...</span>\n",
       "    </div>"
      ]
     },
     "metadata": {},
     "output_type": "display_data"
    },
    {
     "data": {
      "application/javascript": [
       "\n",
       "(function(global) {\n",
       "  function now() {\n",
       "    return new Date();\n",
       "  }\n",
       "\n",
       "  var force = true;\n",
       "\n",
       "  if (typeof (window._bokeh_onload_callbacks) === \"undefined\" || force === true) {\n",
       "    window._bokeh_onload_callbacks = [];\n",
       "    window._bokeh_is_loading = undefined;\n",
       "  }\n",
       "\n",
       "\n",
       "  \n",
       "  if (typeof (window._bokeh_timeout) === \"undefined\" || force === true) {\n",
       "    window._bokeh_timeout = Date.now() + 5000;\n",
       "    window._bokeh_failed_load = false;\n",
       "  }\n",
       "\n",
       "  var NB_LOAD_WARNING = {'data': {'text/html':\n",
       "     \"<div style='background-color: #fdd'>\\n\"+\n",
       "     \"<p>\\n\"+\n",
       "     \"BokehJS does not appear to have successfully loaded. If loading BokehJS from CDN, this \\n\"+\n",
       "     \"may be due to a slow or bad network connection. Possible fixes:\\n\"+\n",
       "     \"</p>\\n\"+\n",
       "     \"<ul>\\n\"+\n",
       "     \"<li>re-rerun `output_notebook()` to attempt to load from CDN again, or</li>\\n\"+\n",
       "     \"<li>use INLINE resources instead, as so:</li>\\n\"+\n",
       "     \"</ul>\\n\"+\n",
       "     \"<code>\\n\"+\n",
       "     \"from bokeh.resources import INLINE\\n\"+\n",
       "     \"output_notebook(resources=INLINE)\\n\"+\n",
       "     \"</code>\\n\"+\n",
       "     \"</div>\"}};\n",
       "\n",
       "  function display_loaded() {\n",
       "    if (window.Bokeh !== undefined) {\n",
       "      document.getElementById(\"cc90d504-243b-4baf-be18-0eb350a069e0\").textContent = \"BokehJS successfully loaded.\";\n",
       "    } else if (Date.now() < window._bokeh_timeout) {\n",
       "      setTimeout(display_loaded, 100)\n",
       "    }\n",
       "  }\n",
       "\n",
       "  function run_callbacks() {\n",
       "    window._bokeh_onload_callbacks.forEach(function(callback) { callback() });\n",
       "    delete window._bokeh_onload_callbacks\n",
       "    console.info(\"Bokeh: all callbacks have finished\");\n",
       "  }\n",
       "\n",
       "  function load_libs(js_urls, callback) {\n",
       "    window._bokeh_onload_callbacks.push(callback);\n",
       "    if (window._bokeh_is_loading > 0) {\n",
       "      console.log(\"Bokeh: BokehJS is being loaded, scheduling callback at\", now());\n",
       "      return null;\n",
       "    }\n",
       "    if (js_urls == null || js_urls.length === 0) {\n",
       "      run_callbacks();\n",
       "      return null;\n",
       "    }\n",
       "    console.log(\"Bokeh: BokehJS not loaded, scheduling load and callback at\", now());\n",
       "    window._bokeh_is_loading = js_urls.length;\n",
       "    for (var i = 0; i < js_urls.length; i++) {\n",
       "      var url = js_urls[i];\n",
       "      var s = document.createElement('script');\n",
       "      s.src = url;\n",
       "      s.async = false;\n",
       "      s.onreadystatechange = s.onload = function() {\n",
       "        window._bokeh_is_loading--;\n",
       "        if (window._bokeh_is_loading === 0) {\n",
       "          console.log(\"Bokeh: all BokehJS libraries loaded\");\n",
       "          run_callbacks()\n",
       "        }\n",
       "      };\n",
       "      s.onerror = function() {\n",
       "        console.warn(\"failed to load library \" + url);\n",
       "      };\n",
       "      console.log(\"Bokeh: injecting script tag for BokehJS library: \", url);\n",
       "      document.getElementsByTagName(\"head\")[0].appendChild(s);\n",
       "    }\n",
       "  };var element = document.getElementById(\"cc90d504-243b-4baf-be18-0eb350a069e0\");\n",
       "  if (element == null) {\n",
       "    console.log(\"Bokeh: ERROR: autoload.js configured with elementid 'cc90d504-243b-4baf-be18-0eb350a069e0' but no matching script tag was found. \")\n",
       "    return false;\n",
       "  }\n",
       "\n",
       "  var js_urls = [\"https://cdn.pydata.org/bokeh/release/bokeh-0.12.4.min.js\", \"https://cdn.pydata.org/bokeh/release/bokeh-widgets-0.12.4.min.js\"];\n",
       "\n",
       "  var inline_js = [\n",
       "    function(Bokeh) {\n",
       "      Bokeh.set_log_level(\"info\");\n",
       "    },\n",
       "    \n",
       "    function(Bokeh) {\n",
       "      \n",
       "      document.getElementById(\"cc90d504-243b-4baf-be18-0eb350a069e0\").textContent = \"BokehJS is loading...\";\n",
       "    },\n",
       "    function(Bokeh) {\n",
       "      console.log(\"Bokeh: injecting CSS: https://cdn.pydata.org/bokeh/release/bokeh-0.12.4.min.css\");\n",
       "      Bokeh.embed.inject_css(\"https://cdn.pydata.org/bokeh/release/bokeh-0.12.4.min.css\");\n",
       "      console.log(\"Bokeh: injecting CSS: https://cdn.pydata.org/bokeh/release/bokeh-widgets-0.12.4.min.css\");\n",
       "      Bokeh.embed.inject_css(\"https://cdn.pydata.org/bokeh/release/bokeh-widgets-0.12.4.min.css\");\n",
       "    }\n",
       "  ];\n",
       "\n",
       "  function run_inline_js() {\n",
       "    \n",
       "    if ((window.Bokeh !== undefined) || (force === true)) {\n",
       "      for (var i = 0; i < inline_js.length; i++) {\n",
       "        inline_js[i](window.Bokeh);\n",
       "      }if (force === true) {\n",
       "        display_loaded();\n",
       "      }} else if (Date.now() < window._bokeh_timeout) {\n",
       "      setTimeout(run_inline_js, 100);\n",
       "    } else if (!window._bokeh_failed_load) {\n",
       "      console.log(\"Bokeh: BokehJS failed to load within specified timeout.\");\n",
       "      window._bokeh_failed_load = true;\n",
       "    } else if (force !== true) {\n",
       "      var cell = $(document.getElementById(\"cc90d504-243b-4baf-be18-0eb350a069e0\")).parents('.cell').data().cell;\n",
       "      cell.output_area.append_execute_result(NB_LOAD_WARNING)\n",
       "    }\n",
       "\n",
       "  }\n",
       "\n",
       "  if (window._bokeh_is_loading === 0) {\n",
       "    console.log(\"Bokeh: BokehJS loaded, going straight to plotting\");\n",
       "    run_inline_js();\n",
       "  } else {\n",
       "    load_libs(js_urls, function() {\n",
       "      console.log(\"Bokeh: BokehJS plotting callback run at\", now());\n",
       "      run_inline_js();\n",
       "    });\n",
       "  }\n",
       "}(this));"
      ]
     },
     "metadata": {},
     "output_type": "display_data"
    }
   ],
   "source": [
    "from bokeh.models import ColumnDataSource, LabelSet\n",
    "from bokeh.plotting import figure, show, output_file\n",
    "from bokeh.io import output_notebook\n",
    "output_notebook()"
   ]
  },
  {
   "cell_type": "markdown",
   "metadata": {},
   "source": [
    "### Part 0: Download the TED dataset"
   ]
  },
  {
   "cell_type": "code",
   "execution_count": 3,
   "metadata": {
    "collapsed": false
   },
   "outputs": [],
   "source": [
    "import urllib.request\n",
    "import zipfile\n",
    "import lxml.etree"
   ]
  },
  {
   "cell_type": "code",
   "execution_count": 10,
   "metadata": {
    "collapsed": false
   },
   "outputs": [],
   "source": [
    "# Download the dataset if it's not already there: this may take a minute as it is 75MB\n",
    "if not os.path.isfile('ted_en-20160408.zip'):\n",
    "    urllib.request.urlretrieve(\"https://wit3.fbk.eu/get.php?path=XML_releases/xml/ted_en-20160408.zip&filename=ted_en-20160408.zip\", filename=\"ted_en-20160408.zip\")"
   ]
  },
  {
   "cell_type": "code",
   "execution_count": 11,
   "metadata": {
    "collapsed": true
   },
   "outputs": [],
   "source": [
    "# For now, we're only interested in the subtitle text, so let's extract that from the XML:\n",
    "with zipfile.ZipFile('ted_en-20160408.zip', 'r') as z:\n",
    "    doc = lxml.etree.parse(z.open('ted_en-20160408.xml', 'r'))\n",
    "input_text = '\\n'.join(doc.xpath('//content/text()'))\n",
    "del doc"
   ]
  },
  {
   "cell_type": "code",
   "execution_count": 16,
   "metadata": {
    "collapsed": false
   },
   "outputs": [
    {
     "name": "stdout",
     "output_type": "stream",
     "text": [
      "<class 'str'>\n",
      "Here are two reasons companies fail: they only do more of the same, or they only do what's new.\n",
      "To me the real, real solution to quality growth is figuring out the balance between two activities: exploration and exploitation. Both are necessary, but it can be too much of a good thing.\n",
      "Consider Facit. I'm actually old enough to remember them. Facit was a fantastic company. They were born deep in the Swedish forest, and they made the best mechanical calculators in the world. Everybody used them. And what did Facit do when the electronic calculator came along? They continued doing exactly the same. In six months, they went from maximum revenue ... and they were gone. Gone.\n",
      "To me, the irony about the Facit story is hearing about the Facit engineers, who had bought cheap, small electronic calculators in Japan that they used to double-check their calculators.\n",
      "(Laughter)\n",
      "Facit did too much exploitation. But exploration can go wild, too.\n",
      "A few years back, I worked closely alongside a European \n"
     ]
    }
   ],
   "source": [
    "print(type(input_text))\n",
    "print(input_text[:1000])"
   ]
  },
  {
   "cell_type": "markdown",
   "metadata": {},
   "source": [
    "### Part 1: Preprocessing\n",
    "\n",
    "In this part, we attempt to clean up the raw subtitles a bit, so that we get only sentences. The following substring shows examples of what we're trying to get rid of. Since it's hard to define precisely what we want to get rid of, we'll just use some simple heuristics."
   ]
  },
  {
   "cell_type": "code",
   "execution_count": 17,
   "metadata": {
    "collapsed": false,
    "scrolled": false
   },
   "outputs": [
    {
     "data": {
      "text/plain": [
       "' baby does.\\n(Video) Hyowon Gweon: See this? (Ball squeaks) Did you see that? (Ball squeaks) Cool. See this one? (Ball squeaks) Wow.\\nLaura Schulz: Told you. (Laughs)\\n(Vide'"
      ]
     },
     "execution_count": 17,
     "metadata": {},
     "output_type": "execute_result"
    }
   ],
   "source": [
    "i = input_text.find(\"Hyowon Gweon: See this?\")\n",
    "input_text[i-20:i+150]"
   ]
  },
  {
   "cell_type": "markdown",
   "metadata": {},
   "source": [
    "Let's start by removing all parenthesized strings using a regex:"
   ]
  },
  {
   "cell_type": "code",
   "execution_count": 18,
   "metadata": {
    "collapsed": true
   },
   "outputs": [],
   "source": [
    "input_text_noparens = re.sub(r'\\([^)]*\\)', '', input_text)"
   ]
  },
  {
   "cell_type": "markdown",
   "metadata": {},
   "source": [
    "We can verify the same location in the text is now clean as follows. We won't worry about the irregular spaces since we'll later split the text into sentences and tokenize it anyway."
   ]
  },
  {
   "cell_type": "code",
   "execution_count": 19,
   "metadata": {
    "collapsed": false
   },
   "outputs": [
    {
     "data": {
      "text/plain": [
       "\"hat the baby does.\\n Hyowon Gweon: See this?  Did you see that?  Cool. See this one?  Wow.\\nLaura Schulz: Told you. \\n HG: See this one?  Hey Clara, this one's for you. You \""
      ]
     },
     "execution_count": 19,
     "metadata": {},
     "output_type": "execute_result"
    }
   ],
   "source": [
    "i = input_text_noparens.find(\"Hyowon Gweon: See this?\")\n",
    "input_text_noparens[i-20:i+150]"
   ]
  },
  {
   "cell_type": "markdown",
   "metadata": {},
   "source": [
    "Now, let's attempt to remove speakers' names that occur at the beginning of a line, by deleting pieces of the form \"`<up to 20 characters>:`\", as shown in this example. Of course, this is an imperfect heuristic. "
   ]
  },
  {
   "cell_type": "code",
   "execution_count": 20,
   "metadata": {
    "collapsed": false
   },
   "outputs": [
    {
     "data": {
      "text/plain": [
       "[\"Here are two reasons companies fail: they only do more of the same, or they only do what's new\",\n",
       " 'To me the real, real solution to quality growth is figuring out the balance between two activities: exploration and exploitation',\n",
       " ' Both are necessary, but it can be too much of a good thing',\n",
       " 'Consider Facit',\n",
       " \" I'm actually old enough to remember them\"]"
      ]
     },
     "execution_count": 20,
     "metadata": {},
     "output_type": "execute_result"
    }
   ],
   "source": [
    "sentences_strings_ted = []\n",
    "for line in input_text_noparens.split('\\n'):\n",
    "    m = re.match(r'^(?:(?P<precolon>[^:]{,20}):)?(?P<postcolon>.*)$', line)\n",
    "    sentences_strings_ted.extend(sent for sent in m.groupdict()['postcolon'].split('.') if sent)\n",
    "\n",
    "# Uncomment if you need to save some RAM: these strings are about 50MB.\n",
    "# del input_text, input_text_noparens\n",
    "\n",
    "# Let's view the first few:\n",
    "sentences_strings_ted[:5]"
   ]
  },
  {
   "cell_type": "markdown",
   "metadata": {},
   "source": [
    "Now that we have sentences, we're ready to tokenize each of them into words. This tokenization is imperfect, of course. For instance, how many tokens is \"can't\", and where/how do we split it? We'll take the simplest naive approach of splitting on spaces. Before splitting, we remove non-alphanumeric characters, such as punctuation. You may want to consider the following question: why do we replace these characters with spaces rather than deleting them? Think of a case where this yields a different answer."
   ]
  },
  {
   "cell_type": "code",
   "execution_count": 21,
   "metadata": {
    "collapsed": false
   },
   "outputs": [],
   "source": [
    "sentences_ted = []\n",
    "for sent_str in sentences_strings_ted:\n",
    "    tokens = re.sub(r\"[^a-z0-9]+\", \" \", sent_str.lower()).split()\n",
    "    sentences_ted.append(tokens)"
   ]
  },
  {
   "cell_type": "markdown",
   "metadata": {},
   "source": [
    "Two sample processed sentences:"
   ]
  },
  {
   "cell_type": "code",
   "execution_count": 22,
   "metadata": {
    "collapsed": false
   },
   "outputs": [
    {
     "data": {
      "text/plain": [
       "266694"
      ]
     },
     "execution_count": 22,
     "metadata": {},
     "output_type": "execute_result"
    }
   ],
   "source": [
    "len(sentences_ted)"
   ]
  },
  {
   "cell_type": "code",
   "execution_count": 23,
   "metadata": {
    "collapsed": false
   },
   "outputs": [
    {
     "name": "stdout",
     "output_type": "stream",
     "text": [
      "['here', 'are', 'two', 'reasons', 'companies', 'fail', 'they', 'only', 'do', 'more', 'of', 'the', 'same', 'or', 'they', 'only', 'do', 'what', 's', 'new']\n",
      "['to', 'me', 'the', 'real', 'real', 'solution', 'to', 'quality', 'growth', 'is', 'figuring', 'out', 'the', 'balance', 'between', 'two', 'activities', 'exploration', 'and', 'exploitation']\n"
     ]
    }
   ],
   "source": [
    "print(sentences_ted[0])\n",
    "print(sentences_ted[1])"
   ]
  },
  {
   "cell_type": "markdown",
   "metadata": {},
   "source": [
    "### Part 2: Word Frequencies"
   ]
  },
  {
   "cell_type": "markdown",
   "metadata": {},
   "source": [
    "If you store the counts of the top 1000 words in a list called `counts_ted_top1000`, the code below will plot the histogram requested in the writeup."
   ]
  },
  {
   "cell_type": "code",
   "execution_count": 4,
   "metadata": {
    "collapsed": true
   },
   "outputs": [],
   "source": [
    "from collections import Counter "
   ]
  },
  {
   "cell_type": "code",
   "execution_count": 36,
   "metadata": {
    "collapsed": true
   },
   "outputs": [],
   "source": [
    "counts_ted_top1000 = []\n",
    "c = Counter([word for sent in sentences_ted for word in sent])"
   ]
  },
  {
   "cell_type": "code",
   "execution_count": 38,
   "metadata": {
    "collapsed": false
   },
   "outputs": [
    {
     "name": "stdout",
     "output_type": "stream",
     "text": [
      "[('the', 207748), ('and', 149305), ('to', 125169), ('of', 114818), ('a', 105399), ('that', 95146), ('i', 83180), ('in', 78070), ('it', 74738), ('you', 70923)]\n"
     ]
    }
   ],
   "source": [
    "list_most_common = c.most_common(1000)\n",
    "print(list_most_common[:10])"
   ]
  },
  {
   "cell_type": "code",
   "execution_count": 44,
   "metadata": {
    "collapsed": false
   },
   "outputs": [
    {
     "name": "stdout",
     "output_type": "stream",
     "text": [
      "[207748, 149305, 125169, 114818, 105399, 95146, 83180, 78070, 74738, 70923]\n",
      "[407, 407, 406, 406, 406, 405, 405, 404, 404, 404]\n"
     ]
    }
   ],
   "source": [
    "for word, count in list_most_common:\n",
    "    counts_ted_top1000.append(count)\n",
    "    \n",
    "print(counts_ted_top1000[:10])\n",
    "print(counts_ted_top1000[-10:])"
   ]
  },
  {
   "cell_type": "markdown",
   "metadata": {},
   "source": [
    "Plot distribution of top-1000 words"
   ]
  },
  {
   "cell_type": "code",
   "execution_count": 42,
   "metadata": {
    "collapsed": false
   },
   "outputs": [
    {
     "data": {
      "text/html": [
       "\n",
       "\n",
       "    <div class=\"bk-root\">\n",
       "        <div class=\"bk-plotdiv\" id=\"c8bf0da6-926b-4bc2-98db-04779c7f4f11\"></div>\n",
       "    </div>\n",
       "<script type=\"text/javascript\">\n",
       "  \n",
       "  (function(global) {\n",
       "    function now() {\n",
       "      return new Date();\n",
       "    }\n",
       "  \n",
       "    var force = false;\n",
       "  \n",
       "    if (typeof (window._bokeh_onload_callbacks) === \"undefined\" || force === true) {\n",
       "      window._bokeh_onload_callbacks = [];\n",
       "      window._bokeh_is_loading = undefined;\n",
       "    }\n",
       "  \n",
       "  \n",
       "    \n",
       "    if (typeof (window._bokeh_timeout) === \"undefined\" || force === true) {\n",
       "      window._bokeh_timeout = Date.now() + 0;\n",
       "      window._bokeh_failed_load = false;\n",
       "    }\n",
       "  \n",
       "    var NB_LOAD_WARNING = {'data': {'text/html':\n",
       "       \"<div style='background-color: #fdd'>\\n\"+\n",
       "       \"<p>\\n\"+\n",
       "       \"BokehJS does not appear to have successfully loaded. If loading BokehJS from CDN, this \\n\"+\n",
       "       \"may be due to a slow or bad network connection. Possible fixes:\\n\"+\n",
       "       \"</p>\\n\"+\n",
       "       \"<ul>\\n\"+\n",
       "       \"<li>re-rerun `output_notebook()` to attempt to load from CDN again, or</li>\\n\"+\n",
       "       \"<li>use INLINE resources instead, as so:</li>\\n\"+\n",
       "       \"</ul>\\n\"+\n",
       "       \"<code>\\n\"+\n",
       "       \"from bokeh.resources import INLINE\\n\"+\n",
       "       \"output_notebook(resources=INLINE)\\n\"+\n",
       "       \"</code>\\n\"+\n",
       "       \"</div>\"}};\n",
       "  \n",
       "    function display_loaded() {\n",
       "      if (window.Bokeh !== undefined) {\n",
       "        document.getElementById(\"c8bf0da6-926b-4bc2-98db-04779c7f4f11\").textContent = \"BokehJS successfully loaded.\";\n",
       "      } else if (Date.now() < window._bokeh_timeout) {\n",
       "        setTimeout(display_loaded, 100)\n",
       "      }\n",
       "    }\n",
       "  \n",
       "    function run_callbacks() {\n",
       "      window._bokeh_onload_callbacks.forEach(function(callback) { callback() });\n",
       "      delete window._bokeh_onload_callbacks\n",
       "      console.info(\"Bokeh: all callbacks have finished\");\n",
       "    }\n",
       "  \n",
       "    function load_libs(js_urls, callback) {\n",
       "      window._bokeh_onload_callbacks.push(callback);\n",
       "      if (window._bokeh_is_loading > 0) {\n",
       "        console.log(\"Bokeh: BokehJS is being loaded, scheduling callback at\", now());\n",
       "        return null;\n",
       "      }\n",
       "      if (js_urls == null || js_urls.length === 0) {\n",
       "        run_callbacks();\n",
       "        return null;\n",
       "      }\n",
       "      console.log(\"Bokeh: BokehJS not loaded, scheduling load and callback at\", now());\n",
       "      window._bokeh_is_loading = js_urls.length;\n",
       "      for (var i = 0; i < js_urls.length; i++) {\n",
       "        var url = js_urls[i];\n",
       "        var s = document.createElement('script');\n",
       "        s.src = url;\n",
       "        s.async = false;\n",
       "        s.onreadystatechange = s.onload = function() {\n",
       "          window._bokeh_is_loading--;\n",
       "          if (window._bokeh_is_loading === 0) {\n",
       "            console.log(\"Bokeh: all BokehJS libraries loaded\");\n",
       "            run_callbacks()\n",
       "          }\n",
       "        };\n",
       "        s.onerror = function() {\n",
       "          console.warn(\"failed to load library \" + url);\n",
       "        };\n",
       "        console.log(\"Bokeh: injecting script tag for BokehJS library: \", url);\n",
       "        document.getElementsByTagName(\"head\")[0].appendChild(s);\n",
       "      }\n",
       "    };var element = document.getElementById(\"c8bf0da6-926b-4bc2-98db-04779c7f4f11\");\n",
       "    if (element == null) {\n",
       "      console.log(\"Bokeh: ERROR: autoload.js configured with elementid 'c8bf0da6-926b-4bc2-98db-04779c7f4f11' but no matching script tag was found. \")\n",
       "      return false;\n",
       "    }\n",
       "  \n",
       "    var js_urls = [];\n",
       "  \n",
       "    var inline_js = [\n",
       "      function(Bokeh) {\n",
       "        (function() {\n",
       "          var fn = function() {\n",
       "            var docs_json = {\"3ecb3b3a-5977-4205-b8b7-cccf495a3934\":{\"roots\":{\"references\":[{\"attributes\":{\"plot\":{\"id\":\"7b4f5917-ae0f-4bce-b7ca-334b134cc3b6\",\"subtype\":\"Figure\",\"type\":\"Plot\"}},\"id\":\"a6508707-42df-4894-9004-e052db07cf29\",\"type\":\"ResetTool\"},{\"attributes\":{\"plot\":{\"id\":\"7b4f5917-ae0f-4bce-b7ca-334b134cc3b6\",\"subtype\":\"Figure\",\"type\":\"Plot\"}},\"id\":\"37598b57-e7f8-4b43-bf4b-6d7617caf3f6\",\"type\":\"PanTool\"},{\"attributes\":{\"below\":[{\"id\":\"b0f438db-36f8-48c7-94c9-254040c4961e\",\"type\":\"LinearAxis\"}],\"left\":[{\"id\":\"1c8ed142-fe0c-4ec2-8b5c-3fc163b56bab\",\"type\":\"LinearAxis\"}],\"renderers\":[{\"id\":\"b0f438db-36f8-48c7-94c9-254040c4961e\",\"type\":\"LinearAxis\"},{\"id\":\"9c52d76d-2e18-49f9-b09b-f86e82eb94db\",\"type\":\"Grid\"},{\"id\":\"1c8ed142-fe0c-4ec2-8b5c-3fc163b56bab\",\"type\":\"LinearAxis\"},{\"id\":\"7183809f-6114-4aa5-8c60-63056e53bc45\",\"type\":\"Grid\"},{\"id\":\"f29b182b-be87-4285-9732-2041774b947a\",\"type\":\"GlyphRenderer\"}],\"title\":{\"id\":\"6c4c09a9-c399-4c82-8ede-38075062f369\",\"type\":\"Title\"},\"tool_events\":{\"id\":\"67119e51-62d5-40a1-945c-4254cd7cf08f\",\"type\":\"ToolEvents\"},\"toolbar\":{\"id\":\"379f4cd7-3f16-44c9-890b-0857cd3c6555\",\"type\":\"Toolbar\"},\"toolbar_location\":\"above\",\"x_range\":{\"id\":\"ab00b93f-1b47-48a2-a7d3-5c7c9beb1392\",\"type\":\"DataRange1d\"},\"y_range\":{\"id\":\"49c6edc9-4e2a-4e72-8eb5-c23a93f5a4da\",\"type\":\"DataRange1d\"}},\"id\":\"7b4f5917-ae0f-4bce-b7ca-334b134cc3b6\",\"subtype\":\"Figure\",\"type\":\"Plot\"},{\"attributes\":{\"callback\":null,\"column_names\":[\"top\",\"right\",\"left\"],\"data\":{\"left\":{\"__ndarray__\":\"AAAAAABAeUB7FK5H4VqjQHsUrkfhxrFAuB6F61HguUB7FK5H4fzAQJqZmZmZCcVAuB6F61EWyUDXo3A9CiPNQHsUrkfhl9BACtejcD2e0kCamZmZmaTUQClcj8L1qtZAuB6F61Gx2EBI4XoUrrfaQNejcD0KvtxAZ2ZmZmbE3kB7FK5HYWXgQMP1KFyPaOFACtejcL1r4kBSuB6F627jQJqZmZkZcuRA4XoUrkd15UApXI/CdXjmQHE9Cteje+dAuB6F69F+6EAAAAAAAILpQEjhehQuhepAkML1KFyI60DXo3A9iovsQB+F61G4ju1AZ2ZmZuaR7kCuR+F6FJXvQHsUrkchTPBAH4XrUbjN8EDD9ShcT0/xQGdmZmbm0PFACtejcH1S8kCuR+F6FNTyQFK4HoWrVfNA9ihcj0LX80CamZmZ2Vj0QD4K16Nw2vRA4XoUrgdc9UCF61G4nt31QClcj8I1X/ZAzczMzMzg9kBxPQrXY2L3QBWuR+H64/dAuB6F65Fl+EBcj8L1KOf4QAAAAADAaPlApHA9Clfq+UBI4XoU7mv6QOxRuB6F7fpAkML1KBxv+0AzMzMzs/D7QNejcD1KcvxAexSuR+Hz/EAfhetReHX9QMP1KFwP9/1AZ2ZmZqZ4/kAK16NwPfr+QK5H4XrUe/9AUrgehWv9/0B7FK5HgT8AQc3MzMxMgABBH4XrURjBAEFxPQrX4wEBQcP1KFyvQgFBFa5H4XqDAUFnZmZmRsQBQbgehesRBQJBCtejcN1FAkFcj8L1qIYCQa5H4Xp0xwJBAAAAAEAIA0FSuB6FC0kDQaRwPQrXiQNB9ihcj6LKA0FI4XoUbgsEQZqZmZk5TARB7FG4HgWNBEE+Ctej0M0EQZDC9SicDgVB4XoUrmdPBUEzMzMzM5AFQYXrUbj+0AVB16NwPcoRBkEpXI/ClVIGQXsUrkdhkwZBzczMzCzUBkEfhetR+BQHQXE9CtfDVQdBw/UoXI+WB0EVrkfhWtcHQWdmZmYmGAhBuB6F6/FYCEEK16NwvZkIQVyPwvWI2ghBrkfhelQbCUE=\",\"dtype\":\"float64\",\"shape\":[100]},\"right\":{\"__ndarray__\":\"exSuR+Fao0B7FK5H4caxQLgehetR4LlAexSuR+H8wECamZmZmQnFQLgehetRFslA16NwPQojzUB7FK5H4ZfQQArXo3A9ntJAmpmZmZmk1EApXI/C9arWQLgehetRsdhASOF6FK632kDXo3A9Cr7cQGdmZmZmxN5AexSuR2Fl4EDD9Shcj2jhQArXo3C9a+JAUrgehetu40CamZmZGXLkQOF6FK5HdeVAKVyPwnV45kBxPQrXo3vnQLgehevRfuhAAAAAAACC6UBI4XoULoXqQJDC9ShciOtA16NwPYqL7EAfhetRuI7tQGdmZmbmke5ArkfhehSV70B7FK5HIUzwQB+F61G4zfBAw/UoXE9P8UBnZmZm5tDxQArXo3B9UvJArkfhehTU8kBSuB6Fq1XzQPYoXI9C1/NAmpmZmdlY9EA+CtejcNr0QOF6FK4HXPVAhetRuJ7d9UApXI/CNV/2QM3MzMzM4PZAcT0K12Ni90AVrkfh+uP3QLgeheuRZfhAXI/C9Sjn+EAAAAAAwGj5QKRwPQpX6vlASOF6FO5r+kDsUbgehe36QJDC9Sgcb/tAMzMzM7Pw+0DXo3A9SnL8QHsUrkfh8/xAH4XrUXh1/UDD9ShcD/f9QGdmZmameP5ACtejcD36/kCuR+F61Hv/QFK4HoVr/f9AexSuR4E/AEHNzMzMTIAAQR+F61EYwQBBcT0K1+MBAUHD9Shcr0IBQRWuR+F6gwFBZ2ZmZkbEAUG4HoXrEQUCQQrXo3DdRQJBXI/C9aiGAkGuR+F6dMcCQQAAAABACANBUrgehQtJA0GkcD0K14kDQfYoXI+iygNBSOF6FG4LBEGamZmZOUwEQexRuB4FjQRBPgrXo9DNBEGQwvUonA4FQeF6FK5nTwVBMzMzMzOQBUGF61G4/tAFQdejcD3KEQZBKVyPwpVSBkF7FK5HYZMGQc3MzMws1AZBH4XrUfgUB0FxPQrXw1UHQcP1KFyPlgdBFa5H4VrXB0FnZmZmJhgIQbgehevxWAhBCtejcL2ZCEFcj8L1iNoIQa5H4XpUGwlBAAAAACBcCUE=\",\"dtype\":\"float64\",\"shape\":[100]},\"top\":{\"__ndarray__\":\"50H1zNSBOT/ypb1tgHIBPwsriUb5Uew+zuTFiLI04j78kGUPxTHhPh40R25oQNY+zuTFiLI00j4pPQWW1y7APsTbB2FDRsg+JT0FltcuwD4tPQWW1y6wPi09BZbXLrA+JT0FltcuwD4tPQWW1y6gPiU9BZbXLrA+LT0FltcuoD4AAAAAAAAAADU9BZbXLqA+AAAAAAAAAAAAAAAAAAAAAAAAAAAAAAAAAAAAAAAAAAAAAAAAAAAAADU9BZbXLqA+AAAAAAAAAAAAAAAAAAAAAAAAAAAAAAAANT0FltcuoD4AAAAAAAAAAAAAAAAAAAAANT0FltcuoD4AAAAAAAAAACU9BZbXLqA+AAAAAAAAAAAlPQWW1y6gPkU9BZbXLqA+AAAAAAAAAAAlPQWW1y6gPgAAAAAAAAAAJT0FltcuoD4AAAAAAAAAAAAAAAAAAAAAAAAAAAAAAAAAAAAAAAAAAAAAAAAAAAAAJT0FltcuoD4AAAAAAAAAAAAAAAAAAAAAAAAAAAAAAAAAAAAAAAAAACU9BZbXLqA+AAAAAAAAAAAAAAAAAAAAAAAAAAAAAAAAAAAAAAAAAAAlPQWW1y6gPgAAAAAAAAAAAAAAAAAAAAAAAAAAAAAAAAAAAAAAAAAART0FltcuoD4AAAAAAAAAAAAAAAAAAAAAAAAAAAAAAAAAAAAAAAAAAAAAAAAAAAAAAAAAAAAAAAAAAAAAAAAAAAAAAAAAAAAAAAAAAAAAAAAAAAAAAAAAACU9BZbXLqA+AAAAAAAAAAAAAAAAAAAAAAAAAAAAAAAAAAAAAAAAAAAAAAAAAAAAAAAAAAAAAAAAAAAAAAAAAAAAAAAAAAAAAAAAAAAAAAAAAAAAAAAAAAAAAAAAAAAAAAAAAAAAAAAAAAAAAAAAAAAAAAAAAAAAAAAAAAAAAAAAAAAAAAAAAAAAAAAAAAAAAAAAAAAAAAAAAAAAAAAAAAAAAAAAAAAAAAAAAAAAAAAAAAAAAAAAAAAAAAAAAAAAAAAAAAAAAAAAAAAAAAAAAAAAAAAAAAAAAAAAAAAAAAAAJT0FltcuoD4=\",\"dtype\":\"float64\",\"shape\":[100]}}},\"id\":\"4db5ea33-b862-4d4d-906d-64a22bcf7562\",\"type\":\"ColumnDataSource\"},{\"attributes\":{\"plot\":{\"id\":\"7b4f5917-ae0f-4bce-b7ca-334b134cc3b6\",\"subtype\":\"Figure\",\"type\":\"Plot\"}},\"id\":\"9615c20c-ba33-423b-9e12-6301947f4629\",\"type\":\"WheelZoomTool\"},{\"attributes\":{},\"id\":\"15f3a44b-3502-4806-80fd-6dcddcdc1bbb\",\"type\":\"BasicTicker\"},{\"attributes\":{},\"id\":\"67119e51-62d5-40a1-945c-4254cd7cf08f\",\"type\":\"ToolEvents\"},{\"attributes\":{\"bottom\":{\"value\":0},\"fill_color\":{\"value\":\"#1f77b4\"},\"left\":{\"field\":\"left\"},\"line_color\":{\"value\":\"#555555\"},\"right\":{\"field\":\"right\"},\"top\":{\"field\":\"top\"}},\"id\":\"e041a03c-b9c3-4cc6-9619-68921b8f92a1\",\"type\":\"Quad\"},{\"attributes\":{\"bottom\":{\"value\":0},\"fill_alpha\":{\"value\":0.1},\"fill_color\":{\"value\":\"#1f77b4\"},\"left\":{\"field\":\"left\"},\"line_alpha\":{\"value\":0.1},\"line_color\":{\"value\":\"#1f77b4\"},\"right\":{\"field\":\"right\"},\"top\":{\"field\":\"top\"}},\"id\":\"b38becc2-49aa-4160-860a-ef76036b6751\",\"type\":\"Quad\"},{\"attributes\":{\"callback\":null},\"id\":\"49c6edc9-4e2a-4e72-8eb5-c23a93f5a4da\",\"type\":\"DataRange1d\"},{\"attributes\":{\"plot\":{\"id\":\"7b4f5917-ae0f-4bce-b7ca-334b134cc3b6\",\"subtype\":\"Figure\",\"type\":\"Plot\"}},\"id\":\"5423ecf0-e576-4000-89b9-e07c0bc1ed5e\",\"type\":\"SaveTool\"},{\"attributes\":{\"callback\":null},\"id\":\"ab00b93f-1b47-48a2-a7d3-5c7c9beb1392\",\"type\":\"DataRange1d\"},{\"attributes\":{},\"id\":\"de03820b-bb05-46e4-819f-19ea81642d4c\",\"type\":\"BasicTickFormatter\"},{\"attributes\":{},\"id\":\"f0fa3328-8c6c-4395-a7c1-88f1b1f72562\",\"type\":\"BasicTicker\"},{\"attributes\":{\"plot\":{\"id\":\"7b4f5917-ae0f-4bce-b7ca-334b134cc3b6\",\"subtype\":\"Figure\",\"type\":\"Plot\"},\"ticker\":{\"id\":\"f0fa3328-8c6c-4395-a7c1-88f1b1f72562\",\"type\":\"BasicTicker\"}},\"id\":\"9c52d76d-2e18-49f9-b09b-f86e82eb94db\",\"type\":\"Grid\"},{\"attributes\":{\"formatter\":{\"id\":\"de03820b-bb05-46e4-819f-19ea81642d4c\",\"type\":\"BasicTickFormatter\"},\"plot\":{\"id\":\"7b4f5917-ae0f-4bce-b7ca-334b134cc3b6\",\"subtype\":\"Figure\",\"type\":\"Plot\"},\"ticker\":{\"id\":\"f0fa3328-8c6c-4395-a7c1-88f1b1f72562\",\"type\":\"BasicTicker\"}},\"id\":\"b0f438db-36f8-48c7-94c9-254040c4961e\",\"type\":\"LinearAxis\"},{\"attributes\":{\"dimension\":1,\"plot\":{\"id\":\"7b4f5917-ae0f-4bce-b7ca-334b134cc3b6\",\"subtype\":\"Figure\",\"type\":\"Plot\"},\"ticker\":{\"id\":\"15f3a44b-3502-4806-80fd-6dcddcdc1bbb\",\"type\":\"BasicTicker\"}},\"id\":\"7183809f-6114-4aa5-8c60-63056e53bc45\",\"type\":\"Grid\"},{\"attributes\":{\"formatter\":{\"id\":\"4c3cfdde-e476-44c1-8714-f07a95601492\",\"type\":\"BasicTickFormatter\"},\"plot\":{\"id\":\"7b4f5917-ae0f-4bce-b7ca-334b134cc3b6\",\"subtype\":\"Figure\",\"type\":\"Plot\"},\"ticker\":{\"id\":\"15f3a44b-3502-4806-80fd-6dcddcdc1bbb\",\"type\":\"BasicTicker\"}},\"id\":\"1c8ed142-fe0c-4ec2-8b5c-3fc163b56bab\",\"type\":\"LinearAxis\"},{\"attributes\":{\"plot\":null,\"text\":\"Top-1000 words distribution\"},\"id\":\"6c4c09a9-c399-4c82-8ede-38075062f369\",\"type\":\"Title\"},{\"attributes\":{},\"id\":\"4c3cfdde-e476-44c1-8714-f07a95601492\",\"type\":\"BasicTickFormatter\"},{\"attributes\":{\"data_source\":{\"id\":\"4db5ea33-b862-4d4d-906d-64a22bcf7562\",\"type\":\"ColumnDataSource\"},\"glyph\":{\"id\":\"e041a03c-b9c3-4cc6-9619-68921b8f92a1\",\"type\":\"Quad\"},\"hover_glyph\":null,\"nonselection_glyph\":{\"id\":\"b38becc2-49aa-4160-860a-ef76036b6751\",\"type\":\"Quad\"},\"selection_glyph\":null},\"id\":\"f29b182b-be87-4285-9732-2041774b947a\",\"type\":\"GlyphRenderer\"},{\"attributes\":{\"active_drag\":\"auto\",\"active_scroll\":\"auto\",\"active_tap\":\"auto\",\"tools\":[{\"id\":\"37598b57-e7f8-4b43-bf4b-6d7617caf3f6\",\"type\":\"PanTool\"},{\"id\":\"9615c20c-ba33-423b-9e12-6301947f4629\",\"type\":\"WheelZoomTool\"},{\"id\":\"a6508707-42df-4894-9004-e052db07cf29\",\"type\":\"ResetTool\"},{\"id\":\"5423ecf0-e576-4000-89b9-e07c0bc1ed5e\",\"type\":\"SaveTool\"}]},\"id\":\"379f4cd7-3f16-44c9-890b-0857cd3c6555\",\"type\":\"Toolbar\"}],\"root_ids\":[\"7b4f5917-ae0f-4bce-b7ca-334b134cc3b6\"]},\"title\":\"Bokeh Application\",\"version\":\"0.12.4\"}};\n",
       "            var render_items = [{\"docid\":\"3ecb3b3a-5977-4205-b8b7-cccf495a3934\",\"elementid\":\"c8bf0da6-926b-4bc2-98db-04779c7f4f11\",\"modelid\":\"7b4f5917-ae0f-4bce-b7ca-334b134cc3b6\"}];\n",
       "            \n",
       "            Bokeh.embed.embed_items(docs_json, render_items);\n",
       "          };\n",
       "          if (document.readyState != \"loading\") fn();\n",
       "          else document.addEventListener(\"DOMContentLoaded\", fn);\n",
       "        })();\n",
       "      },\n",
       "      function(Bokeh) {\n",
       "      }\n",
       "    ];\n",
       "  \n",
       "    function run_inline_js() {\n",
       "      \n",
       "      if ((window.Bokeh !== undefined) || (force === true)) {\n",
       "        for (var i = 0; i < inline_js.length; i++) {\n",
       "          inline_js[i](window.Bokeh);\n",
       "        }if (force === true) {\n",
       "          display_loaded();\n",
       "        }} else if (Date.now() < window._bokeh_timeout) {\n",
       "        setTimeout(run_inline_js, 100);\n",
       "      } else if (!window._bokeh_failed_load) {\n",
       "        console.log(\"Bokeh: BokehJS failed to load within specified timeout.\");\n",
       "        window._bokeh_failed_load = true;\n",
       "      } else if (force !== true) {\n",
       "        var cell = $(document.getElementById(\"c8bf0da6-926b-4bc2-98db-04779c7f4f11\")).parents('.cell').data().cell;\n",
       "        cell.output_area.append_execute_result(NB_LOAD_WARNING)\n",
       "      }\n",
       "  \n",
       "    }\n",
       "  \n",
       "    if (window._bokeh_is_loading === 0) {\n",
       "      console.log(\"Bokeh: BokehJS loaded, going straight to plotting\");\n",
       "      run_inline_js();\n",
       "    } else {\n",
       "      load_libs(js_urls, function() {\n",
       "        console.log(\"Bokeh: BokehJS plotting callback run at\", now());\n",
       "        run_inline_js();\n",
       "      });\n",
       "    }\n",
       "  }(this));\n",
       "</script>"
      ]
     },
     "metadata": {},
     "output_type": "display_data"
    }
   ],
   "source": [
    "hist, edges = np.histogram(counts_ted_top1000, density=True, bins=100, normed=True)\n",
    "\n",
    "p = figure(tools=\"pan,wheel_zoom,reset,save\",\n",
    "           toolbar_location=\"above\",\n",
    "           title=\"Top-1000 words distribution\")\n",
    "p.quad(top=hist, bottom=0, left=edges[:-1], right=edges[1:], line_color=\"#555555\")\n",
    "show(p)"
   ]
  },
  {
   "cell_type": "markdown",
   "metadata": {},
   "source": [
    "### Part 3: Train Word2Vec"
   ]
  },
  {
   "cell_type": "code",
   "execution_count": 5,
   "metadata": {
    "collapsed": false
   },
   "outputs": [],
   "source": [
    "from gensim.models import Word2Vec"
   ]
  },
  {
   "cell_type": "code",
   "execution_count": 47,
   "metadata": {
    "collapsed": false
   },
   "outputs": [],
   "source": [
    "model = Word2Vec(sentences_ted, min_count=10, size=100)"
   ]
  },
  {
   "cell_type": "code",
   "execution_count": 48,
   "metadata": {
    "collapsed": true
   },
   "outputs": [],
   "source": [
    "model.save(\"ted_word2vec_model\")"
   ]
  },
  {
   "cell_type": "code",
   "execution_count": 49,
   "metadata": {
    "collapsed": true
   },
   "outputs": [],
   "source": [
    "model_ted = Word2Vec.load(\"ted_word2vec_model\")"
   ]
  },
  {
   "cell_type": "markdown",
   "metadata": {},
   "source": [
    "### Part 4: Ted Learnt Representations"
   ]
  },
  {
   "cell_type": "markdown",
   "metadata": {},
   "source": [
    "Finding similar words: (see gensim docs for more functionality of `most_similar`)"
   ]
  },
  {
   "cell_type": "code",
   "execution_count": 50,
   "metadata": {
    "collapsed": false
   },
   "outputs": [
    {
     "data": {
      "text/plain": [
       "[('woman', 0.861563503742218),\n",
       " ('guy', 0.8053919672966003),\n",
       " ('lady', 0.7572652697563171),\n",
       " ('boy', 0.7567627429962158),\n",
       " ('girl', 0.7335348129272461),\n",
       " ('soldier', 0.7308832406997681),\n",
       " ('gentleman', 0.7243051528930664),\n",
       " ('poet', 0.6800374984741211),\n",
       " ('kid', 0.675588071346283),\n",
       " ('friend', 0.6711434125900269)]"
      ]
     },
     "execution_count": 50,
     "metadata": {},
     "output_type": "execute_result"
    }
   ],
   "source": [
    "model_ted.most_similar(\"man\")"
   ]
  },
  {
   "cell_type": "code",
   "execution_count": 51,
   "metadata": {
    "collapsed": false
   },
   "outputs": [
    {
     "data": {
      "text/plain": [
       "[('machine', 0.7380391359329224),\n",
       " ('device', 0.7166091799736023),\n",
       " ('software', 0.713715672492981),\n",
       " ('robot', 0.6945363283157349),\n",
       " ('printer', 0.6483083963394165),\n",
       " ('3d', 0.6442069411277771),\n",
       " ('camera', 0.640776515007019),\n",
       " ('chip', 0.6384934186935425),\n",
       " ('interface', 0.6292914152145386),\n",
       " ('program', 0.6174736022949219)]"
      ]
     },
     "execution_count": 51,
     "metadata": {},
     "output_type": "execute_result"
    }
   ],
   "source": [
    "model_ted.most_similar(\"computer\")"
   ]
  },
  {
   "cell_type": "code",
   "execution_count": 54,
   "metadata": {
    "collapsed": false
   },
   "outputs": [
    {
     "name": "stdout",
     "output_type": "stream",
     "text": [
      "14427\n"
     ]
    }
   ],
   "source": [
    "print(len(model_ted.wv.vocab))"
   ]
  },
  {
   "cell_type": "markdown",
   "metadata": {},
   "source": [
    "#### t-SNE visualization\n",
    "To use the t-SNE code below, first put a list of the top 1000 words (as strings) into a variable `words_top_ted`. The following code gets the corresponding vectors from the model, assuming it's called `model_ted`:"
   ]
  },
  {
   "cell_type": "code",
   "execution_count": 55,
   "metadata": {
    "collapsed": false
   },
   "outputs": [
    {
     "name": "stdout",
     "output_type": "stream",
     "text": [
      "['the', 'and', 'to', 'of', 'a', 'that', 'i', 'in', 'it', 'you']\n"
     ]
    }
   ],
   "source": [
    "words_top_ted = []\n",
    "for word, count in list_most_common:\n",
    "    words_top_ted.append(word)\n",
    "    \n",
    "print(words_top_ted[:10])"
   ]
  },
  {
   "cell_type": "code",
   "execution_count": 56,
   "metadata": {
    "collapsed": false
   },
   "outputs": [],
   "source": [
    "# This assumes words_top_ted is a list of strings, the top 1000 words\n",
    "words_top_vec_ted = model_ted[words_top_ted]"
   ]
  },
  {
   "cell_type": "code",
   "execution_count": 19,
   "metadata": {
    "collapsed": true
   },
   "outputs": [],
   "source": [
    "from sklearn.manifold import TSNE"
   ]
  },
  {
   "cell_type": "code",
   "execution_count": 57,
   "metadata": {
    "collapsed": false
   },
   "outputs": [],
   "source": [
    "tsne = TSNE(n_components=2, random_state=0)\n",
    "words_top_ted_tsne = tsne.fit_transform(words_top_vec_ted)"
   ]
  },
  {
   "cell_type": "code",
   "execution_count": 58,
   "metadata": {
    "collapsed": false
   },
   "outputs": [
    {
     "data": {
      "text/html": [
       "\n",
       "\n",
       "    <div class=\"bk-root\">\n",
       "        <div class=\"bk-plotdiv\" id=\"1110cdcb-4c6f-4ddf-970b-f06c3a837e46\"></div>\n",
       "    </div>\n",
       "<script type=\"text/javascript\">\n",
       "  \n",
       "  (function(global) {\n",
       "    function now() {\n",
       "      return new Date();\n",
       "    }\n",
       "  \n",
       "    var force = false;\n",
       "  \n",
       "    if (typeof (window._bokeh_onload_callbacks) === \"undefined\" || force === true) {\n",
       "      window._bokeh_onload_callbacks = [];\n",
       "      window._bokeh_is_loading = undefined;\n",
       "    }\n",
       "  \n",
       "  \n",
       "    \n",
       "    if (typeof (window._bokeh_timeout) === \"undefined\" || force === true) {\n",
       "      window._bokeh_timeout = Date.now() + 0;\n",
       "      window._bokeh_failed_load = false;\n",
       "    }\n",
       "  \n",
       "    var NB_LOAD_WARNING = {'data': {'text/html':\n",
       "       \"<div style='background-color: #fdd'>\\n\"+\n",
       "       \"<p>\\n\"+\n",
       "       \"BokehJS does not appear to have successfully loaded. If loading BokehJS from CDN, this \\n\"+\n",
       "       \"may be due to a slow or bad network connection. Possible fixes:\\n\"+\n",
       "       \"</p>\\n\"+\n",
       "       \"<ul>\\n\"+\n",
       "       \"<li>re-rerun `output_notebook()` to attempt to load from CDN again, or</li>\\n\"+\n",
       "       \"<li>use INLINE resources instead, as so:</li>\\n\"+\n",
       "       \"</ul>\\n\"+\n",
       "       \"<code>\\n\"+\n",
       "       \"from bokeh.resources import INLINE\\n\"+\n",
       "       \"output_notebook(resources=INLINE)\\n\"+\n",
       "       \"</code>\\n\"+\n",
       "       \"</div>\"}};\n",
       "  \n",
       "    function display_loaded() {\n",
       "      if (window.Bokeh !== undefined) {\n",
       "        document.getElementById(\"1110cdcb-4c6f-4ddf-970b-f06c3a837e46\").textContent = \"BokehJS successfully loaded.\";\n",
       "      } else if (Date.now() < window._bokeh_timeout) {\n",
       "        setTimeout(display_loaded, 100)\n",
       "      }\n",
       "    }\n",
       "  \n",
       "    function run_callbacks() {\n",
       "      window._bokeh_onload_callbacks.forEach(function(callback) { callback() });\n",
       "      delete window._bokeh_onload_callbacks\n",
       "      console.info(\"Bokeh: all callbacks have finished\");\n",
       "    }\n",
       "  \n",
       "    function load_libs(js_urls, callback) {\n",
       "      window._bokeh_onload_callbacks.push(callback);\n",
       "      if (window._bokeh_is_loading > 0) {\n",
       "        console.log(\"Bokeh: BokehJS is being loaded, scheduling callback at\", now());\n",
       "        return null;\n",
       "      }\n",
       "      if (js_urls == null || js_urls.length === 0) {\n",
       "        run_callbacks();\n",
       "        return null;\n",
       "      }\n",
       "      console.log(\"Bokeh: BokehJS not loaded, scheduling load and callback at\", now());\n",
       "      window._bokeh_is_loading = js_urls.length;\n",
       "      for (var i = 0; i < js_urls.length; i++) {\n",
       "        var url = js_urls[i];\n",
       "        var s = document.createElement('script');\n",
       "        s.src = url;\n",
       "        s.async = false;\n",
       "        s.onreadystatechange = s.onload = function() {\n",
       "          window._bokeh_is_loading--;\n",
       "          if (window._bokeh_is_loading === 0) {\n",
       "            console.log(\"Bokeh: all BokehJS libraries loaded\");\n",
       "            run_callbacks()\n",
       "          }\n",
       "        };\n",
       "        s.onerror = function() {\n",
       "          console.warn(\"failed to load library \" + url);\n",
       "        };\n",
       "        console.log(\"Bokeh: injecting script tag for BokehJS library: \", url);\n",
       "        document.getElementsByTagName(\"head\")[0].appendChild(s);\n",
       "      }\n",
       "    };var element = document.getElementById(\"1110cdcb-4c6f-4ddf-970b-f06c3a837e46\");\n",
       "    if (element == null) {\n",
       "      console.log(\"Bokeh: ERROR: autoload.js configured with elementid '1110cdcb-4c6f-4ddf-970b-f06c3a837e46' but no matching script tag was found. \")\n",
       "      return false;\n",
       "    }\n",
       "  \n",
       "    var js_urls = [];\n",
       "  \n",
       "    var inline_js = [\n",
       "      function(Bokeh) {\n",
       "        (function() {\n",
       "          var fn = function() {\n",
       "            var docs_json = {\"465f6ff1-667f-48a0-9586-6362882ee3cc\":{\"roots\":{\"references\":[{\"attributes\":{},\"id\":\"361b40f7-6ed5-44ca-8ec1-84bc82494406\",\"type\":\"BasicTickFormatter\"},{\"attributes\":{\"fill_alpha\":{\"value\":0.1},\"fill_color\":{\"value\":\"#1f77b4\"},\"line_alpha\":{\"value\":0.1},\"line_color\":{\"value\":\"#1f77b4\"},\"size\":{\"units\":\"screen\",\"value\":8},\"x\":{\"field\":\"x1\"},\"y\":{\"field\":\"x2\"}},\"id\":\"b87b56cd-8776-41f4-800a-184d1091d7a8\",\"type\":\"Circle\"},{\"attributes\":{\"plot\":null,\"text\":\"word2vec T-SNE for most common words\"},\"id\":\"30ee65aa-cac6-453f-b92f-2fa8ac51e0d6\",\"type\":\"Title\"},{\"attributes\":{\"fill_color\":{\"value\":\"#1f77b4\"},\"line_color\":{\"value\":\"#1f77b4\"},\"size\":{\"units\":\"screen\",\"value\":8},\"x\":{\"field\":\"x1\"},\"y\":{\"field\":\"x2\"}},\"id\":\"84d052f5-830a-4141-bd11-754a761efd31\",\"type\":\"Circle\"},{\"attributes\":{\"below\":[{\"id\":\"a72908dd-4571-4f35-af4a-a62450ca81a8\",\"type\":\"LinearAxis\"}],\"left\":[{\"id\":\"b80d2816-620b-42bb-9bcc-5266c9ca3893\",\"type\":\"LinearAxis\"}],\"renderers\":[{\"id\":\"a72908dd-4571-4f35-af4a-a62450ca81a8\",\"type\":\"LinearAxis\"},{\"id\":\"b2c1adaf-6065-4b5d-8857-899bf7620b89\",\"type\":\"Grid\"},{\"id\":\"b80d2816-620b-42bb-9bcc-5266c9ca3893\",\"type\":\"LinearAxis\"},{\"id\":\"8b05fc51-0403-4078-a58a-f08bbcc37822\",\"type\":\"Grid\"},{\"id\":\"699bc379-c001-4d9b-a507-36b32e6647bb\",\"type\":\"GlyphRenderer\"},{\"id\":\"0da4470a-f783-49bc-86ab-de8a7e38127c\",\"type\":\"LabelSet\"}],\"title\":{\"id\":\"30ee65aa-cac6-453f-b92f-2fa8ac51e0d6\",\"type\":\"Title\"},\"tool_events\":{\"id\":\"1e822888-af6c-4d2a-9fc5-7e61a6c9685f\",\"type\":\"ToolEvents\"},\"toolbar\":{\"id\":\"aa158537-0f93-4d29-aec5-58fe4675cab0\",\"type\":\"Toolbar\"},\"toolbar_location\":\"above\",\"x_range\":{\"id\":\"8be0a74c-1863-4c29-a480-b91b2ab3e672\",\"type\":\"DataRange1d\"},\"y_range\":{\"id\":\"77abbdb3-449f-4c47-becd-810a682723fb\",\"type\":\"DataRange1d\"}},\"id\":\"31b7d0f5-c96e-4955-972a-fd74ef24f003\",\"subtype\":\"Figure\",\"type\":\"Plot\"},{\"attributes\":{\"data_source\":{\"id\":\"f77fc46a-ce30-4739-9f09-95cbb82990a3\",\"type\":\"ColumnDataSource\"},\"glyph\":{\"id\":\"84d052f5-830a-4141-bd11-754a761efd31\",\"type\":\"Circle\"},\"hover_glyph\":null,\"nonselection_glyph\":{\"id\":\"b87b56cd-8776-41f4-800a-184d1091d7a8\",\"type\":\"Circle\"},\"selection_glyph\":null},\"id\":\"699bc379-c001-4d9b-a507-36b32e6647bb\",\"type\":\"GlyphRenderer\"},{\"attributes\":{\"plot\":{\"id\":\"31b7d0f5-c96e-4955-972a-fd74ef24f003\",\"subtype\":\"Figure\",\"type\":\"Plot\"},\"ticker\":{\"id\":\"4e086a74-14fc-4f64-9846-b9104f5a6c87\",\"type\":\"BasicTicker\"}},\"id\":\"b2c1adaf-6065-4b5d-8857-899bf7620b89\",\"type\":\"Grid\"},{\"attributes\":{\"formatter\":{\"id\":\"361b40f7-6ed5-44ca-8ec1-84bc82494406\",\"type\":\"BasicTickFormatter\"},\"plot\":{\"id\":\"31b7d0f5-c96e-4955-972a-fd74ef24f003\",\"subtype\":\"Figure\",\"type\":\"Plot\"},\"ticker\":{\"id\":\"a36841d2-0b1e-4a20-9d62-c793e75155b7\",\"type\":\"BasicTicker\"}},\"id\":\"b80d2816-620b-42bb-9bcc-5266c9ca3893\",\"type\":\"LinearAxis\"},{\"attributes\":{\"plot\":{\"id\":\"31b7d0f5-c96e-4955-972a-fd74ef24f003\",\"subtype\":\"Figure\",\"type\":\"Plot\"},\"source\":{\"id\":\"f77fc46a-ce30-4739-9f09-95cbb82990a3\",\"type\":\"ColumnDataSource\"},\"text\":{\"field\":\"names\"},\"text_align\":\"center\",\"text_color\":{\"value\":\"#555555\"},\"text_font_size\":{\"value\":\"8pt\"},\"x\":{\"field\":\"x1\"},\"y\":{\"field\":\"x2\"},\"y_offset\":{\"value\":6}},\"id\":\"0da4470a-f783-49bc-86ab-de8a7e38127c\",\"type\":\"LabelSet\"},{\"attributes\":{\"callback\":null,\"column_names\":[\"names\",\"x1\",\"x2\"],\"data\":{\"names\":[\"the\",\"and\",\"to\",\"of\",\"a\",\"that\",\"i\",\"in\",\"it\",\"you\",\"we\",\"is\",\"s\",\"this\",\"so\",\"they\",\"was\",\"for\",\"are\",\"have\",\"but\",\"what\",\"on\",\"with\",\"can\",\"t\",\"about\",\"there\",\"be\",\"as\",\"at\",\"all\",\"not\",\"do\",\"my\",\"one\",\"re\",\"people\",\"like\",\"if\",\"from\",\"now\",\"our\",\"he\",\"an\",\"just\",\"these\",\"or\",\"when\",\"because\",\"very\",\"me\",\"out\",\"by\",\"them\",\"how\",\"know\",\"up\",\"going\",\"had\",\"more\",\"think\",\"who\",\"were\",\"see\",\"your\",\"their\",\"which\",\"would\",\"here\",\"really\",\"get\",\"ve\",\"then\",\"m\",\"world\",\"us\",\"time\",\"some\",\"has\",\"don\",\"actually\",\"into\",\"way\",\"where\",\"will\",\"years\",\"things\",\"other\",\"no\",\"could\",\"go\",\"well\",\"want\",\"been\",\"make\",\"right\",\"she\",\"said\",\"something\",\"those\",\"first\",\"two\",\"than\",\"much\",\"also\",\"look\",\"new\",\"thing\",\"little\",\"got\",\"back\",\"over\",\"most\",\"say\",\"even\",\"his\",\"life\",\"only\",\"work\",\"many\",\"take\",\"need\",\"did\",\"lot\",\"kind\",\"why\",\"good\",\"around\",\"every\",\"different\",\"down\",\"ll\",\"let\",\"her\",\"through\",\"same\",\"being\",\"come\",\"d\",\"day\",\"year\",\"three\",\"use\",\"doing\",\"put\",\"called\",\"any\",\"today\",\"percent\",\"made\",\"after\",\"thank\",\"tell\",\"great\",\"human\",\"find\",\"didn\",\"fact\",\"talk\",\"change\",\"started\",\"another\",\"idea\",\"big\",\"last\",\"own\",\"before\",\"its\",\"never\",\"should\",\"better\",\"give\",\"thought\",\"went\",\"might\",\"important\",\"000\",\"again\",\"together\",\"able\",\"still\",\"problem\",\"off\",\"next\",\"part\",\"course\",\"system\",\"him\",\"does\",\"each\",\"start\",\"show\",\"long\",\"ago\",\"story\",\"came\",\"brain\",\"few\",\"bit\",\"between\",\"used\",\"place\",\"technology\",\"women\",\"too\",\"old\",\"mean\",\"data\",\"water\",\"looking\",\"question\",\"maybe\",\"found\",\"love\",\"doesn\",\"end\",\"example\",\"10\",\"done\",\"point\",\"four\",\"real\",\"wanted\",\"ever\",\"understand\",\"school\",\"sort\",\"live\",\"call\",\"whole\",\"always\",\"children\",\"trying\",\"may\",\"person\",\"away\",\"feel\",\"believe\",\"try\",\"million\",\"working\",\"help\",\"everything\",\"five\",\"country\",\"thinking\",\"second\",\"using\",\"information\",\"money\",\"means\",\"power\",\"took\",\"times\",\"high\",\"space\",\"number\",\"kids\",\"home\",\"become\",\"create\",\"small\",\"design\",\"making\",\"best\",\"left\",\"getting\",\"future\",\"enough\",\"man\",\"quite\",\"city\",\"without\",\"sense\",\"happened\",\"comes\",\"social\",\"probably\",\"light\",\"less\",\"talking\",\"energy\",\"am\",\"building\",\"science\",\"food\",\"body\",\"told\",\"interesting\",\"half\",\"ask\",\"pretty\",\"play\",\"hard\",\"anything\",\"lives\",\"countries\",\"such\",\"coming\",\"family\",\"stuff\",\"dollars\",\"earth\",\"moment\",\"20\",\"imagine\",\"across\",\"side\",\"saw\",\"while\",\"happen\",\"okay\",\"once\",\"build\",\"having\",\"men\",\"later\",\"experience\",\"asked\",\"makes\",\"living\",\"seen\",\"says\",\"room\",\"hand\",\"simple\",\"health\",\"ways\",\"else\",\"case\",\"almost\",\"yet\",\"young\",\"days\",\"nothing\",\"care\",\"bad\",\"happens\",\"goes\",\"move\",\"states\",\"reason\",\"computer\",\"open\",\"africa\",\"learn\",\"process\",\"inside\",\"someone\",\"six\",\"far\",\"mind\",\"project\",\"remember\",\"single\",\"picture\",\"both\",\"whether\",\"problems\",\"community\",\"basically\",\"saying\",\"already\",\"within\",\"looked\",\"myself\",\"billion\",\"often\",\"possible\",\"business\",\"planet\",\"global\",\"everybody\",\"top\",\"public\",\"sure\",\"set\",\"wrong\",\"car\",\"book\",\"keep\",\"yes\",\"answer\",\"oh\",\"sometimes\",\"hope\",\"history\",\"true\",\"war\",\"child\",\"guy\",\"instead\",\"months\",\"ideas\",\"looks\",\"matter\",\"government\",\"amazing\",\"united\",\"since\",\"bring\",\"age\",\"cells\",\"job\",\"heard\",\"until\",\"face\",\"wasn\",\"100\",\"read\",\"control\",\"isn\",\"research\",\"30\",\"words\",\"u\",\"group\",\"under\",\"self\",\"somebody\",\"built\",\"state\",\"woman\",\"turn\",\"friends\",\"beautiful\",\"line\",\"knew\",\"couple\",\"order\",\"form\",\"yeah\",\"internet\",\"middle\",\"music\",\"piece\",\"nature\",\"head\",\"though\",\"stop\",\"everyone\",\"50\",\"places\",\"video\",\"language\",\"learned\",\"run\",\"night\",\"decided\",\"word\",\"study\",\"cancer\",\"taking\",\"works\",\"became\",\"exactly\",\"species\",\"completely\",\"society\",\"education\",\"against\",\"stories\",\"large\",\"share\",\"level\",\"heart\",\"america\",\"model\",\"gets\",\"questions\",\"mother\",\"god\",\"company\",\"turns\",\"ourselves\",\"happening\",\"hear\",\"art\",\"themselves\",\"must\",\"itself\",\"rather\",\"kinds\",\"students\",\"name\",\"hours\",\"disease\",\"front\",\"house\",\"couldn\",\"huge\",\"created\",\"universe\",\"ok\",\"animals\",\"american\",\"environment\",\"worked\",\"minutes\",\"ones\",\"black\",\"perhaps\",\"1\",\"past\",\"third\",\"along\",\"others\",\"finally\",\"sound\",\"early\",\"game\",\"thousands\",\"century\",\"least\",\"based\",\"per\",\"ted\",\"lots\",\"figure\",\"free\",\"particular\",\"guys\",\"happy\",\"news\",\"learning\",\"entire\",\"won\",\"gave\",\"india\",\"machine\",\"during\",\"systems\",\"air\",\"difference\",\"outside\",\"taken\",\"natural\",\"seven\",\"changed\",\"given\",\"leave\",\"cell\",\"15\",\"close\",\"cities\",\"behind\",\"full\",\"scale\",\"china\",\"difficult\",\"takes\",\"companies\",\"yourself\",\"area\",\"reality\",\"seeing\",\"easy\",\"turned\",\"cost\",\"eyes\",\"moving\",\"team\",\"population\",\"culture\",\"york\",\"hands\",\"whatever\",\"began\",\"needs\",\"terms\",\"image\",\"needed\",\"simply\",\"beginning\",\"father\",\"local\",\"realized\",\"media\",\"death\",\"parents\",\"view\",\"walk\",\"white\",\"market\",\"parts\",\"ocean\",\"economic\",\"eight\",\"powerful\",\"known\",\"week\",\"size\",\"felt\",\"humans\",\"certain\",\"spend\",\"longer\",\"phone\",\"wonderful\",\"cannot\",\"grow\",\"common\",\"tried\",\"center\",\"fish\",\"land\",\"oil\",\"interested\",\"political\",\"deal\",\"red\",\"gone\",\"amount\",\"weeks\",\"spent\",\"opportunity\",\"paper\",\"lost\",\"national\",\"quickly\",\"blue\",\"step\",\"poor\",\"green\",\"buy\",\"growth\",\"wouldn\",\"either\",\"patients\",\"sitting\",\"ability\",\"changes\",\"write\",\"challenge\",\"south\",\"low\",\"growing\",\"friend\",\"field\",\"2\",\"shows\",\"born\",\"rest\",\"climate\",\"40\",\"test\",\"street\",\"surface\",\"incredible\",\"average\",\"scientists\",\"value\",\"pay\",\"program\",\"physical\",\"morning\",\"behavior\",\"met\",\"girl\",\"hundreds\",\"feeling\",\"economy\",\"dna\",\"complex\",\"access\",\"risk\",\"animal\",\"structure\",\"feet\",\"attention\",\"anyone\",\"areas\",\"deep\",\"watch\",\"short\",\"absolutely\",\"brought\",\"speak\",\"bottom\",\"die\",\"audience\",\"numbers\",\"stage\",\"realize\",\"images\",\"law\",\"wrote\",\"understanding\",\"knowledge\",\"books\",\"literally\",\"movement\",\"ground\",\"giving\",\"eat\",\"force\",\"seems\",\"alone\",\"telling\",\"hold\",\"starting\",\"nice\",\"forward\",\"sea\",\"developed\",\"kid\",\"individual\",\"millions\",\"support\",\"tools\",\"running\",\"miles\",\"online\",\"result\",\"act\",\"medical\",\"technologies\",\"north\",\"development\",\"lab\",\"blood\",\"fear\",\"nobody\",\"map\",\"personal\",\"voice\",\"issue\",\"key\",\"material\",\"12\",\"recently\",\"theory\",\"cut\",\"cars\",\"fast\",\"sun\",\"changing\",\"playing\",\"clear\",\"especially\",\"girls\",\"soon\",\"patient\",\"choice\",\"fly\",\"creating\",\"normal\",\"discovered\",\"talked\",\"relationship\",\"europe\",\"gives\",\"generation\",\"dark\",\"type\",\"showed\",\"industry\",\"seem\",\"asking\",\"chance\",\"rate\",\"hour\",\"designed\",\"fun\",\"color\",\"issues\",\"class\",\"computers\",\"several\",\"innovation\",\"university\",\"english\",\"tiny\",\"focus\",\"save\",\"allow\",\"solve\",\"developing\",\"digital\",\"film\",\"network\",\"special\",\"wall\",\"situation\",\"baby\",\"solution\",\"box\",\"reasons\",\"knows\",\"meet\",\"stand\",\"dead\",\"haven\",\"begin\",\"anybody\",\"impact\",\"term\",\"beyond\",\"pictures\",\"please\",\"produce\",\"ice\",\"shape\",\"non\",\"robot\",\"cool\",\"resources\",\"stay\",\"likely\",\"groups\",\"major\",\"rights\",\"available\",\"truth\",\"cause\",\"experiment\",\"writing\",\"obviously\",\"evidence\",\"modern\",\"drug\",\"incredibly\",\"becomes\",\"guess\",\"aren\",\"bigger\",\"drugs\",\"product\",\"nine\",\"lived\",\"involved\",\"month\",\"perfect\",\"google\",\"putting\",\"effect\",\"similar\",\"eye\",\"pick\",\"message\",\"quality\",\"violence\",\"web\",\"office\",\"evolution\",\"security\",\"indeed\",\"general\",\"solar\",\"basic\",\"towards\",\"present\",\"drive\",\"worth\",\"send\",\"listen\",\"revolution\",\"hundred\",\"explain\",\"died\",\"certainly\",\"ready\",\"teach\",\"25\",\"journey\",\"walking\",\"hit\",\"led\",\"approach\",\"international\",\"200\",\"games\",\"scientific\",\"potential\",\"chinese\",\"communities\",\"60\",\"crazy\",\"device\",\"camera\",\"source\",\"sex\",\"rules\",\"carbon\",\"sounds\",\"boy\",\"reach\",\"starts\",\"west\",\"examples\",\"3\",\"measure\",\"particularly\",\"success\",\"software\",\"totally\",\"suddenly\",\"action\",\"college\",\"higher\",\"code\",\"eventually\",\"democracy\",\"sit\",\"among\",\"minute\",\"largest\",\"hospital\",\"showing\",\"notice\",\"period\",\"mass\",\"develop\",\"dream\",\"onto\",\"memory\",\"plants\",\"add\",\"break\",\"everywhere\",\"zero\",\"11\",\"favorite\",\"speed\",\"schools\",\"response\",\"moved\",\"wants\",\"extremely\",\"individuals\",\"movie\",\"wait\",\"table\",\"anyway\",\"follow\",\"medicine\",\"trust\",\"plant\",\"biggest\",\"organization\",\"watching\",\"creative\",\"road\",\"choose\",\"worse\",\"results\",\"lead\",\"500\",\"exciting\",\"materials\",\"grew\",\"jobs\",\"positive\",\"plan\",\"east\",\"poverty\",\"strong\",\"safe\",\"fall\",\"essentially\",\"object\",\"door\",\"vision\",\"further\",\"continue\",\"son\",\"happiness\",\"student\",\"doctor\",\"named\",\"objects\",\"including\",\"role\",\"extraordinary\",\"standing\",\"african\",\"projects\",\"skin\",\"usually\",\"conversation\",\"leaders\",\"models\",\"allowed\",\"supposed\",\"faster\",\"interest\",\"fight\",\"families\",\"police\",\"tree\",\"connected\",\"screen\",\"5\",\"cases\",\"goal\",\"somewhere\",\"shown\",\"finding\",\"buildings\"],\"x1\":{\"__ndarray__\":\"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\",\"dtype\":\"float64\",\"shape\":[1000]},\"x2\":{\"__ndarray__\":\"OcBE6CdLMcAJ8G1fb8AWwBdN3J7SiyDAwJwyIVgyM8DkxqeS+6Xjv6sWRrf88AfAbDh2FNtvJ8DxskfYhZQxwJcwuCqvvwzAdHsAqyq0FMCzPrA35mAGQL4dU3HYegTAPcFSLzoDBsBvYwcZ/JoFwLo/4MluZwjA+rIeUpp/BkCii8dkgnInwNl7iM4i7g/AAG0JJaYPdj9X28AXqFsVQCV7wk/dFwfAcxhrWKl3MUDRIBf3gHIYwHbXHZaUFBrAUfCcqmoMOcAiHs/N6TMXwFO0bDQA8BDAGwGo205JFMAldZWvZkAZQExNpP0rHxXAb9DSPNUXBsASPKmAUAcwwB5QK5o5gyDAKHw/4IhDIUDa6XGKcSwjwAr8KGRnFOi/A4K/HOnTCMA1Hh0sIDclQEnQQPiLGyPA7kwrkZuqEsD6SDWMCM4CwI7K1oMUlSXAPfiqlNL9KUCFYV71L3kjwBaV+WpQc+6/K1IO9HLDIcD+1MbWCEUEQBnMsYC2LxVA2xVYb8DPFcDoOUatTRMHwJVhmceSHeU/yNpGcNLCHcAm8zrZUCoUwGjty74LWTbAErEJH9f/J8D8tdhhNsUBwB6vrRqf5hVA/hKD8aQ4OcAEI4BklyrQP5/bslAqEi7ARH/y8uddGUD+wsEZSgwXQBpLWmY/MyBAEun1jx0N8j/pXJvcY0EVQK5FAzG36RjAV3zOyAXWKMC68Stk5mgGwNAWtAp3/jjAd85EdParJcCut/KL88vkv5LD1T1jOghAXuz/WHYwGECjsNGozIcTwHaA9nNnuSVAUidlCBomIsBMy49joTQowPgOxZHoueK/5nnbCX/IK8CWtulcVIcWwDUPr6Ut0TBANdPUcc4xIcDLyroo26k5wCKdLuvvCyXAZkhB2+LZG8AWJ7Nv6Fs4wEc6ebhsNyhAK84lrWLPHMAKzmE8Z8kuwOFi5E7agBpA8cU6DQ32OMD53NbSLV77P/zi5j6YqRJAJERnAkQZD8BUwTfKxmYrwArGXm1qWyRABY46I3Z3DECfCEZ4uWQjwB6lM42s2BNAesBI069cMkCttVY6rUUEQKb1imyKGPS/S/aqOmpAN8BbEVm7HzAJwM7XZoII9Oq/sN1U+s6LIMAwfvAEne30P7zDTxwfOjHAkGaQbzV5EMD6cqBb/JkiwB3WAI89fB3ADK7cz3E/EsDqZsARG+o2wPOtCXDacui/JlhNPoMuFkA7UxdpE4cYwLEkxrYIISPAnTRubtaiFcC8FBpAx+AewIxoYzQoESJA9k4s+zJ2MMCn781BCn4QQNoDIVRDGA/A68nmO7RcGsCtx98eq9crwP0Wy86ZeyxAEinOc77T9r824UGqrnsfQPc8W6r0IjfA7RRkKqDY8z9LjBmSfXAywA39wEQ6LRHAGk2CjfN0OMDNJTKKVx4QQG0DuNP4MSPA3kG/x+W4OMA5lPFOS2MlwG4KuK8vjiPARpIzae4LAEB3J7ZdaS05wL4uoZYuhiRAxWGjtwchJkCejjIzySM3wNcMC5WREiJAWl6gV8fa/T8JLNUzYncJQO5C+ScNrjDA8QwUzMBaFUBKTQigW7wlwCgMlPebYDPAgpK28M9C9T+OqFYW58QzwOQvn88JFglAOGgTUwM1IEBqCDplEkozwB8SPPJCMiXAn4FIMxZ/HkB0hTO3VLcwQFaCajOquhrAaSCV38zDIUCZbt4SVGgjQG900tEOcRnAMpPs88oA47/Fcu3hKWwnwC4snWGwqTDAWZmobVIPNMAn9+lGYy8twIAEtGfGuhfAKwnUR5ISHcD/HnkvyW8hQI55BLVL9DfAIQr4zvcGGEA534rDpJsTQJhF6VArcRxAYiKmhWrzLMBwF0ajI+g3wEZ88BHwNTTAAqPCYaKVM8DFseEN9JcTwA1AdcCKOTnA0IiVudRS1z+0y4tZ4ZUewICVV/sd5CrAOoKfcTQFEcA7ysyAOio0wKu1evf+DinAVmzOsmvYIcCcTDXWUEonwC5/Sh9Y1B3AVSKlrxTVEMCKYNHuUnnzPwXJ/R2agwtAyveKF8yKHkBZeKRAZsgwwHppPdqBvjPA/+mFvu84D8AWnjOuqA0twF91kNv3piLABtiRZtsvN8B1viU3lj0lwFT/xbs+NjXAFyk/nmvALsBxR/AwBREgwMmC83h20CfA4DsnJ3NrI0CLyf8SnKfoP6Bg75nZJzPAeuc7aRShF0DAP/kTWPEfwBJGbObaufC/TO9aVpIE8j920cxKhpsYwN8qlOE77RXAKFoMhSGVLsAJJLgQN54MwFOoBHHlzDBA8J9jATFM+r9eLvy0J+omwNbaOb2SgjXAgDPGoymuL8AQITrOk7/cv08Y+q1L3TbAKtTPKZVUJMB3kinAzNMUwEKKiKY/cyFAOVMLYGpyH0B/XgnBAJUdwJ5B5DyGeyxAhm7r6KOY4j/kU6NTiaUKQMf7crNl+C3AMjwygt7KHsBcRY7/HNwjQCN74da3btI/+aNaxzvTN8BgeL5eFKciwLBhVQMwfhDA5nmkW7VZIEBlCl1XJKMWQH9MmfCICBBARPza/2G0M8DI+b0QxkYnwABQRdczoRxAUuq8uh/NMkA+4pr1nmE2wJaTlD5R1DTAyUAnRekaE0CRDLAM4MPzv+Gj1TS41C7ARJ/HIhEGIMCrgM2tXIcgwGLoho3gd/6/2L+SW2OjK8DPb9jAWZQqwAi9dEcJaCVAtsr17Vj47z/kQX+XmO4rwI5bLvlQaTbA++1K9iv3I0BFSsRC77gawAmf2nsEhhZACkcz/K8iI0B1kvai7LowwDWpA5yBMDDACxUVJP8k9D9fNB2lUfo0wI9oCUqTUxDAlIZxhk465z+OEIMvgGkkwHndMZD7lOg/Fvp6XZ6TJMBopFpMKD9+P0pLin1JzjPAIRrQ7QAIB8AraXVArREkwCfVnsePjyXAacVb16PhBsCzOTKgDpAwwLrwe0CbyBnAWOCyZo5q/r+7izY7cIsZQPDNxCN3YxJA55KBWJfb+z8rPEH4f7YlQJ5nC92ATC7AfWY6+T56MMAMaouFuub0P149HqdhVCLAkVBCniFLCUDrRiLk3P0zwEEbY46cfzXABIF8os2+HECeKkRgIbnkP54Op6yzwBBA9sX6jPvVMcBl3/n3cKUyQPJ7251Q6SLAfvek1EP6J8Dxjcg/qg0vwCDQ3vIpiOq//ylRDjwCI0Dg17QNY9YmwBOmmfhK1iRA0VLGQ5QYLMDZl2UeVibivwRMjGDyJDXAAtxHX9coFEAEP60buyY3wDa5A3gK6gbAj9jxxOYgK8AMiwvz/3ccwCMy13t92xpAWELDyXdkFECiTMHDflIXwO9czL9EGiNAA+ZEmNZi9L8UjpUdXE8jQAn2InaAsjPAj2W/fruAJsAeHGZw7IMJQJ5OZZtdPxPAmikLNeFgL8Btc/oauU4wwCvRj/GtrRNAkMnK4YETGsClD46lAG8IwMAYJYn1OTLA2i5VKbwxMcA3+x3wU14kwLXtkD22TTNAWc9upttGG8BIiVlsegEawDbrAiTXjB3AoonCgEcyIUCa88iJdDInQBZ+qgQ4vTJAX0OiF51KMcBhQDfC6XgfQDZhyvkAVv+/52jtI6LWB8BuX6qGxboAQHdsfBSDjDXADHQ8eFJYFsB7Vgnbh4UqwLlYz/3wewfAoLqmW/GENMCzyijEbuwgQHEB2bsUfSzAdqfUoR1zGcA/10cdJK00QPkBuNwnSzbAcbYFCAmA7b8KrFFLEqsVwGovQFnXny3AD6ysnIYCE0C31ZZupNIwwIcvLQwNmyfAFM4rPtMCMMAX23KsRJAZQEMQw7gt/CrAPQ6GxgWRL8AtG6oHtuAlwO4khT+rHBFAY4iiFB2pHsASqxH/XNUNwBmwKidQBSrATj68wH8uJ8DcfWU2E8UzwGMOu7WWaCPA1SuRZYwSG8AVGNuCGc8wwCeFxtmEICzAAaJVa0QSMMCJvuc+xTs0QEqapTAMUQHAgwsjCGSqMcBS6uPF5rwiwF85MmK7OSdA+YtqmwBMIMBc+DCVkx0dwARvLPa43yjAzgKE7BMoCEAwYSKBcLwVQP8LDF1ujRjATm+cdmWLFUAYZURUDhMjwFhgtbSPYxfAyb0s5cMMM8BlFLYcgkccwPO0K8pTrTbAPC9NYjZ6IsDF4aauJOskwMKZdxamrCbAGb1d9dU1J0AxZt4CCQckwGeVE85H+h7AWztLAGsgH8AmYiCV3C4zwAmSR9B7fjPAwsCe+mRKNcDlJLvjkEQzwFhAVB1pfg1AcLrHZM49FkCelSjqDlcgwAaUmhFoGgTAxJO3SEx4MMD2f0Qt37YXwFydG9ITpB/AXQf+k9F+L0D32lYHWJA0wLEqMnW/UiRAMJK1mOnWIUBaKIMWS9ctQOZG+x5ZAi7AaYEK6/onNcCsGkfAL9AWwPUgNWnnpDPAYsi/RozVL8DGeEHhK6MMwJP5HXs8KynAIsElfQukNEDfLOvRH7otwDTv1mu5BjPA5Qkm1ywgJMClE2VqbkUAQDYmlMT9RiNA3hCB5VvCMsDrG/hALXINwDPRByA6XB1AS4tDgq0uN8Atz3oalv0SQEudayx6bCrAopak5UHMFEDtUkAjH2YswD+qQS+dXTPArIhoxsMVKsBj8wc9TgwnwAcU2SA5pSbA2f0iLemQEsBARyRgHocXwCPhMEU3MwhATXN3PyU/NEAgP8qjHtM0wMD1OEmuOibAuLspxiA9KsA2OrNET44pwOF2bz+QZDDAokzPXswb/j/LpQYNsWIVwOaPmUV9RxbARGqQ9bwAKMA6mfjXsSstwLl9X8DZ6hpAOgE3eHKl6z/y1tSv+6v5v7wfVlhDtSfAkDLHvdswJcCRX5wYLmkiwCfumusH8RfAZk7QhsYJK8AOMuinYlcxwHT4r5zOaDXAPdMJGfCPFcCtVaO+FbswwEnFkYVRbhVA6yX0qEIVEUDC+tCRwZshwAwCETG8XTTAXfpxaBTlK8DgkwWNctwJwBt6AxnGehzAmtSzFPxRI8BaQ6Ps4ZAXQBUDj5rpwS3APK5fzKJ+6r8KE2dQgI0owKCu6qyo+iXAMvo8rfWCIUA9zb9lToQwwNfcERxudynAeU0G/cHDN8AKZRbzo6MswDQXEipnUBhAtE+zl0UyI8AKBfm73xwjQDDXJt4TBybA0ZS1J3xFJkBA1yHDTuQaQLJaLQzS0xTAMA86NwwQGsC7cIwK/XwwQG8Hwr3cAjDAfolhFSY7L8DelPwzgXIlwDb79XTvihNAihnCOnf8I8AloxSQdbk0wD3yqWCqjifAuQHWKlOnK8CdnxhcQs4mQGTworwJqiDAYcLTCbi5FcD3MrjU/WIXwHoE+oxurjPAsF/uWLPGM8DZ9M0uQijyv3hoZNdEHDnAJ5IwOJEPK8BK1OlRmK4TwOHjrv4C6iDAB5tHSYRFNMAe+Lcz0fcqwO3DjcGXuS7Axcts+5HXMMAvzmvRdpgTQMmHxjyRyf+/1q63hX2GMsC3iUgl/10YwLmAHv3RWyzA9pO3W1mdHkCrM+yiRBIiwBqb6fG0QjHA5eEIbDjrGcCpRpCxNjAjwFGZc8ubJB7AtUI3pUskMMA5bSdxCWo1wBmFb419cjBAmjRd29sjKsB8ALjZSVg0wGGsoPwVECrAGbhKJkrRM8AmkCfKodYmwPPrmxA9ofW/AN4av30CJ8Bv98VLoKIYwORGtlSbJCrA79xWS0GOMcAQMqlClsU1wPo/Bac0BjHAiCpdmG2DK8Bz0Da3tqASQA/NzozocSDAgNUybfpcNcDXymW9qePsv3ChKsswCifAOjkwIzJEF8AyLLUwcycewP+OdJsEhgxAhyR7EiNLNMCeMgUcaNoxwLyeQk5GrxDAlbFlvBW1KcALX9gAhtgZwP5UZEUdqzXADI4X68ZtJ8AAIrFP8Glsv2KPlTRh1zHAocKjpHFB6L+OEbeg9gINQMc/O79onhDApbW/oZpb6b8V0ERg9n8vwEbliJN1Ny3ALud2AK6UKcAQ/Pdzit4zwD0miQwqkBDAnb0pblqgGUAa2IHbGIUYwMfsm8aY0xTACBEvZpu0LMDdP9FY488nwAmuU9rYcRXAcHfKALn+IsDHBiQaD38gwNemvVUDXiPAWFxj42W5MsCRcFQ1iC4dQN9DD8hHsjDAffGufa9jNcB6rkqpOk0jQI4rBVdNMirAdMP83TRE/T87m2+JLz0DwFDMlwjZVS7AWr02FXLdJMCEM0YcYzgEwJH4+5PwLC/Av4Dx1/SxNcBgLelFY+gywKfhbWSGSjDAwU+UdiogJUAAJMjurtwnwK956GPEWx5AWaU5Scx5I8BiQkTw7psxwCJyJXhmZxhAPtGrT4XxF0ArcpyCNgkgwIdU9NgsFTPAENjBRK2PN8AvVlsiFBkLQARa5c9e4jLA+PHnWGGVFsAY1omKwCo2wBnlHAJ54QvA9pz/3PewAMB87TIxKt32P91+HQbE1zPAo/bCahPQMMAJMLdZ9i0mwDwKU2jZhQTAXMpSFV84KsA6tRN7ZgUJQMsXY8LMICdAylkomZhcMMDfKOr3hxMjwB0NaV3+GybA6sQk0jTuLMBFJO61M1UzwGfc0B+Kive/Mu+aGQXFGcBs6i9vqQEmwB0G+RCQvTPAIEbwUBcSE8CkmJ3ydt0RQOV9vveOYy7AvXePuOBkMED5l51nlZAZQJ+PUm4snirAFv38+dtyBsANr/Kb7MMSQGh5ZNfouyLAd4fmR9BiJEBqmQEVA5sqwOKcmm/XMTTA+6qykh0o8D/I200UhtcvwONohBbstCPAEwfyQYDDLMBAFdsVaNczwJCtO150CcW/MF1THIpUJMDYOtw2Ofg0wPGpzi79zy7Ae8SehArMNMBpV6KVkqArwPCFYRU05hLANbo9MT9dAMCUxlM9KE0zwGxoTtGpEjLAg2hiH/RULMARd5WmNuUqwKkxXF74+xRA0e4bWwZGL8CZBSFzuIsxwGE2Ok7Z1BXAzFkM8Cv5J8Ay7MDSOTMswJazFr2dZCTAYBkgSD+5LsC6QJic6+chwAxWbRbc4y3AGPtPDkmsKcCaO1foGOgywF77nDnCqB5AW1OeujzuEkBdHH4ovhcowFdz1SSQRSrAx1XTxky8JECdrqOpQI4hwE2XAGL+dTRAtrnsZGjYJcA56mFRi5gVwOGRsg/GFw1AScxE7AXtMMAEkCQw28wbwLlRB+OfGivAp+DSzgBwF0ASKzxUUQMGwMcBjr3NuABAoFMJn8vRE8CsnhPT+gEhwDkYCk2aYxfAU/ENtNNLFUA2oSdHszscwOwXK2w7tzLAKDwrdfizKsDRRRHh8LIowFtafx6G5yrAbdcL1BB9F8D6WGR94KYcwCyWrKnmUivAXOT1G5JMB8BibfDiVi7wP0CLZQPswRBAZ62djPZtLMCy4AYSp0AewNHCLjmGhB3ASGrPUSShB0ByzltJvGEKQDqlFwyGFiHAQR11FqzbMcAiNgtcrM0JwBz/7+JF7wjAp3RygeiWLsAz0vhqqQ4kwIV7oZ3n9yfAd0CX+9qoLsCBfl2fIA8eQDOOHdixBibAsb1CHKIf4r/M5fnJgrIkQBFSftFPXSnA6VNyqaUdJsCqYLsh5iQlwNd4e7NTiTLA0HX2WlMgJsAoH3tgEyk0wGk5valM8i/A+RW95DefLsB99NwQD2EfwPsV9PZpUSPA8JedjuUsNEBeG51B2/orwGuwyBzNKS3A1+pyWfPEJsBoD9tPc6wqwDO6UI4/7zLAd28GP5eTKsAhk0FinDc1wHKywAKzjDPAjMhNVnKlJcBmCd2JyRH8P8sNep5zaCbAIjgHcis79L9mHn2+I24CwGWjfBApFzHAPNJO6Iqy7b+yefZHe5QxwKvPBukd0jLAFQyX5h/yIkDBXcwsU//4v5HwzhiwFSLARHEgWJykJMCBheQF88b+P5ocRG5TXDDAHjcl2qzsI8BJ5AcLZLMuwNacTwjTZTDAmDRwyNyDKMCZL3J0WjE0wD5F3eFA9RLApCUK3qHDLsCByf0dC44VwAkLYjkZlSnAz9LwPTzWKsDVESdKge8uwE8PeDAE7B3AOXhq7r4/B0D3ED7dIzcjwE2JZRApqBJAs+iB79q4JEB8oeYor8EuwB9oGU4jNyHAYv9mL72LHMBzQUvHOAArwKcLTWqxDzTABcveFgiPJcC4n/aGquQ1wBSQbO72mi/A3EIQGA5kHsAcTbFYaxczwOaHssnMARjA8ElbrSlZ/787jApzOKcXQIkHZks7IRxAqS7dMSxvIEB0sLsHqHwywMfOSqRlPzHAaPtNWuxJKsC3FqjCxEcswKPUPUzWdDLAn9ZA9WBrEsBirYCYzDMowLGj2x3uqSPAVAL08dV3KsAUkn1C/rIkwEePRBh3pxbAl3ITG2ICF8C8zhclBkcRQKeJUtxalQBADmxO+qoLDMBGcO3eh5guQP/VqXa/hhBAISpUsIZpNECkHChRAXwowPvS6YN2CSPAFNrht5I+CsB1uwdAxY4awMgdScJdzRFA8eB5eJFVIUBUU3tfSZoAwHjEIbR4RSrAS/oH9qd3LsCKLOsKKaUpwNDHfiMg8THAsiyPeU56KMBTgKB8Jc4MQIgn+gXEMiTAUEJ6yu4LKsACc7bu6DsywKKaQdnkqTHAb58HEW7WKsDPugLy7I4hwLnJjt7mVibAPi+CQqsGLMD/vqGhIUcnwHIZAl2K9CXANggliBz1JMA3CzB2GgEywMZEmRBtSy7AOQSAvNI1yj/sSJ6/yIsLwIUv0hTbmBBADV9cI0LBLUCaqzL7ccwVQHBn/CLSxijAiYWArB6jK8C8HPfN0nc1wGFjESrH+SzAeqCt5Eq4M8ABtWziFEAlQIuEsAZj2yLA6lKpWGlcKcCyd6b6lqLgPx7yvPnBlijAm8qRDK5jMsDVUXUpq6kfwEDfB9/kwApAa/zYpkc1J8BnbPPulOsqwCQ8pugJAzLAZSijKPX4K8B16JLKMGsbwK1+LCfdQibAq3avN+PcMcAu7PRQ7CMhwLL6PuWUsjHAzr14EVcT8j9gkpc/3rIywJrkOQLPaArAMC/q2KSfLsAFwkYstsUFQPhEFgcNbiLAYqGWOpkMEEDMNKHzmTUVQGkMQU9cPTDATNlzgF58NcC33lJauCAdQFniLulv3CvAzOSfpcikHsBqgqhcFIYhwHG0Phiu3RxAFUIl12a2NMCJ4UHWCrktwBRygKjo9vO/f3SszTwX4T98rou/O/oqwAUbut93rSvAATScq/lCMsBImymEv5U0wDbxrJ0xFyzAPPawIkwGMcDX+4wI+YQqwDQAvG+kGjPAqSeLhvt8KsDyXNdrL5c0wCdzj2XWSiHAnrqPZH6FKcCOtZv7IFQlwHidLvO6fSzAAjqdgr8KJMBSnq2g7FckwPA7LEM+zPg/lXxiqJh+IMBobwht8l0kwB/cK6PZpANABI9XNH7TC8CtPVPik+gzwIuVQVk20x3A4t9xEIXiM8CaKNeTlpohQHgOJAIlOzDACliQHFuCKcCbTtK0akwrwGDU2Pm0hRzAkV/Q2ZOuGMDJhHh0qR4twGwZIpG+Nh7AX5+U1EEtF0D2mf+2wpMqwLzw7UOcAxTAbf9nx0wtMMBAM8H5+6n/Pwai9QtWyTTAqYKnSpzAJEAerbi8JDU1wIbWyq3BRxzArm5ktwqeB0BpjWnwoUwTQElM6U8nFDPAGadIs6vGKMAzsnw5Bv4gQK0d8usg5ybAqFWctTQ0GMD7XEvpr+cnwIMZ3BRv8iTAeQ+RXqdzDUAgGZL4d4ICQG4GrtVOtxzAjqtUI3uv+T+OLkobO440wGEGxD/50zDAsm+yiNHQEEAGq8eJ9RcrwJ6+n3SJ0CnAPisjymYmK8BHrqX7laIjwE4i9N09isw/40bHMVdYKsAlP+c8zNYnwCyDERMnfwBA+kUgUDkzFsCS8BbvJ80fwHMprreEHRJAp6vfBe5YMMDUe+TtXNEjwBuQctcdzyjAnmtA4nLrNMAACAJodSwywNDmzJfCLtS/6FAkbSHpMcCRptuFVjMBwBcxrcHChBBAmGq3jl/tG0Ae3nE8gdsgwKMu5/r3ABZA3WnVTGAaNMDVcDmcSNczwLaPembfsiXAXIT0sUMpL8BaaKj60pspwL8FI5bOADLAjV1BN/XCKsA/06qz0A40wGbT/EBE3jHARbQaDd2mMsDDfszX434iwNKO984xxfk/YBjQr3+hJMCP0VQY5hkowGglgo6STxfAxAIqNQJaKsA9sIg85iEcQE+3po20TBBAzVw5LQhmI8BReuqdPzkqwPpft2ZgQiDAKw44q6CFIsBznovYIOMmwKWpzdhywyTAWqkT9ny5NMDO04c4QqopwBDRCFaQTTPAH45nxSiqCcCH6O2YerY0wNp8Yhv7hSfALaUocQEvH8B8kCeWUUQjwPVVtWKBAyfA3v/EQF0uK8CwXvdiSPolwIF4k1yNzSLAtgI3kZ5jIsBWtKlGpgEgQF51s3vDlyvAqJM3wV6PB0B17W9uZJAqwAp3AR/0eDPART2eNUqPEsBuDGh8aqskwDCfCgDPlBLAKVit0h0jNMBqEeXLgJkgwMiV16t/EyrAiBoNf4UAEMBUMMLBRvIuwLy3mFGFGzDAZaQLohTtJcA=\",\"dtype\":\"float64\",\"shape\":[1000]}}},\"id\":\"f77fc46a-ce30-4739-9f09-95cbb82990a3\",\"type\":\"ColumnDataSource\"},{\"attributes\":{\"dimension\":1,\"plot\":{\"id\":\"31b7d0f5-c96e-4955-972a-fd74ef24f003\",\"subtype\":\"Figure\",\"type\":\"Plot\"},\"ticker\":{\"id\":\"a36841d2-0b1e-4a20-9d62-c793e75155b7\",\"type\":\"BasicTicker\"}},\"id\":\"8b05fc51-0403-4078-a58a-f08bbcc37822\",\"type\":\"Grid\"},{\"attributes\":{},\"id\":\"4e086a74-14fc-4f64-9846-b9104f5a6c87\",\"type\":\"BasicTicker\"},{\"attributes\":{},\"id\":\"8dacca04-e335-403e-b4d4-ea3f77c5bd59\",\"type\":\"BasicTickFormatter\"},{\"attributes\":{},\"id\":\"1e822888-af6c-4d2a-9fc5-7e61a6c9685f\",\"type\":\"ToolEvents\"},{\"attributes\":{\"formatter\":{\"id\":\"8dacca04-e335-403e-b4d4-ea3f77c5bd59\",\"type\":\"BasicTickFormatter\"},\"plot\":{\"id\":\"31b7d0f5-c96e-4955-972a-fd74ef24f003\",\"subtype\":\"Figure\",\"type\":\"Plot\"},\"ticker\":{\"id\":\"4e086a74-14fc-4f64-9846-b9104f5a6c87\",\"type\":\"BasicTicker\"}},\"id\":\"a72908dd-4571-4f35-af4a-a62450ca81a8\",\"type\":\"LinearAxis\"},{\"attributes\":{\"plot\":{\"id\":\"31b7d0f5-c96e-4955-972a-fd74ef24f003\",\"subtype\":\"Figure\",\"type\":\"Plot\"}},\"id\":\"266630d5-7b53-48d4-bb21-807bd9c7a538\",\"type\":\"ResetTool\"},{\"attributes\":{},\"id\":\"a36841d2-0b1e-4a20-9d62-c793e75155b7\",\"type\":\"BasicTicker\"},{\"attributes\":{\"callback\":null},\"id\":\"8be0a74c-1863-4c29-a480-b91b2ab3e672\",\"type\":\"DataRange1d\"},{\"attributes\":{\"active_drag\":\"auto\",\"active_scroll\":\"auto\",\"active_tap\":\"auto\",\"tools\":[{\"id\":\"490e893b-e42e-4cf0-bbcb-fad11737b674\",\"type\":\"PanTool\"},{\"id\":\"facdb3bb-c00f-4f08-a995-6a9abd014532\",\"type\":\"WheelZoomTool\"},{\"id\":\"266630d5-7b53-48d4-bb21-807bd9c7a538\",\"type\":\"ResetTool\"},{\"id\":\"4810255d-54b4-4829-a079-5a53bcf54bc2\",\"type\":\"SaveTool\"}]},\"id\":\"aa158537-0f93-4d29-aec5-58fe4675cab0\",\"type\":\"Toolbar\"},{\"attributes\":{\"plot\":{\"id\":\"31b7d0f5-c96e-4955-972a-fd74ef24f003\",\"subtype\":\"Figure\",\"type\":\"Plot\"}},\"id\":\"facdb3bb-c00f-4f08-a995-6a9abd014532\",\"type\":\"WheelZoomTool\"},{\"attributes\":{\"plot\":{\"id\":\"31b7d0f5-c96e-4955-972a-fd74ef24f003\",\"subtype\":\"Figure\",\"type\":\"Plot\"}},\"id\":\"4810255d-54b4-4829-a079-5a53bcf54bc2\",\"type\":\"SaveTool\"},{\"attributes\":{\"plot\":{\"id\":\"31b7d0f5-c96e-4955-972a-fd74ef24f003\",\"subtype\":\"Figure\",\"type\":\"Plot\"}},\"id\":\"490e893b-e42e-4cf0-bbcb-fad11737b674\",\"type\":\"PanTool\"},{\"attributes\":{\"callback\":null},\"id\":\"77abbdb3-449f-4c47-becd-810a682723fb\",\"type\":\"DataRange1d\"}],\"root_ids\":[\"31b7d0f5-c96e-4955-972a-fd74ef24f003\"]},\"title\":\"Bokeh Application\",\"version\":\"0.12.4\"}};\n",
       "            var render_items = [{\"docid\":\"465f6ff1-667f-48a0-9586-6362882ee3cc\",\"elementid\":\"1110cdcb-4c6f-4ddf-970b-f06c3a837e46\",\"modelid\":\"31b7d0f5-c96e-4955-972a-fd74ef24f003\"}];\n",
       "            \n",
       "            Bokeh.embed.embed_items(docs_json, render_items);\n",
       "          };\n",
       "          if (document.readyState != \"loading\") fn();\n",
       "          else document.addEventListener(\"DOMContentLoaded\", fn);\n",
       "        })();\n",
       "      },\n",
       "      function(Bokeh) {\n",
       "      }\n",
       "    ];\n",
       "  \n",
       "    function run_inline_js() {\n",
       "      \n",
       "      if ((window.Bokeh !== undefined) || (force === true)) {\n",
       "        for (var i = 0; i < inline_js.length; i++) {\n",
       "          inline_js[i](window.Bokeh);\n",
       "        }if (force === true) {\n",
       "          display_loaded();\n",
       "        }} else if (Date.now() < window._bokeh_timeout) {\n",
       "        setTimeout(run_inline_js, 100);\n",
       "      } else if (!window._bokeh_failed_load) {\n",
       "        console.log(\"Bokeh: BokehJS failed to load within specified timeout.\");\n",
       "        window._bokeh_failed_load = true;\n",
       "      } else if (force !== true) {\n",
       "        var cell = $(document.getElementById(\"1110cdcb-4c6f-4ddf-970b-f06c3a837e46\")).parents('.cell').data().cell;\n",
       "        cell.output_area.append_execute_result(NB_LOAD_WARNING)\n",
       "      }\n",
       "  \n",
       "    }\n",
       "  \n",
       "    if (window._bokeh_is_loading === 0) {\n",
       "      console.log(\"Bokeh: BokehJS loaded, going straight to plotting\");\n",
       "      run_inline_js();\n",
       "    } else {\n",
       "      load_libs(js_urls, function() {\n",
       "        console.log(\"Bokeh: BokehJS plotting callback run at\", now());\n",
       "        run_inline_js();\n",
       "      });\n",
       "    }\n",
       "  }(this));\n",
       "</script>"
      ]
     },
     "metadata": {},
     "output_type": "display_data"
    }
   ],
   "source": [
    "p = figure(tools=\"pan,wheel_zoom,reset,save\",\n",
    "           toolbar_location=\"above\",\n",
    "           title=\"word2vec T-SNE for most common words\")\n",
    "\n",
    "source = ColumnDataSource(data=dict(x1=words_top_ted_tsne[:,0],\n",
    "                                    x2=words_top_ted_tsne[:,1],\n",
    "                                    names=words_top_ted))\n",
    "\n",
    "p.scatter(x=\"x1\", y=\"x2\", size=8, source=source)\n",
    "\n",
    "labels = LabelSet(x=\"x1\", y=\"x2\", text=\"names\", y_offset=6,\n",
    "                  text_font_size=\"8pt\", text_color=\"#555555\",\n",
    "                  source=source, text_align='center')\n",
    "p.add_layout(labels)\n",
    "\n",
    "show(p)"
   ]
  },
  {
   "cell_type": "markdown",
   "metadata": {},
   "source": [
    "### Part 5: Wiki Learnt Representations"
   ]
  },
  {
   "cell_type": "markdown",
   "metadata": {},
   "source": [
    "Download dataset"
   ]
  },
  {
   "cell_type": "code",
   "execution_count": 6,
   "metadata": {
    "collapsed": true
   },
   "outputs": [],
   "source": [
    "if not os.path.isfile('wikitext-103-raw-v1.zip'):\n",
    "    urllib.request.urlretrieve(\"https://s3.amazonaws.com/research.metamind.io/wikitext/wikitext-103-raw-v1.zip\", filename=\"wikitext-103-raw-v1.zip\")"
   ]
  },
  {
   "cell_type": "code",
   "execution_count": 7,
   "metadata": {
    "collapsed": false
   },
   "outputs": [],
   "source": [
    "with zipfile.ZipFile('wikitext-103-raw-v1.zip', 'r') as z:\n",
    "    input_text = str(z.open('wikitext-103-raw/wiki.train.raw', 'r').read(), encoding='utf-8') # Thanks Robert Bastian"
   ]
  },
  {
   "cell_type": "markdown",
   "metadata": {},
   "source": [
    "Preprocess sentences (note that it's important to remove small sentences for performance)"
   ]
  },
  {
   "cell_type": "code",
   "execution_count": 8,
   "metadata": {
    "collapsed": false
   },
   "outputs": [],
   "source": [
    "sentences_wiki = []\n",
    "for line in input_text.split('\\n'):\n",
    "    s = [x for x in line.split('.') if x and len(x.split()) >= 5]\n",
    "    sentences_wiki.extend(s)\n",
    "    \n",
    "for s_i in range(len(sentences_wiki)):\n",
    "    sentences_wiki[s_i] = re.sub(\"[^a-z]\", \" \", sentences_wiki[s_i].lower())\n",
    "    sentences_wiki[s_i] = re.sub(r'\\([^)]*\\)', '', sentences_wiki[s_i])\n",
    "del input_text"
   ]
  },
  {
   "cell_type": "code",
   "execution_count": 9,
   "metadata": {
    "collapsed": false
   },
   "outputs": [
    {
     "name": "stdout",
     "output_type": "stream",
     "text": [
      "<class 'list'>\n",
      "['   valkyria chronicles iii   ', ' senj  no valkyria     unrecorded chronicles   japanese                 lit ', ' valkyria of the battlefield       commonly referred to as valkyria chronicles iii outside japan   is a tactical role     playing video game developed by sega and media', 'vision for the playstation portable ', ' released in january      in japan   it is the third game in the valkyria series ', ' employing the same fusion of tactical and real     time gameplay as its predecessors   the story runs parallel to the first game and follows the   nameless     a penal military unit serving the nation of gallia during the second europan war who perform secret black operations and are pitted against the imperial unit   calamaty raven   ', ' the game began development in        carrying over a large portion of the work done on valkyria chronicles ii ', ' while it retained the standard features of the series   it also underwent multiple adjustments   such as making the game more forgiving for series newcomers ', ' character designer raita honjou and composer hitoshi sakimoto both returned from previous entries   along with valkyria chronicles ii director takeshi ozawa ', ' a large team of writers handled the script ']\n"
     ]
    }
   ],
   "source": [
    "print(type(sentences_wiki))\n",
    "print(sentences_wiki[:10])"
   ]
  },
  {
   "cell_type": "code",
   "execution_count": 10,
   "metadata": {
    "collapsed": false
   },
   "outputs": [
    {
     "name": "stdout",
     "output_type": "stream",
     "text": [
      "4267112\n",
      "853422\n"
     ]
    }
   ],
   "source": [
    "# sample 1/5 of the data\n",
    "shuffle(sentences_wiki)\n",
    "print(len(sentences_wiki))\n",
    "sentences_wiki = sentences_wiki[:int(len(sentences_wiki)/5)]\n",
    "print(len(sentences_wiki))"
   ]
  },
  {
   "cell_type": "code",
   "execution_count": 58,
   "metadata": {
    "collapsed": false
   },
   "outputs": [
    {
     "name": "stdout",
     "output_type": "stream",
     "text": [
      " atheists and skeptics give speeches on various topics   and a debate with christian experts is held \n",
      "853422\n",
      "['atheists', 'and', 'skeptics', 'give', 'speeches', 'on', 'various', 'topics', 'and', 'a', 'debate', 'with', 'christian', 'experts', 'is', 'held']\n"
     ]
    }
   ],
   "source": [
    "print(sentences_wiki[1])\n",
    "\n",
    "temp = []\n",
    "for sent in sentences_wiki:\n",
    "    temp.append(sent.split())\n",
    "    \n",
    "print(len(temp))\n",
    "print(temp[1])"
   ]
  },
  {
   "cell_type": "markdown",
   "metadata": {},
   "source": [
    "Now, repeat all the same steps that you performed above. You should be able to reuse essentially all the code."
   ]
  },
  {
   "cell_type": "code",
   "execution_count": 59,
   "metadata": {
    "collapsed": true
   },
   "outputs": [],
   "source": [
    "sentences_wiki = temp \n",
    "\n",
    "counts_wiki_top1000 = []\n",
    "c_wiki = Counter([word for sent in sentences_wiki for word in sent if word != '' and word != ' '])"
   ]
  },
  {
   "cell_type": "code",
   "execution_count": 60,
   "metadata": {
    "collapsed": true
   },
   "outputs": [],
   "source": [
    "list_most_common_wiki = c_wiki.most_common(1000)"
   ]
  },
  {
   "cell_type": "code",
   "execution_count": 61,
   "metadata": {
    "collapsed": false
   },
   "outputs": [
    {
     "name": "stdout",
     "output_type": "stream",
     "text": [
      "[('the', 1283842), ('of', 546823), ('and', 500056), ('in', 434592), ('to', 398337), ('a', 358101), ('was', 214543), ('s', 164221), ('on', 152865), ('as', 145325), ('for', 139024), ('that', 137505), ('with', 129472), ('by', 126396), ('is', 102543), ('his', 93310), ('at', 92233), ('he', 91481), ('it', 89053), ('from', 88313), ('were', 70464), ('an', 64686), ('had', 58363), ('which', 55462), ('be', 47271), ('this', 43286), ('but', 42370), ('are', 41049), ('first', 40545), ('not', 39666), ('their', 38755), ('after', 38235), ('one', 37763), ('her', 37057), ('also', 36953), ('its', 36663), ('they', 34841), ('two', 34554), ('or', 33712), ('have', 32786), ('who', 31642), ('been', 30690), ('new', 30333), ('has', 30007), ('she', 29062), ('when', 27098), ('during', 26423), ('time', 26420), ('other', 25716), ('would', 25301), ('into', 24790), ('all', 24042), ('i', 23737), ('more', 23030), ('while', 21535), ('over', 21323), ('him', 20177), ('later', 19781), ('only', 19697), ('up', 19406), ('game', 19383), ('most', 19007), ('about', 18991), ('three', 18923), ('out', 18700), ('th', 18688), ('between', 18498), ('there', 17987), ('than', 17961), ('film', 16939), ('some', 16891), ('may', 16525), ('before', 16184), ('year', 16080), ('made', 15666), ('no', 15616), ('such', 15615), ('season', 15406), ('second', 15315), ('where', 15100), ('war', 14781), ('years', 14652), ('world', 14644), ('both', 14077), ('however', 13978), ('them', 13865), ('through', 13853), ('then', 13803), ('used', 13698), ('being', 13675), ('series', 13621), ('these', 13594), ('song', 13539), ('against', 13388), ('album', 13336), ('m', 13271), ('many', 13243), ('team', 12973), ('part', 12814), ('number', 12811), ('city', 12807), ('became', 12736), ('north', 12710), ('including', 12698), ('united', 12657), ('several', 12656), ('well', 12613), ('four', 12467), ('can', 12441), ('early', 12409), ('state', 12306), ('under', 12203), ('south', 11985), ('music', 11806), ('so', 11758), ('day', 11707), ('episode', 11584), ('following', 11293), ('states', 11287), ('said', 11248), ('american', 11048), ('known', 11034), ('did', 10797), ('although', 10741), ('could', 10714), ('began', 10586), ('work', 10448), ('until', 10376), ('because', 10270), ('like', 10252), ('released', 10164), ('called', 10123), ('high', 10084), ('t', 9971), ('people', 9877), ('end', 9794), ('since', 9462), ('british', 9409), ('around', 9342), ('long', 9336), ('best', 9182), ('national', 9174), ('each', 9147), ('if', 9132), ('september', 9059), ('million', 9052), ('found', 9008), ('life', 8998), ('us', 8988), ('same', 8976), ('west', 8955), ('another', 8941), ('along', 8922), ('back', 8920), ('five', 8857), ('use', 8803), ('show', 8679), ('km', 8570), ('took', 8506), ('any', 8436), ('group', 8431), ('final', 8413), ('received', 8388), ('off', 8384), ('century', 8376), ('area', 8359), ('you', 8355), ('august', 8335), ('school', 8267), ('due', 8241), ('october', 8182), ('what', 8000), ('will', 7927), ('john', 7882), ('government', 7845), ('east', 7818), ('june', 7801), ('line', 7778), ('march', 7746), ('system', 7709), ('july', 7669), ('home', 7659), ('single', 7658), ('games', 7609), ('third', 7589), ('november', 7523), ('large', 7432), ('much', 7428), ('general', 7422), ('april', 7375), ('down', 7357), ('set', 7352), ('major', 7304), ('left', 7256), ('based', 7204), ('family', 7201), ('house', 7144), ('december', 7128), ('york', 7121), ('just', 7077), ('place', 7069), ('history', 7057), ('we', 7041), ('company', 7016), ('army', 7014), ('played', 7010), ('king', 7003), ('band', 6965), ('included', 6964), ('name', 6955), ('six', 6948), ('road', 6942), ('won', 6917), ('now', 6900), ('character', 6885), ('january', 6865), ('within', 6762), ('wrote', 6730), ('main', 6704), ('own', 6690), ('according', 6666), ('near', 6646), ('those', 6634), ('led', 6633), ('video', 6617), ('st', 6602), ('described', 6587), ('times', 6576), ('men', 6561), ('last', 6534), ('battle', 6513), ('d', 6505), ('make', 6489), ('named', 6489), ('next', 6484), ('air', 6480), ('release', 6473), ('death', 6471), ('river', 6441), ('de', 6440), ('late', 6416), ('original', 6412), ('way', 6412), ('species', 6397), ('record', 6364), ('top', 6354), ('league', 6313), ('still', 6310), ('great', 6298), ('ship', 6295), ('production', 6285), ('storm', 6258), ('very', 6254), ('man', 6251), ('february', 6244), ('public', 6235), ('even', 6235), ('small', 6204), ('force', 6193), ('route', 6152), ('u', 6125), ('old', 6120), ('club', 6103), ('though', 6067), ('again', 6033), ('days', 6028), ('built', 6002), ('division', 5978), ('university', 5964), ('held', 5949), ('play', 5948), ('further', 5939), ('service', 5888), ('do', 5870), ('among', 5860), ('book', 5848), ('german', 5845), ('role', 5777), ('power', 5756), ('members', 5748), ('side', 5746), ('french', 5738), ('having', 5724), ('match', 5694), ('white', 5664), ('b', 5661), ('water', 5652), ('point', 5641), ('story', 5640), ('order', 5614), ('player', 5579), ('h', 5558), ('former', 5533), ('career', 5518), ('often', 5507), ('continued', 5505), ('town', 5409), ('came', 5403), ('park', 5377), ('black', 5359), ('without', 5354), ('local', 5327), ('considered', 5315), ('party', 5295), ('despite', 5293), ('take', 5243), ('england', 5238), ('island', 5231), ('county', 5225), ('few', 5172), ('form', 5153), ('half', 5137), ('written', 5126), ('different', 5103), ('military', 5077), ('songs', 5074), ('development', 5071), ('moved', 5065), ('given', 5051), ('support', 5046), ('english', 5042), ('period', 5038), ('version', 5030), ('become', 5014), ('president', 5010), ('ii', 4972), ('forces', 4936), ('country', 4928), ('london', 4927), ('tropical', 4925), ('court', 4911), ('c', 4906), ('lost', 4891), ('building', 4891), ('little', 4838), ('performance', 4816), ('international', 4806), ('n', 4785), ('re', 4779), ('published', 4774), ('position', 4744), ('royal', 4724), ('my', 4722), ('produced', 4717), ('gave', 4716), ('went', 4715), ('track', 4714), ('street', 4707), ('church', 4705), ('using', 4704), ('similar', 4669), ('never', 4661), ('television', 4658), ('tour', 4657), ('recorded', 4632), ('good', 4623), ('short', 4620), ('class', 4619), ('attack', 4618), ('returned', 4596), ('children', 4589), ('star', 4587), ('lead', 4578), ('western', 4574), ('land', 4531), ('include', 4518), ('stated', 4509), ('aircraft', 4508), ('total', 4493), ('ships', 4479), ('highway', 4476), ('live', 4475), ('women', 4472), ('fire', 4461), ('per', 4458), ('father', 4454), ('making', 4448), ('me', 4439), ('once', 4438), ('how', 4434), ('control', 4426), ('run', 4415), ('week', 4391), ('right', 4385), ('head', 4375), ('love', 4361), ('throughout', 4347), ('instead', 4343), ('young', 4326), ('australia', 4308), ('himself', 4287), ('less', 4277), ('upon', 4275), ('title', 4216), ('age', 4211), ('central', 4204), ('characters', 4197), ('hurricane', 4192), ('sea', 4190), ('design', 4188), ('law', 4186), ('red', 4183), ('e', 4177), ('developed', 4175), ('remained', 4172), ('away', 4172), ('across', 4158), ('died', 4155), ('southern', 4154), ('rock', 4145), ('ft', 4126), ('players', 4114), ('light', 4111), ('center', 4110), ('months', 4107), ('seven', 4096), ('result', 4094), ('previous', 4083), ('return', 4077), ('r', 4066), ('writing', 4062), ('station', 4056), ('political', 4055), ('eight', 4053), ('ten', 4051), ('night', 4046), ('various', 4043), ('office', 4030), ('college', 4008), ('james', 3990), ('eventually', 3964), ('low', 3959), ('seen', 3957), ('son', 3953), ('noted', 3950), ('too', 3940), ('construction', 3935), ('field', 3929), ('felt', 3927), ('reported', 3927), ('areas', 3927), ('created', 3921), ('race', 3914), ('style', 3913), ('japanese', 3910), ('should', 3907), ('reached', 3904), ('america', 3895), ('william', 3876), ('sent', 3871), ('award', 3867), ('act', 3862), ('win', 3849), ('miles', 3847), ('member', 3823), ('northern', 3813), ('followed', 3807), ('full', 3798), ('range', 3797), ('announced', 3794), ('served', 3790), ('able', 3788), ('performed', 3778), ('mm', 3754), ('killed', 3752), ('together', 3743), ('body', 3692), ('common', 3690), ('campaign', 3680), ('action', 3680), ('works', 3678), ('taken', 3670), ('originally', 3669), ('success', 3653), ('born', 3642), ('others', 3621), ('located', 3618), ('level', 3614), ('appeared', 3606), ('caused', 3604), ('george', 3589), ('get', 3586), ('playing', 3580), ('points', 3577), ('started', 3568), ('features', 3568), ('established', 3558), ('chart', 3556), ('thought', 3552), ('australian', 3549), ('stage', 3543), ('post', 3538), ('modern', 3536), ('front', 3521), ('project', 3516), ('added', 3511), ('football', 3499), ('f', 3496), ('fourth', 3490), ('formed', 3478), ('heavy', 3476), ('feet', 3467), ('present', 3461), ('behind', 3450), ('critics', 3442), ('addition', 3442), ('bridge', 3436), ('every', 3431), ('director', 3427), ('rather', 3423), ('special', 3415), ('decided', 3412), ('damage', 3409), ('sold', 3409), ('completed', 3405), ('site', 3402), ('o', 3399), ('go', 3396), ('close', 3395), ('popular', 3389), ('saw', 3380), ('david', 3370), ('open', 3370), ('see', 3362), ('championship', 3359), ('strong', 3358), ('initially', 3358), ('guns', 3349), ('command', 3345), ('population', 3340), ('important', 3337), ('art', 3335), ('eastern', 3328), ('mother', 3312), ('fleet', 3307), ('awards', 3302), ('soon', 3294), ('non', 3282), ('opened', 3278), ('kingdom', 3274), ('almost', 3266), ('france', 3254), ('ground', 3242), ('recording', 3234), ('michael', 3209), ('case', 3208), ('free', 3205), ('leading', 3202), ('worked', 3201), ('coast', 3193), ('event', 3192), ('l', 3187), ('mi', 3185), ('union', 3182), ('average', 3179), ('weeks', 3179), ('hall', 3177), ('region', 3173), ('featured', 3154), ('either', 3153), ('towards', 3152), ('scene', 3143), ('brought', 3143), ('victory', 3141), ('allowed', 3135), ('working', 3135), ('put', 3129), ('generally', 3120), ('sound', 3119), ('washington', 3118), ('wanted', 3116), ('scored', 3109), ('wife', 3103), ('help', 3103), ('cup', 3100), ('placed', 3097), ('records', 3083), ('henry', 3067), ('ever', 3067), ('provided', 3060), ('least', 3059), ('runs', 3051), ('training', 3025), ('hit', 3023), ('joined', 3016), ('example', 3011), ('navy', 3010), ('far', 3009), ('events', 2997), ('studio', 2991), ('co', 2974), ('does', 2967), ('mid', 2967), ('troops', 2959), ('nine', 2953), ('robert', 2951), ('magazine', 2947), ('list', 2942), ('hours', 2942), ('council', 2931), ('summer', 2931), ('european', 2930), ('designed', 2919), ('europe', 2900), ('human', 2895), ('opening', 2873), ('radio', 2871), ('brown', 2856), ('earlier', 2852), ('base', 2850), ('believed', 2848), ('particularly', 2846), ('big', 2841), ('al', 2840), ('replaced', 2833), ('society', 2833), ('official', 2833), ('media', 2831), ('possible', 2829), ('successful', 2828), ('operation', 2823), ('start', 2822), ('japan', 2822), ('squadron', 2818), ('association', 2812), ('review', 2809), ('significant', 2805), ('rest', 2799), ('police', 2798), ('month', 2797), ('involved', 2795), ('finished', 2794), ('crew', 2790), ('process', 2779), ('saying', 2778), ('met', 2777), ('minutes', 2777), ('beginning', 2776), ('available', 2774), ('shot', 2768), ('mph', 2760), ('films', 2758), ('increased', 2758), ('must', 2756), ('captain', 2748), ('change', 2743), ('research', 2732), ('stone', 2728), ('test', 2726), ('forced', 2719), ('future', 2710), ('highest', 2709), ('largest', 2702), ('taking', 2702), ('come', 2694), ('above', 2676), ('x', 2673), ('turned', 2671), ('outside', 2670), ('charles', 2665), ('better', 2664), ('passed', 2664), ('real', 2648), ('social', 2644), ('chief', 2641), ('enough', 2641), ('thomas', 2640), ('going', 2638), ('units', 2637), ('cast', 2637), ('additional', 2637), ('relationship', 2634), ('elements', 2633), ('ended', 2628), ('move', 2627), ('space', 2623), ('praised', 2619), ('business', 2619), ('reviews', 2613), ('ordered', 2611), ('middle', 2610), ('hill', 2603), ('lower', 2602), ('appearance', 2597), ('community', 2586), ('winds', 2585), ('thus', 2578), ('brother', 2577), ('san', 2577), ('previously', 2576), ('canada', 2574), ('signed', 2572), ('gun', 2568), ('goal', 2559), ('section', 2550), ('cross', 2550), ('staff', 2549), ('type', 2548), ('california', 2547), ('gold', 2543), ('female', 2534), ('give', 2532), ('g', 2528), ('program', 2521), ('board', 2521), ('hand', 2518), ('castle', 2516), ('rights', 2514), ('positive', 2512), ('lake', 2506), ('spent', 2503), ('find', 2501), ('groups', 2497), ('interest', 2496), ('overall', 2493), ('parts', 2493), ('told', 2491), ('required', 2491), ('attempt', 2490), ('round', 2483), ('infantry', 2481), ('plan', 2480), ('don', 2475), ('critical', 2474), ('news', 2473), ('directed', 2472), ('india', 2468), ('germany', 2466), ('lines', 2465), ('money', 2460), ('musical', 2457), ('v', 2456), ('failed', 2448), ('paul', 2446), ('reception', 2436), ('complete', 2430), ('prior', 2430), ('personal', 2426), ('evidence', 2425), ('study', 2424), ('entire', 2423), ('itself', 2415), ('room', 2413), ('uk', 2409), ('committee', 2408), ('sometimes', 2403), ('square', 2400), ('grand', 2398), ('already', 2397), ('plot', 2397), ('district', 2397), ('quickly', 2395), ('whom', 2394), ('election', 2387), ('battalion', 2384), ('limited', 2381), ('past', 2378), ('cover', 2375), ('background', 2373), ('peter', 2372), ('surface', 2367), ('indian', 2366), ('usually', 2366), ('press', 2360), ('port', 2356), ('green', 2354), ('term', 2354), ('bill', 2350), ('larger', 2349), ('asked', 2345), ('whose', 2343), ('our', 2342), ('loss', 2337), ('idea', 2334), ('score', 2324), ('claimed', 2323), ('bay', 2322), ('flight', 2321), ('mark', 2320), ('turn', 2320), ('p', 2319), ('cut', 2315), ('science', 2309), ('smith', 2306), ('operations', 2305), ('living', 2299), ('introduced', 2297), ('person', 2292), ('governor', 2291), ('issue', 2291), ('department', 2289), ('response', 2287), ('debut', 2286), ('car', 2286), ('speed', 2285), ('ny', 2282), ('decision', 2280), ('especially', 2279), ('movement', 2279), ('commander', 2275), ('episodes', 2269), ('industry', 2268), ('services', 2262), ('stars', 2262), ('voice', 2261), ('minister', 2260), ('arrived', 2259), ('students', 2256), ('queen', 2255), ('leaving', 2252), ('structure', 2251), ('virginia', 2251), ('scenes', 2248), ('carried', 2247), ('richard', 2247), ('writer', 2247), ('effects', 2245), ('novel', 2241), ('centre', 2237), ('anti', 2237), ('material', 2237), ('village', 2234), ('la', 2232), ('civil', 2230), ('food', 2227), ('woman', 2224), ('education', 2222), ('britain', 2220), ('commercial', 2219), ('defeated', 2218), ('empire', 2217), ('blue', 2216), ('teams', 2213), ('fifth', 2212), ('running', 2210), ('shows', 2202), ('self', 2202), ('latter', 2198), ('proposed', 2198), ('los', 2195), ('current', 2193), ('destroyed', 2189), ('remaining', 2189), ('child', 2188), ('nearly', 2186), ('k', 2183), ('becoming', 2182), ('winning', 2181), ('approximately', 2181), ('finally', 2180), ('entered', 2177), ('network', 2176), ('estimated', 2172), ('shortly', 2170), ('wide', 2163), ('length', 2163), ('size', 2160), ('language', 2157), ('naval', 2157), ('might', 2156), ('today', 2154), ('date', 2154), ('earth', 2153), ('fact', 2151), ('dark', 2150), ('daughter', 2149), ('nature', 2148), ('suggested', 2147), ('influence', 2145), ('report', 2139), ('compared', 2134), ('course', 2133), ('railway', 2131), ('pressure', 2130), ('islands', 2126), ('spanish', 2125), ('natural', 2125), ('view', 2124), ('depression', 2123), ('pop', 2118), ('god', 2117), ('chicago', 2113), ('nd', 2110), ('producer', 2110), ('related', 2105), ('provide', 2104), ('married', 2103), ('percent', 2102), ('upper', 2101), ('appointed', 2101), ('hot', 2098), ('singles', 2087), ('helped', 2087), ('your', 2086), ('leader', 2086), ('experience', 2085), ('brigade', 2083), ('tracks', 2080), ('soviet', 2078), ('face', 2077), ('contract', 2076), ('intended', 2076), ('higher', 2075), ('guitar', 2071), ('cost', 2070), ('got', 2067), ('friends', 2062), ('associated', 2054), ('done', 2053), ('lack', 2052), ('officers', 2052), ('longer', 2052), ('subsequently', 2052), ('effect', 2051), ('fort', 2050), ('private', 2050), ('changed', 2049), ('trade', 2048), ('agreed', 2045), ('changes', 2043), ('awarded', 2041), ('feature', 2031), ('books', 2031), ('supported', 2030), ('regular', 2030), ('fans', 2028), ('health', 2025), ('plans', 2022), ('immediately', 2018), ('forward', 2014), ('friend', 2013), ('lyrics', 2013), ('officer', 2011), ('buildings', 2005), ('edward', 2004), ('remains', 2004), ('countries', 2004), ('create', 2003), ('cm', 2003), ('soldiers', 2003), ('minor', 2000), ('museum', 1998), ('pacific', 1994), ('yet', 1994), ('whether', 1993), ('jackson', 1993), ('appear', 1992), ('extended', 1992), ('planned', 1992), ('information', 1990), ('something', 1989), ('regiment', 1984), ('captured', 1981), ('ball', 1979), ('china', 1978), ('pass', 1976), ('chinese', 1975), ('billboard', 1975), ('manager', 1970), ('professional', 1968), ('albums', 1966), ('federal', 1965), ('mostly', 1964), ('atlantic', 1962), ('problems', 1961), ('initial', 1959), ('ran', 1949), ('edition', 1948), ('corps', 1946), ('difficult', 1945), ('canadian', 1945), ('location', 1942), ('probably', 1940), ('winter', 1939), ('dead', 1938), ('includes', 1935), ('numerous', 1933), ('themselves', 1932), ('cause', 1930), ('singer', 1929), ('mixed', 1929), ('roman', 1926), ('moving', 1926), ('increase', 1923), ('issued', 1922), ('removed', 1916), ('really', 1916), ('lord', 1915), ('key', 1910), ('johnson', 1907), ('inspired', 1905), ('conference', 1901), ('christian', 1900), ('copies', 1898), ('always', 1897), ('energy', 1895), ('keep', 1895), ('hour', 1894), ('suffered', 1894), ('broadcast', 1892)]\n"
     ]
    }
   ],
   "source": [
    "print(list_most_common_wiki[:1000])"
   ]
  },
  {
   "cell_type": "code",
   "execution_count": 62,
   "metadata": {
    "collapsed": false
   },
   "outputs": [
    {
     "name": "stdout",
     "output_type": "stream",
     "text": [
      "[1283842, 546823, 500056, 434592, 398337, 358101, 214543, 164221, 152865, 145325, 139024, 137505, 129472, 126396, 102543, 93310, 92233, 91481, 89053, 88313, 70464, 64686, 58363, 55462, 47271, 43286, 42370, 41049, 40545, 39666, 38755, 38235, 37763, 37057, 36953, 36663, 34841, 34554, 33712, 32786, 31642, 30690, 30333, 30007, 29062, 27098, 26423, 26420, 25716, 25301, 24790, 24042, 23737, 23030, 21535, 21323, 20177, 19781, 19697, 19406, 19383, 19007, 18991, 18923, 18700, 18688, 18498, 17987, 17961, 16939, 16891, 16525, 16184, 16080, 15666, 15616, 15615, 15406, 15315, 15100, 14781, 14652, 14644, 14077, 13978, 13865, 13853, 13803, 13698, 13675, 13621, 13594, 13539, 13388, 13336, 13271, 13243, 12973, 12814, 12811]\n",
      "[2076, 2076, 2075, 2071, 2070, 2067, 2062, 2054, 2053, 2052, 2052, 2052, 2052, 2051, 2050, 2050, 2049, 2048, 2045, 2043, 2041, 2031, 2031, 2030, 2030, 2028, 2025, 2022, 2018, 2014, 2013, 2013, 2011, 2005, 2004, 2004, 2004, 2003, 2003, 2003, 2000, 1998, 1994, 1994, 1993, 1993, 1992, 1992, 1992, 1990, 1989, 1984, 1981, 1979, 1978, 1976, 1975, 1975, 1970, 1968, 1966, 1965, 1964, 1962, 1961, 1959, 1949, 1948, 1946, 1945, 1945, 1942, 1940, 1939, 1938, 1935, 1933, 1932, 1930, 1929, 1929, 1926, 1926, 1923, 1922, 1916, 1916, 1915, 1910, 1907, 1905, 1901, 1900, 1898, 1897, 1895, 1895, 1894, 1894, 1892]\n"
     ]
    }
   ],
   "source": [
    "for word, count in list_most_common_wiki:\n",
    "    counts_wiki_top1000.append(count)\n",
    "    \n",
    "print(counts_wiki_top1000[:100])\n",
    "print(counts_wiki_top1000[-100:])"
   ]
  },
  {
   "cell_type": "code",
   "execution_count": 63,
   "metadata": {
    "collapsed": false
   },
   "outputs": [
    {
     "name": "stdout",
     "output_type": "stream",
     "text": [
      "['the', 'of', 'and', 'in', 'to', 'a', 'was', 's', 'on', 'as', 'for', 'that', 'with', 'by', 'is', 'his', 'at', 'he', 'it', 'from', 'were', 'an', 'had', 'which', 'be', 'this', 'but', 'are', 'first', 'not', 'their', 'after', 'one', 'her', 'also', 'its', 'they', 'two', 'or', 'have', 'who', 'been', 'new', 'has', 'she', 'when', 'during', 'time', 'other', 'would', 'into', 'all', 'i', 'more', 'while', 'over', 'him', 'later', 'only', 'up', 'game', 'most', 'about', 'three', 'out', 'th', 'between', 'there', 'than', 'film', 'some', 'may', 'before', 'year', 'made', 'no', 'such', 'season', 'second', 'where', 'war', 'years', 'world', 'both', 'however', 'them', 'through', 'then', 'used', 'being', 'series', 'these', 'song', 'against', 'album', 'm', 'many', 'team', 'part', 'number']\n"
     ]
    }
   ],
   "source": [
    "words_top_wiki = []\n",
    "for word, count in list_most_common_wiki:\n",
    "    words_top_wiki.append(word)\n",
    "    \n",
    "print(words_top_wiki[:100])"
   ]
  },
  {
   "cell_type": "code",
   "execution_count": 64,
   "metadata": {
    "collapsed": true
   },
   "outputs": [],
   "source": [
    "model_wiki = Word2Vec(sentences_wiki, min_count=10, size=100)"
   ]
  },
  {
   "cell_type": "code",
   "execution_count": 65,
   "metadata": {
    "collapsed": true
   },
   "outputs": [],
   "source": [
    "model_wiki.save(\"wiki_word2vec_model\")"
   ]
  },
  {
   "cell_type": "code",
   "execution_count": 66,
   "metadata": {
    "collapsed": true
   },
   "outputs": [],
   "source": [
    "model_wiki = Word2Vec.load(\"wiki_word2vec_model\")"
   ]
  },
  {
   "cell_type": "code",
   "execution_count": 67,
   "metadata": {
    "collapsed": false
   },
   "outputs": [
    {
     "data": {
      "text/plain": [
       "48688"
      ]
     },
     "execution_count": 67,
     "metadata": {},
     "output_type": "execute_result"
    }
   ],
   "source": [
    "len(model_wiki.wv.vocab)"
   ]
  },
  {
   "cell_type": "markdown",
   "metadata": {},
   "source": [
    "#### t-SNE visualization"
   ]
  },
  {
   "cell_type": "code",
   "execution_count": 68,
   "metadata": {
    "collapsed": false
   },
   "outputs": [],
   "source": [
    "# This assumes words_top_wiki is a list of strings, the top 1000 words\n",
    "words_top_vec_wiki = model_wiki[words_top_wiki]\n",
    "\n",
    "tsne = TSNE(n_components=2, random_state=0)\n",
    "words_top_wiki_tsne = tsne.fit_transform(words_top_vec_wiki)"
   ]
  },
  {
   "cell_type": "code",
   "execution_count": 69,
   "metadata": {
    "collapsed": false
   },
   "outputs": [
    {
     "data": {
      "text/html": [
       "\n",
       "\n",
       "    <div class=\"bk-root\">\n",
       "        <div class=\"bk-plotdiv\" id=\"22b0170c-0dff-407b-b0f5-98e187451b01\"></div>\n",
       "    </div>\n",
       "<script type=\"text/javascript\">\n",
       "  \n",
       "  (function(global) {\n",
       "    function now() {\n",
       "      return new Date();\n",
       "    }\n",
       "  \n",
       "    var force = false;\n",
       "  \n",
       "    if (typeof (window._bokeh_onload_callbacks) === \"undefined\" || force === true) {\n",
       "      window._bokeh_onload_callbacks = [];\n",
       "      window._bokeh_is_loading = undefined;\n",
       "    }\n",
       "  \n",
       "  \n",
       "    \n",
       "    if (typeof (window._bokeh_timeout) === \"undefined\" || force === true) {\n",
       "      window._bokeh_timeout = Date.now() + 0;\n",
       "      window._bokeh_failed_load = false;\n",
       "    }\n",
       "  \n",
       "    var NB_LOAD_WARNING = {'data': {'text/html':\n",
       "       \"<div style='background-color: #fdd'>\\n\"+\n",
       "       \"<p>\\n\"+\n",
       "       \"BokehJS does not appear to have successfully loaded. If loading BokehJS from CDN, this \\n\"+\n",
       "       \"may be due to a slow or bad network connection. Possible fixes:\\n\"+\n",
       "       \"</p>\\n\"+\n",
       "       \"<ul>\\n\"+\n",
       "       \"<li>re-rerun `output_notebook()` to attempt to load from CDN again, or</li>\\n\"+\n",
       "       \"<li>use INLINE resources instead, as so:</li>\\n\"+\n",
       "       \"</ul>\\n\"+\n",
       "       \"<code>\\n\"+\n",
       "       \"from bokeh.resources import INLINE\\n\"+\n",
       "       \"output_notebook(resources=INLINE)\\n\"+\n",
       "       \"</code>\\n\"+\n",
       "       \"</div>\"}};\n",
       "  \n",
       "    function display_loaded() {\n",
       "      if (window.Bokeh !== undefined) {\n",
       "        document.getElementById(\"22b0170c-0dff-407b-b0f5-98e187451b01\").textContent = \"BokehJS successfully loaded.\";\n",
       "      } else if (Date.now() < window._bokeh_timeout) {\n",
       "        setTimeout(display_loaded, 100)\n",
       "      }\n",
       "    }\n",
       "  \n",
       "    function run_callbacks() {\n",
       "      window._bokeh_onload_callbacks.forEach(function(callback) { callback() });\n",
       "      delete window._bokeh_onload_callbacks\n",
       "      console.info(\"Bokeh: all callbacks have finished\");\n",
       "    }\n",
       "  \n",
       "    function load_libs(js_urls, callback) {\n",
       "      window._bokeh_onload_callbacks.push(callback);\n",
       "      if (window._bokeh_is_loading > 0) {\n",
       "        console.log(\"Bokeh: BokehJS is being loaded, scheduling callback at\", now());\n",
       "        return null;\n",
       "      }\n",
       "      if (js_urls == null || js_urls.length === 0) {\n",
       "        run_callbacks();\n",
       "        return null;\n",
       "      }\n",
       "      console.log(\"Bokeh: BokehJS not loaded, scheduling load and callback at\", now());\n",
       "      window._bokeh_is_loading = js_urls.length;\n",
       "      for (var i = 0; i < js_urls.length; i++) {\n",
       "        var url = js_urls[i];\n",
       "        var s = document.createElement('script');\n",
       "        s.src = url;\n",
       "        s.async = false;\n",
       "        s.onreadystatechange = s.onload = function() {\n",
       "          window._bokeh_is_loading--;\n",
       "          if (window._bokeh_is_loading === 0) {\n",
       "            console.log(\"Bokeh: all BokehJS libraries loaded\");\n",
       "            run_callbacks()\n",
       "          }\n",
       "        };\n",
       "        s.onerror = function() {\n",
       "          console.warn(\"failed to load library \" + url);\n",
       "        };\n",
       "        console.log(\"Bokeh: injecting script tag for BokehJS library: \", url);\n",
       "        document.getElementsByTagName(\"head\")[0].appendChild(s);\n",
       "      }\n",
       "    };var element = document.getElementById(\"22b0170c-0dff-407b-b0f5-98e187451b01\");\n",
       "    if (element == null) {\n",
       "      console.log(\"Bokeh: ERROR: autoload.js configured with elementid '22b0170c-0dff-407b-b0f5-98e187451b01' but no matching script tag was found. \")\n",
       "      return false;\n",
       "    }\n",
       "  \n",
       "    var js_urls = [];\n",
       "  \n",
       "    var inline_js = [\n",
       "      function(Bokeh) {\n",
       "        (function() {\n",
       "          var fn = function() {\n",
       "            var docs_json = {\"412923c4-cd7b-4adf-8251-b7140befc2df\":{\"roots\":{\"references\":[{\"attributes\":{\"plot\":null,\"text\":\"word2vec T-SNE for most common words\"},\"id\":\"e696f8bd-c711-48d7-8351-4510334a1be5\",\"type\":\"Title\"},{\"attributes\":{\"callback\":null},\"id\":\"d7a96368-6228-4dad-98cd-6e608e60a722\",\"type\":\"DataRange1d\"},{\"attributes\":{},\"id\":\"b68c28b9-928b-4940-8fc4-042d630147a0\",\"type\":\"ToolEvents\"},{\"attributes\":{\"active_drag\":\"auto\",\"active_scroll\":\"auto\",\"active_tap\":\"auto\",\"tools\":[{\"id\":\"6d1d49ec-4d22-4df4-aaee-8b8383eb30ad\",\"type\":\"PanTool\"},{\"id\":\"355c2d9d-90f5-47be-93f2-e6243ff65ebb\",\"type\":\"WheelZoomTool\"},{\"id\":\"db0702f6-d31b-4ca5-a729-5b0a147fb8e9\",\"type\":\"ResetTool\"},{\"id\":\"3ffd34e3-e925-4c47-a509-c60265881c00\",\"type\":\"SaveTool\"}]},\"id\":\"d55a64c5-839e-4adf-a327-25811fce5a1e\",\"type\":\"Toolbar\"},{\"attributes\":{\"plot\":{\"id\":\"66a01fee-9230-4a28-a81a-e05841cb1e4e\",\"subtype\":\"Figure\",\"type\":\"Plot\"}},\"id\":\"db0702f6-d31b-4ca5-a729-5b0a147fb8e9\",\"type\":\"ResetTool\"},{\"attributes\":{\"plot\":{\"id\":\"66a01fee-9230-4a28-a81a-e05841cb1e4e\",\"subtype\":\"Figure\",\"type\":\"Plot\"}},\"id\":\"355c2d9d-90f5-47be-93f2-e6243ff65ebb\",\"type\":\"WheelZoomTool\"},{\"attributes\":{\"plot\":{\"id\":\"66a01fee-9230-4a28-a81a-e05841cb1e4e\",\"subtype\":\"Figure\",\"type\":\"Plot\"}},\"id\":\"3ffd34e3-e925-4c47-a509-c60265881c00\",\"type\":\"SaveTool\"},{\"attributes\":{\"data_source\":{\"id\":\"73da16e9-4a72-4f48-b503-14af12a5a864\",\"type\":\"ColumnDataSource\"},\"glyph\":{\"id\":\"10d8c7b8-73e0-4635-ac4c-cd2522edbacd\",\"type\":\"Circle\"},\"hover_glyph\":null,\"nonselection_glyph\":{\"id\":\"ea1ecd90-558b-4edd-8cc5-fca21298837c\",\"type\":\"Circle\"},\"selection_glyph\":null},\"id\":\"8ecf3a58-d393-4565-b79f-2ac70444f866\",\"type\":\"GlyphRenderer\"},{\"attributes\":{\"fill_color\":{\"value\":\"#1f77b4\"},\"line_color\":{\"value\":\"#1f77b4\"},\"size\":{\"units\":\"screen\",\"value\":8},\"x\":{\"field\":\"x1\"},\"y\":{\"field\":\"x2\"}},\"id\":\"10d8c7b8-73e0-4635-ac4c-cd2522edbacd\",\"type\":\"Circle\"},{\"attributes\":{},\"id\":\"5ccaa767-7225-4e57-a5a2-bb527b36aa5c\",\"type\":\"BasicTickFormatter\"},{\"attributes\":{\"callback\":null},\"id\":\"44f774ea-2d4b-49a6-abfb-47fe89cee742\",\"type\":\"DataRange1d\"},{\"attributes\":{\"fill_alpha\":{\"value\":0.1},\"fill_color\":{\"value\":\"#1f77b4\"},\"line_alpha\":{\"value\":0.1},\"line_color\":{\"value\":\"#1f77b4\"},\"size\":{\"units\":\"screen\",\"value\":8},\"x\":{\"field\":\"x1\"},\"y\":{\"field\":\"x2\"}},\"id\":\"ea1ecd90-558b-4edd-8cc5-fca21298837c\",\"type\":\"Circle\"},{\"attributes\":{\"dimension\":1,\"plot\":{\"id\":\"66a01fee-9230-4a28-a81a-e05841cb1e4e\",\"subtype\":\"Figure\",\"type\":\"Plot\"},\"ticker\":{\"id\":\"333b2bab-98a0-4829-bcec-285d6a42b3a0\",\"type\":\"BasicTicker\"}},\"id\":\"1c845f66-a9b6-4cc1-80c7-e2cb3c673923\",\"type\":\"Grid\"},{\"attributes\":{},\"id\":\"3f388380-bede-49e8-b808-116184a3d3ca\",\"type\":\"BasicTickFormatter\"},{\"attributes\":{\"plot\":{\"id\":\"66a01fee-9230-4a28-a81a-e05841cb1e4e\",\"subtype\":\"Figure\",\"type\":\"Plot\"},\"source\":{\"id\":\"73da16e9-4a72-4f48-b503-14af12a5a864\",\"type\":\"ColumnDataSource\"},\"text\":{\"field\":\"names\"},\"text_align\":\"center\",\"text_color\":{\"value\":\"#555555\"},\"text_font_size\":{\"value\":\"8pt\"},\"x\":{\"field\":\"x1\"},\"y\":{\"field\":\"x2\"},\"y_offset\":{\"value\":6}},\"id\":\"7507e0d9-8a12-423d-a5bc-78dc608297ba\",\"type\":\"LabelSet\"},{\"attributes\":{\"plot\":{\"id\":\"66a01fee-9230-4a28-a81a-e05841cb1e4e\",\"subtype\":\"Figure\",\"type\":\"Plot\"}},\"id\":\"6d1d49ec-4d22-4df4-aaee-8b8383eb30ad\",\"type\":\"PanTool\"},{\"attributes\":{\"callback\":null,\"column_names\":[\"x2\",\"names\",\"x1\"],\"data\":{\"names\":[\"the\",\"of\",\"and\",\"in\",\"to\",\"a\",\"was\",\"s\",\"on\",\"as\",\"for\",\"that\",\"with\",\"by\",\"is\",\"his\",\"at\",\"he\",\"it\",\"from\",\"were\",\"an\",\"had\",\"which\",\"be\",\"this\",\"but\",\"are\",\"first\",\"not\",\"their\",\"after\",\"one\",\"her\",\"also\",\"its\",\"they\",\"two\",\"or\",\"have\",\"who\",\"been\",\"new\",\"has\",\"she\",\"when\",\"during\",\"time\",\"other\",\"would\",\"into\",\"all\",\"i\",\"more\",\"while\",\"over\",\"him\",\"later\",\"only\",\"up\",\"game\",\"most\",\"about\",\"three\",\"out\",\"th\",\"between\",\"there\",\"than\",\"film\",\"some\",\"may\",\"before\",\"year\",\"made\",\"no\",\"such\",\"season\",\"second\",\"where\",\"war\",\"years\",\"world\",\"both\",\"however\",\"them\",\"through\",\"then\",\"used\",\"being\",\"series\",\"these\",\"song\",\"against\",\"album\",\"m\",\"many\",\"team\",\"part\",\"number\",\"city\",\"became\",\"north\",\"including\",\"united\",\"several\",\"well\",\"four\",\"can\",\"early\",\"state\",\"under\",\"south\",\"music\",\"so\",\"day\",\"episode\",\"following\",\"states\",\"said\",\"american\",\"known\",\"did\",\"although\",\"could\",\"began\",\"work\",\"until\",\"because\",\"like\",\"released\",\"called\",\"high\",\"t\",\"people\",\"end\",\"since\",\"british\",\"around\",\"long\",\"best\",\"national\",\"each\",\"if\",\"september\",\"million\",\"found\",\"life\",\"us\",\"same\",\"west\",\"another\",\"along\",\"back\",\"five\",\"use\",\"show\",\"km\",\"took\",\"any\",\"group\",\"final\",\"received\",\"off\",\"century\",\"area\",\"you\",\"august\",\"school\",\"due\",\"october\",\"what\",\"will\",\"john\",\"government\",\"east\",\"june\",\"line\",\"march\",\"system\",\"july\",\"home\",\"single\",\"games\",\"third\",\"november\",\"large\",\"much\",\"general\",\"april\",\"down\",\"set\",\"major\",\"left\",\"based\",\"family\",\"house\",\"december\",\"york\",\"just\",\"place\",\"history\",\"we\",\"company\",\"army\",\"played\",\"king\",\"band\",\"included\",\"name\",\"six\",\"road\",\"won\",\"now\",\"character\",\"january\",\"within\",\"wrote\",\"main\",\"own\",\"according\",\"near\",\"those\",\"led\",\"video\",\"st\",\"described\",\"times\",\"men\",\"last\",\"battle\",\"d\",\"make\",\"named\",\"next\",\"air\",\"release\",\"death\",\"river\",\"de\",\"late\",\"original\",\"way\",\"species\",\"record\",\"top\",\"league\",\"still\",\"great\",\"ship\",\"production\",\"storm\",\"very\",\"man\",\"february\",\"public\",\"even\",\"small\",\"force\",\"route\",\"u\",\"old\",\"club\",\"though\",\"again\",\"days\",\"built\",\"division\",\"university\",\"held\",\"play\",\"further\",\"service\",\"do\",\"among\",\"book\",\"german\",\"role\",\"power\",\"members\",\"side\",\"french\",\"having\",\"match\",\"white\",\"b\",\"water\",\"point\",\"story\",\"order\",\"player\",\"h\",\"former\",\"career\",\"often\",\"continued\",\"town\",\"came\",\"park\",\"black\",\"without\",\"local\",\"considered\",\"party\",\"despite\",\"take\",\"england\",\"island\",\"county\",\"few\",\"form\",\"half\",\"written\",\"different\",\"military\",\"songs\",\"development\",\"moved\",\"given\",\"support\",\"english\",\"period\",\"version\",\"become\",\"president\",\"ii\",\"forces\",\"country\",\"london\",\"tropical\",\"court\",\"c\",\"lost\",\"building\",\"little\",\"performance\",\"international\",\"n\",\"re\",\"published\",\"position\",\"royal\",\"my\",\"produced\",\"gave\",\"went\",\"track\",\"street\",\"church\",\"using\",\"similar\",\"never\",\"television\",\"tour\",\"recorded\",\"good\",\"short\",\"class\",\"attack\",\"returned\",\"children\",\"star\",\"lead\",\"western\",\"land\",\"include\",\"stated\",\"aircraft\",\"total\",\"ships\",\"highway\",\"live\",\"women\",\"fire\",\"per\",\"father\",\"making\",\"me\",\"once\",\"how\",\"control\",\"run\",\"week\",\"right\",\"head\",\"love\",\"throughout\",\"instead\",\"young\",\"australia\",\"himself\",\"less\",\"upon\",\"title\",\"age\",\"central\",\"characters\",\"hurricane\",\"sea\",\"design\",\"law\",\"red\",\"e\",\"developed\",\"remained\",\"away\",\"across\",\"died\",\"southern\",\"rock\",\"ft\",\"players\",\"light\",\"center\",\"months\",\"seven\",\"result\",\"previous\",\"return\",\"r\",\"writing\",\"station\",\"political\",\"eight\",\"ten\",\"night\",\"various\",\"office\",\"college\",\"james\",\"eventually\",\"low\",\"seen\",\"son\",\"noted\",\"too\",\"construction\",\"field\",\"felt\",\"reported\",\"areas\",\"created\",\"race\",\"style\",\"japanese\",\"should\",\"reached\",\"america\",\"william\",\"sent\",\"award\",\"act\",\"win\",\"miles\",\"member\",\"northern\",\"followed\",\"full\",\"range\",\"announced\",\"served\",\"able\",\"performed\",\"mm\",\"killed\",\"together\",\"body\",\"common\",\"campaign\",\"action\",\"works\",\"taken\",\"originally\",\"success\",\"born\",\"others\",\"located\",\"level\",\"appeared\",\"caused\",\"george\",\"get\",\"playing\",\"points\",\"started\",\"features\",\"established\",\"chart\",\"thought\",\"australian\",\"stage\",\"post\",\"modern\",\"front\",\"project\",\"added\",\"football\",\"f\",\"fourth\",\"formed\",\"heavy\",\"feet\",\"present\",\"behind\",\"critics\",\"addition\",\"bridge\",\"every\",\"director\",\"rather\",\"special\",\"decided\",\"damage\",\"sold\",\"completed\",\"site\",\"o\",\"go\",\"close\",\"popular\",\"saw\",\"david\",\"open\",\"see\",\"championship\",\"strong\",\"initially\",\"guns\",\"command\",\"population\",\"important\",\"art\",\"eastern\",\"mother\",\"fleet\",\"awards\",\"soon\",\"non\",\"opened\",\"kingdom\",\"almost\",\"france\",\"ground\",\"recording\",\"michael\",\"case\",\"free\",\"leading\",\"worked\",\"coast\",\"event\",\"l\",\"mi\",\"union\",\"average\",\"weeks\",\"hall\",\"region\",\"featured\",\"either\",\"towards\",\"scene\",\"brought\",\"victory\",\"allowed\",\"working\",\"put\",\"generally\",\"sound\",\"washington\",\"wanted\",\"scored\",\"wife\",\"help\",\"cup\",\"placed\",\"records\",\"henry\",\"ever\",\"provided\",\"least\",\"runs\",\"training\",\"hit\",\"joined\",\"example\",\"navy\",\"far\",\"events\",\"studio\",\"co\",\"does\",\"mid\",\"troops\",\"nine\",\"robert\",\"magazine\",\"list\",\"hours\",\"council\",\"summer\",\"european\",\"designed\",\"europe\",\"human\",\"opening\",\"radio\",\"brown\",\"earlier\",\"base\",\"believed\",\"particularly\",\"big\",\"al\",\"replaced\",\"society\",\"official\",\"media\",\"possible\",\"successful\",\"operation\",\"start\",\"japan\",\"squadron\",\"association\",\"review\",\"significant\",\"rest\",\"police\",\"month\",\"involved\",\"finished\",\"crew\",\"process\",\"saying\",\"met\",\"minutes\",\"beginning\",\"available\",\"shot\",\"mph\",\"films\",\"increased\",\"must\",\"captain\",\"change\",\"research\",\"stone\",\"test\",\"forced\",\"future\",\"highest\",\"largest\",\"taking\",\"come\",\"above\",\"x\",\"turned\",\"outside\",\"charles\",\"better\",\"passed\",\"real\",\"social\",\"chief\",\"enough\",\"thomas\",\"going\",\"units\",\"cast\",\"additional\",\"relationship\",\"elements\",\"ended\",\"move\",\"space\",\"praised\",\"business\",\"reviews\",\"ordered\",\"middle\",\"hill\",\"lower\",\"appearance\",\"community\",\"winds\",\"thus\",\"brother\",\"san\",\"previously\",\"canada\",\"signed\",\"gun\",\"goal\",\"section\",\"cross\",\"staff\",\"type\",\"california\",\"gold\",\"female\",\"give\",\"g\",\"program\",\"board\",\"hand\",\"castle\",\"rights\",\"positive\",\"lake\",\"spent\",\"find\",\"groups\",\"interest\",\"overall\",\"parts\",\"told\",\"required\",\"attempt\",\"round\",\"infantry\",\"plan\",\"don\",\"critical\",\"news\",\"directed\",\"india\",\"germany\",\"lines\",\"money\",\"musical\",\"v\",\"failed\",\"paul\",\"reception\",\"complete\",\"prior\",\"personal\",\"evidence\",\"study\",\"entire\",\"itself\",\"room\",\"uk\",\"committee\",\"sometimes\",\"square\",\"grand\",\"already\",\"plot\",\"district\",\"quickly\",\"whom\",\"election\",\"battalion\",\"limited\",\"past\",\"cover\",\"background\",\"peter\",\"surface\",\"indian\",\"usually\",\"press\",\"port\",\"green\",\"term\",\"bill\",\"larger\",\"asked\",\"whose\",\"our\",\"loss\",\"idea\",\"score\",\"claimed\",\"bay\",\"flight\",\"mark\",\"turn\",\"p\",\"cut\",\"science\",\"smith\",\"operations\",\"living\",\"introduced\",\"person\",\"governor\",\"issue\",\"department\",\"response\",\"debut\",\"car\",\"speed\",\"ny\",\"decision\",\"especially\",\"movement\",\"commander\",\"episodes\",\"industry\",\"services\",\"stars\",\"voice\",\"minister\",\"arrived\",\"students\",\"queen\",\"leaving\",\"structure\",\"virginia\",\"scenes\",\"carried\",\"richard\",\"writer\",\"effects\",\"novel\",\"centre\",\"anti\",\"material\",\"village\",\"la\",\"civil\",\"food\",\"woman\",\"education\",\"britain\",\"commercial\",\"defeated\",\"empire\",\"blue\",\"teams\",\"fifth\",\"running\",\"shows\",\"self\",\"latter\",\"proposed\",\"los\",\"current\",\"destroyed\",\"remaining\",\"child\",\"nearly\",\"k\",\"becoming\",\"winning\",\"approximately\",\"finally\",\"entered\",\"network\",\"estimated\",\"shortly\",\"wide\",\"length\",\"size\",\"language\",\"naval\",\"might\",\"today\",\"date\",\"earth\",\"fact\",\"dark\",\"daughter\",\"nature\",\"suggested\",\"influence\",\"report\",\"compared\",\"course\",\"railway\",\"pressure\",\"islands\",\"spanish\",\"natural\",\"view\",\"depression\",\"pop\",\"god\",\"chicago\",\"nd\",\"producer\",\"related\",\"provide\",\"married\",\"percent\",\"upper\",\"appointed\",\"hot\",\"singles\",\"helped\",\"your\",\"leader\",\"experience\",\"brigade\",\"tracks\",\"soviet\",\"face\",\"contract\",\"intended\",\"higher\",\"guitar\",\"cost\",\"got\",\"friends\",\"associated\",\"done\",\"lack\",\"officers\",\"longer\",\"subsequently\",\"effect\",\"fort\",\"private\",\"changed\",\"trade\",\"agreed\",\"changes\",\"awarded\",\"feature\",\"books\",\"supported\",\"regular\",\"fans\",\"health\",\"plans\",\"immediately\",\"forward\",\"friend\",\"lyrics\",\"officer\",\"buildings\",\"edward\",\"remains\",\"countries\",\"create\",\"cm\",\"soldiers\",\"minor\",\"museum\",\"pacific\",\"yet\",\"whether\",\"jackson\",\"appear\",\"extended\",\"planned\",\"information\",\"something\",\"regiment\",\"captured\",\"ball\",\"china\",\"pass\",\"chinese\",\"billboard\",\"manager\",\"professional\",\"albums\",\"federal\",\"mostly\",\"atlantic\",\"problems\",\"initial\",\"ran\",\"edition\",\"corps\",\"difficult\",\"canadian\",\"location\",\"probably\",\"winter\",\"dead\",\"includes\",\"numerous\",\"themselves\",\"cause\",\"singer\",\"mixed\",\"roman\",\"moving\",\"increase\",\"issued\",\"removed\",\"really\",\"lord\",\"key\",\"johnson\",\"inspired\",\"conference\",\"christian\",\"copies\",\"always\",\"energy\",\"keep\",\"hour\",\"suffered\",\"broadcast\"],\"x1\":{\"__ndarray__\":\"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\",\"dtype\":\"float64\",\"shape\":[1000]},\"x2\":{\"__ndarray__\":\"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\",\"dtype\":\"float64\",\"shape\":[1000]}}},\"id\":\"73da16e9-4a72-4f48-b503-14af12a5a864\",\"type\":\"ColumnDataSource\"},{\"attributes\":{\"formatter\":{\"id\":\"5ccaa767-7225-4e57-a5a2-bb527b36aa5c\",\"type\":\"BasicTickFormatter\"},\"plot\":{\"id\":\"66a01fee-9230-4a28-a81a-e05841cb1e4e\",\"subtype\":\"Figure\",\"type\":\"Plot\"},\"ticker\":{\"id\":\"aa4abede-78da-4a20-99e7-357117d7edf2\",\"type\":\"BasicTicker\"}},\"id\":\"18d5f560-02c5-4d4f-b0f9-9ef4def9a9ed\",\"type\":\"LinearAxis\"},{\"attributes\":{},\"id\":\"aa4abede-78da-4a20-99e7-357117d7edf2\",\"type\":\"BasicTicker\"},{\"attributes\":{\"formatter\":{\"id\":\"3f388380-bede-49e8-b808-116184a3d3ca\",\"type\":\"BasicTickFormatter\"},\"plot\":{\"id\":\"66a01fee-9230-4a28-a81a-e05841cb1e4e\",\"subtype\":\"Figure\",\"type\":\"Plot\"},\"ticker\":{\"id\":\"333b2bab-98a0-4829-bcec-285d6a42b3a0\",\"type\":\"BasicTicker\"}},\"id\":\"ed6a8a96-2029-4558-9627-e41554c28fbb\",\"type\":\"LinearAxis\"},{\"attributes\":{\"plot\":{\"id\":\"66a01fee-9230-4a28-a81a-e05841cb1e4e\",\"subtype\":\"Figure\",\"type\":\"Plot\"},\"ticker\":{\"id\":\"aa4abede-78da-4a20-99e7-357117d7edf2\",\"type\":\"BasicTicker\"}},\"id\":\"d3d9fc15-06c4-4b23-9f19-266b4f262d7b\",\"type\":\"Grid\"},{\"attributes\":{\"below\":[{\"id\":\"18d5f560-02c5-4d4f-b0f9-9ef4def9a9ed\",\"type\":\"LinearAxis\"}],\"left\":[{\"id\":\"ed6a8a96-2029-4558-9627-e41554c28fbb\",\"type\":\"LinearAxis\"}],\"renderers\":[{\"id\":\"18d5f560-02c5-4d4f-b0f9-9ef4def9a9ed\",\"type\":\"LinearAxis\"},{\"id\":\"d3d9fc15-06c4-4b23-9f19-266b4f262d7b\",\"type\":\"Grid\"},{\"id\":\"ed6a8a96-2029-4558-9627-e41554c28fbb\",\"type\":\"LinearAxis\"},{\"id\":\"1c845f66-a9b6-4cc1-80c7-e2cb3c673923\",\"type\":\"Grid\"},{\"id\":\"8ecf3a58-d393-4565-b79f-2ac70444f866\",\"type\":\"GlyphRenderer\"},{\"id\":\"7507e0d9-8a12-423d-a5bc-78dc608297ba\",\"type\":\"LabelSet\"}],\"title\":{\"id\":\"e696f8bd-c711-48d7-8351-4510334a1be5\",\"type\":\"Title\"},\"tool_events\":{\"id\":\"b68c28b9-928b-4940-8fc4-042d630147a0\",\"type\":\"ToolEvents\"},\"toolbar\":{\"id\":\"d55a64c5-839e-4adf-a327-25811fce5a1e\",\"type\":\"Toolbar\"},\"toolbar_location\":\"above\",\"x_range\":{\"id\":\"44f774ea-2d4b-49a6-abfb-47fe89cee742\",\"type\":\"DataRange1d\"},\"y_range\":{\"id\":\"d7a96368-6228-4dad-98cd-6e608e60a722\",\"type\":\"DataRange1d\"}},\"id\":\"66a01fee-9230-4a28-a81a-e05841cb1e4e\",\"subtype\":\"Figure\",\"type\":\"Plot\"},{\"attributes\":{},\"id\":\"333b2bab-98a0-4829-bcec-285d6a42b3a0\",\"type\":\"BasicTicker\"}],\"root_ids\":[\"66a01fee-9230-4a28-a81a-e05841cb1e4e\"]},\"title\":\"Bokeh Application\",\"version\":\"0.12.4\"}};\n",
       "            var render_items = [{\"docid\":\"412923c4-cd7b-4adf-8251-b7140befc2df\",\"elementid\":\"22b0170c-0dff-407b-b0f5-98e187451b01\",\"modelid\":\"66a01fee-9230-4a28-a81a-e05841cb1e4e\"}];\n",
       "            \n",
       "            Bokeh.embed.embed_items(docs_json, render_items);\n",
       "          };\n",
       "          if (document.readyState != \"loading\") fn();\n",
       "          else document.addEventListener(\"DOMContentLoaded\", fn);\n",
       "        })();\n",
       "      },\n",
       "      function(Bokeh) {\n",
       "      }\n",
       "    ];\n",
       "  \n",
       "    function run_inline_js() {\n",
       "      \n",
       "      if ((window.Bokeh !== undefined) || (force === true)) {\n",
       "        for (var i = 0; i < inline_js.length; i++) {\n",
       "          inline_js[i](window.Bokeh);\n",
       "        }if (force === true) {\n",
       "          display_loaded();\n",
       "        }} else if (Date.now() < window._bokeh_timeout) {\n",
       "        setTimeout(run_inline_js, 100);\n",
       "      } else if (!window._bokeh_failed_load) {\n",
       "        console.log(\"Bokeh: BokehJS failed to load within specified timeout.\");\n",
       "        window._bokeh_failed_load = true;\n",
       "      } else if (force !== true) {\n",
       "        var cell = $(document.getElementById(\"22b0170c-0dff-407b-b0f5-98e187451b01\")).parents('.cell').data().cell;\n",
       "        cell.output_area.append_execute_result(NB_LOAD_WARNING)\n",
       "      }\n",
       "  \n",
       "    }\n",
       "  \n",
       "    if (window._bokeh_is_loading === 0) {\n",
       "      console.log(\"Bokeh: BokehJS loaded, going straight to plotting\");\n",
       "      run_inline_js();\n",
       "    } else {\n",
       "      load_libs(js_urls, function() {\n",
       "        console.log(\"Bokeh: BokehJS plotting callback run at\", now());\n",
       "        run_inline_js();\n",
       "      });\n",
       "    }\n",
       "  }(this));\n",
       "</script>"
      ]
     },
     "metadata": {},
     "output_type": "display_data"
    }
   ],
   "source": [
    "p = figure(tools=\"pan,wheel_zoom,reset,save\",\n",
    "           toolbar_location=\"above\",\n",
    "           title=\"word2vec T-SNE for most common words\")\n",
    "\n",
    "source = ColumnDataSource(data=dict(x1=words_top_wiki_tsne[:,0],\n",
    "                                    x2=words_top_wiki_tsne[:,1],\n",
    "                                    names=words_top_wiki))\n",
    "\n",
    "p.scatter(x=\"x1\", y=\"x2\", size=8, source=source)\n",
    "\n",
    "labels = LabelSet(x=\"x1\", y=\"x2\", text=\"names\", y_offset=6,\n",
    "                  text_font_size=\"8pt\", text_color=\"#555555\",\n",
    "                  source=source, text_align='center')\n",
    "p.add_layout(labels)\n",
    "\n",
    "show(p)"
   ]
  }
 ],
 "metadata": {
  "anaconda-cloud": {},
  "kernelspec": {
   "display_name": "Python [default]",
   "language": "python",
   "name": "python3"
  },
  "language_info": {
   "codemirror_mode": {
    "name": "ipython",
    "version": 3
   },
   "file_extension": ".py",
   "mimetype": "text/x-python",
   "name": "python",
   "nbconvert_exporter": "python",
   "pygments_lexer": "ipython3",
   "version": "3.5.2"
  }
 },
 "nbformat": 4,
 "nbformat_minor": 0
}
