{
 "cells": [
  {
   "cell_type": "code",
   "execution_count": 3,
   "metadata": {
    "collapsed": true
   },
   "outputs": [],
   "source": [
    "import numpy as np \n",
    "import pandas as pd "
   ]
  },
  {
   "cell_type": "code",
   "execution_count": 16,
   "metadata": {
    "collapsed": false,
    "scrolled": true
   },
   "outputs": [],
   "source": [
    "with open('Shoes.txt', 'r') as f:\n",
    "    reviews = f.read()\n",
    "    \n",
    "# print(reviews[:1000])\n"
   ]
  },
  {
   "cell_type": "code",
   "execution_count": 17,
   "metadata": {
    "collapsed": false
   },
   "outputs": [],
   "source": [
    "# print(reviews[466] == '\\n')\n"
   ]
  },
  {
   "cell_type": "code",
   "execution_count": 18,
   "metadata": {
    "collapsed": false
   },
   "outputs": [],
   "source": [
    "# print(reviews[-1500:])"
   ]
  },
  {
   "cell_type": "code",
   "execution_count": 19,
   "metadata": {
    "collapsed": false
   },
   "outputs": [],
   "source": [
    "review_list = reviews.split('\\n\\n')\n",
    "# print(review_list[0])\n",
    "# print()\n",
    "# print(review_list[-2])\n",
    "# print()\n",
    "# print(review_list[-1])"
   ]
  },
  {
   "cell_type": "code",
   "execution_count": 20,
   "metadata": {
    "collapsed": false
   },
   "outputs": [],
   "source": [
    "# print(review_list[-1] == \"\")\n",
    "# print(review_list[-2] == \"\")"
   ]
  },
  {
   "cell_type": "code",
   "execution_count": 21,
   "metadata": {
    "collapsed": true
   },
   "outputs": [],
   "source": [
    "review_list = review_list[:-1]"
   ]
  },
  {
   "cell_type": "code",
   "execution_count": 26,
   "metadata": {
    "collapsed": false
   },
   "outputs": [
    {
     "name": "stdout",
     "output_type": "stream",
     "text": [
      "product/productId: B0009PK7KO\n",
      "product/title: Caligarius Women's Acheta Pump,Black Calf,6 M\n",
      "product/price: unknown\n",
      "review/userId: A12O8IHB65BC1S\n",
      "review/profileName: Fifi\n",
      "review/helpfulness: 2/2\n",
      "review/score: 4.0\n",
      "review/time: 1169769600\n",
      "review/summary: Beautiful basic pump...\n",
      "review/text: ... but not enough sizes or colors. Fits true to size on my size 8-1/2 feet.Bottom soles are completely slick... needs some kind of texturing or tread to help prevent slipping.\n"
     ]
    }
   ],
   "source": [
    "print(review_list[0])"
   ]
  },
  {
   "cell_type": "code",
   "execution_count": 28,
   "metadata": {
    "collapsed": false
   },
   "outputs": [
    {
     "name": "stdout",
     "output_type": "stream",
     "text": [
      "['product/productId: B0009PK7KO', \"product/title: Caligarius Women's Acheta Pump,Black Calf,6 M\", 'product/price: unknown', 'review/userId: A12O8IHB65BC1S', 'review/profileName: Fifi', 'review/helpfulness: 2/2', 'review/score: 4.0', 'review/time: 1169769600', 'review/summary: Beautiful basic pump...', 'review/text: ... but not enough sizes or colors. Fits true to size on my size 8-1/2 feet.Bottom soles are completely slick... needs some kind of texturing or tread to help prevent slipping.']\n",
      "['product/productId', ' B0009PK7KO']\n"
     ]
    }
   ],
   "source": [
    "# not all reviews end with a period or !, but they don't end with \\n\n",
    "\n",
    "test_entry = review_list[0].split('\\n')\n",
    "print(test_entry)\n",
    "test_feature = test_entry[0].split(':')\n",
    "print(test_feature)"
   ]
  },
  {
   "cell_type": "code",
   "execution_count": 34,
   "metadata": {
    "collapsed": false
   },
   "outputs": [],
   "source": [
    "def build_reviews_list(path):\n",
    "    \"\"\" build a reviews list from the input file \n",
    "    \"\"\"\n",
    "    with open('Shoes.txt', 'r') as f:\n",
    "        reviews = f.read()\n",
    "    review_list = reviews.split('\\n\\n')\n",
    "    if review_list[-1] == \"\":\n",
    "        return review_list[:-1]\n",
    "    else:\n",
    "        return review_list\n",
    "\n",
    "def build_review_dict(review):\n",
    "    \"\"\" buuld a review dict from a review entry.\n",
    "    \"\"\"\n",
    "    review_dict = {}\n",
    "    feature_list = review.split('\\n')\n",
    "    for feature in feature_list:\n",
    "        feature_and_content = feature.split(': ')\n",
    "        review_dict[feature_and_content[0]] = feature_and_content[1]\n",
    "    return review_dict\n",
    "\n",
    "def build_list_of_review_dict(path):\n",
    "    review_list = build_reviews_list(path)\n",
    "    return [build_review_dict(review) for review in review_list]\n",
    "    \n",
    "\n",
    "# review_dict = build_review_dict(review_list[0])\n",
    "# review_dict"
   ]
  },
  {
   "cell_type": "code",
   "execution_count": 35,
   "metadata": {
    "collapsed": false
   },
   "outputs": [
    {
     "data": {
      "text/plain": [
       "{'product/price': 'unknown',\n",
       " 'product/productId': 'B0009PK7KO',\n",
       " 'product/title': \"Caligarius Women's Acheta Pump,Black Calf,6 M\",\n",
       " 'review/helpfulness': '2/2',\n",
       " 'review/profileName': 'Fifi',\n",
       " 'review/score': '4.0',\n",
       " 'review/summary': 'Beautiful basic pump...',\n",
       " 'review/text': '... but not enough sizes or colors. Fits true to size on my size 8-1/2 feet.Bottom soles are completely slick... needs some kind of texturing or tread to help prevent slipping.',\n",
       " 'review/time': '1169769600',\n",
       " 'review/userId': 'A12O8IHB65BC1S'}"
      ]
     },
     "execution_count": 35,
     "metadata": {},
     "output_type": "execute_result"
    }
   ],
   "source": [
    "reviews_list = build_list_of_review_dict('Shoes.txt')\n",
    "reviews_list[0]"
   ]
  },
  {
   "cell_type": "code",
   "execution_count": 36,
   "metadata": {
    "collapsed": true
   },
   "outputs": [],
   "source": [
    "np.savez('shoes_list_of_review_dicts.npz', reviews_list=reviews_list)"
   ]
  },
  {
   "cell_type": "markdown",
   "metadata": {},
   "source": [
    "## load list of reviews as dicts "
   ]
  },
  {
   "cell_type": "code",
   "execution_count": 37,
   "metadata": {
    "collapsed": false
   },
   "outputs": [
    {
     "name": "stdout",
     "output_type": "stream",
     "text": [
      "{'product/price': 'unknown', 'product/title': \"Caligarius Women's Acheta Pump,Black Calf,6 M\", 'review/helpfulness': '2/2', 'review/summary': 'Beautiful basic pump...', 'review/userId': 'A12O8IHB65BC1S', 'review/score': '4.0', 'review/text': '... but not enough sizes or colors. Fits true to size on my size 8-1/2 feet.Bottom soles are completely slick... needs some kind of texturing or tread to help prevent slipping.', 'product/productId': 'B0009PK7KO', 'review/time': '1169769600', 'review/profileName': 'Fifi'}\n"
     ]
    }
   ],
   "source": [
    "f = np.load('shoes_list_of_review_dicts.npz')\n",
    "reviews_list = f['reviews_list']\n",
    "print(reviews_list[0])"
   ]
  },
  {
   "cell_type": "code",
   "execution_count": null,
   "metadata": {
    "collapsed": true
   },
   "outputs": [],
   "source": []
  }
 ],
 "metadata": {
  "kernelspec": {
   "display_name": "Python [default]",
   "language": "python",
   "name": "python3"
  },
  "language_info": {
   "codemirror_mode": {
    "name": "ipython",
    "version": 3
   },
   "file_extension": ".py",
   "mimetype": "text/x-python",
   "name": "python",
   "nbconvert_exporter": "python",
   "pygments_lexer": "ipython3",
   "version": "3.5.2"
  }
 },
 "nbformat": 4,
 "nbformat_minor": 2
}
