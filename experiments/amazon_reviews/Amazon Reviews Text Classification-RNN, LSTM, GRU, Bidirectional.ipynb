{
 "cells": [
  {
   "cell_type": "code",
   "execution_count": 1,
   "metadata": {},
   "outputs": [
    {
     "name": "stderr",
     "output_type": "stream",
     "text": [
      "Using TensorFlow backend.\n"
     ]
    }
   ],
   "source": [
    "from __future__ import print_function \n",
    "import numpy as np\n",
    "import tensorflow as tf \n",
    "\n",
    "import os\n",
    "import sys\n",
    "\n",
    "from keras.preprocessing.text import Tokenizer\n",
    "from keras.preprocessing.sequence import pad_sequences\n",
    "from keras.utils import to_categorical\n",
    "from keras.models import Model\n",
    "from keras.layers import Input, Dense, Flatten, Lambda\n",
    "from keras.layers import Conv1D, MaxPooling1D, Embedding\n",
    "from keras.layers import SimpleRNN, GRU, LSTM, Bidirectional\n",
    "\n",
    "import keras.backend as K"
   ]
  },
  {
   "cell_type": "markdown",
   "metadata": {
    "collapsed": true
   },
   "source": [
    "## Load the dataset"
   ]
  },
  {
   "cell_type": "code",
   "execution_count": 3,
   "metadata": {},
   "outputs": [],
   "source": [
    "f = np.load('data_and_embedding.npz')"
   ]
  },
  {
   "cell_type": "code",
   "execution_count": 4,
   "metadata": {
    "collapsed": true
   },
   "outputs": [],
   "source": [
    "num_words = int(f['num_words'])\n",
    "embedding_dim = int(f['embedding_dim'])\n",
    "max_sequence_length = int(f['max_sequence_length'])\n",
    "\n",
    "data = f['data']\n",
    "labels = f['labels']\n",
    "\n",
    "embedding_matrix = f['embedding_matrix']"
   ]
  },
  {
   "cell_type": "code",
   "execution_count": 48,
   "metadata": {
    "collapsed": true
   },
   "outputs": [],
   "source": [
    "validation_split = 0.2 \n",
    "epochs = 60"
   ]
  },
  {
   "cell_type": "code",
   "execution_count": 6,
   "metadata": {
    "collapsed": true
   },
   "outputs": [],
   "source": [
    "indices = np.arange(data.shape[0])\n",
    "np.random.shuffle(indices)\n",
    "data = data[indices]\n",
    "labels = labels[indices]\n",
    "num_validation_samples = int(validation_split * data.shape[0])\n",
    "\n",
    "x_train = data[:-num_validation_samples]\n",
    "y_train = labels[:-num_validation_samples]\n",
    "x_val = data[-num_validation_samples:]\n",
    "y_val = labels[-num_validation_samples:]"
   ]
  },
  {
   "cell_type": "markdown",
   "metadata": {},
   "source": [
    "## Simple RNN"
   ]
  },
  {
   "cell_type": "markdown",
   "metadata": {},
   "source": [
    "### Build the model "
   ]
  },
  {
   "cell_type": "code",
   "execution_count": 15,
   "metadata": {
    "collapsed": true
   },
   "outputs": [],
   "source": [
    "embedding_layer = Embedding(num_words,\n",
    "                            embedding_dim,\n",
    "                            weights=[embedding_matrix],\n",
    "                            input_length=max_sequence_length,\n",
    "                            trainable=False)"
   ]
  },
  {
   "cell_type": "code",
   "execution_count": 16,
   "metadata": {
    "collapsed": true
   },
   "outputs": [],
   "source": [
    "def embedding_mean(x):\n",
    "    return tf.reduce_mean(x, axis=1)"
   ]
  },
  {
   "cell_type": "code",
   "execution_count": 17,
   "metadata": {},
   "outputs": [
    {
     "name": "stdout",
     "output_type": "stream",
     "text": [
      "(?, 50)\n"
     ]
    }
   ],
   "source": [
    "sequence_input = Input(shape=(max_sequence_length, ), dtype='int32')\n",
    "# print(sequence_input.shape)\n",
    "embedded_sequences = embedding_layer(sequence_input)\n",
    "# print(embedded_sequences.shape)\n",
    "x = SimpleRNN(50, dropout=0.2, recurrent_dropout=0.2)(embedded_sequences)\n",
    "print(x.shape)\n",
    "# x = Lambda(embedding_mean)(embedded_sequences)\n",
    "# print(x.shape)\n",
    "preds = Dense(6, activation='softmax')(x)\n",
    "# print(preds.shape)\n",
    "\n",
    "model_rnn_final_state = Model(sequence_input, preds)"
   ]
  },
  {
   "cell_type": "code",
   "execution_count": 18,
   "metadata": {},
   "outputs": [
    {
     "name": "stdout",
     "output_type": "stream",
     "text": [
      "_________________________________________________________________\n",
      "Layer (type)                 Output Shape              Param #   \n",
      "=================================================================\n",
      "input_2 (InputLayer)         (None, array(1000))       0         \n",
      "_________________________________________________________________\n",
      "embedding_2 (Embedding)      (None, array(1000), array 2000000   \n",
      "_________________________________________________________________\n",
      "simple_rnn_1 (SimpleRNN)     (None, 50)                7550      \n",
      "_________________________________________________________________\n",
      "dense_2 (Dense)              (None, 6)                 306       \n",
      "=================================================================\n",
      "Total params: 2,007,856.0\n",
      "Trainable params: 7,856.0\n",
      "Non-trainable params: 2,000,000.0\n",
      "_________________________________________________________________\n"
     ]
    }
   ],
   "source": [
    "model_rnn_final_state.summary()"
   ]
  },
  {
   "cell_type": "markdown",
   "metadata": {},
   "source": [
    "### Train the model"
   ]
  },
  {
   "cell_type": "code",
   "execution_count": 19,
   "metadata": {
    "collapsed": true
   },
   "outputs": [],
   "source": [
    "model_rnn_final_state.compile(loss='categorical_crossentropy',\n",
    "              optimizer='adam',\n",
    "              metrics=['acc'])"
   ]
  },
  {
   "cell_type": "code",
   "execution_count": 20,
   "metadata": {},
   "outputs": [
    {
     "name": "stdout",
     "output_type": "stream",
     "text": [
      "Train on 311902 samples, validate on 77975 samples\n",
      "Epoch 1/10\n",
      "311902/311902 [==============================] - 785s - loss: nan - acc: 3.2061e-05 - val_loss: nan - val_acc: 0.0000e+00\n",
      "Epoch 2/10\n",
      "311902/311902 [==============================] - 780s - loss: nan - acc: 0.0000e+00 - val_loss: nan - val_acc: 0.0000e+00\n",
      "Epoch 3/10\n",
      "311902/311902 [==============================] - 777s - loss: nan - acc: 0.0000e+00 - val_loss: nan - val_acc: 0.0000e+00\n",
      "Epoch 4/10\n",
      "311902/311902 [==============================] - 775s - loss: nan - acc: 0.0000e+00 - val_loss: nan - val_acc: 0.0000e+00\n",
      "Epoch 5/10\n",
      "311902/311902 [==============================] - 776s - loss: nan - acc: 0.0000e+00 - val_loss: nan - val_acc: 0.0000e+00\n",
      "Epoch 6/10\n",
      "311902/311902 [==============================] - 776s - loss: nan - acc: 0.0000e+00 - val_loss: nan - val_acc: 0.0000e+00\n",
      "Epoch 7/10\n",
      "311902/311902 [==============================] - 781s - loss: nan - acc: 0.0000e+00 - val_loss: nan - val_acc: 0.0000e+00\n",
      "Epoch 8/10\n",
      "311902/311902 [==============================] - 785s - loss: nan - acc: 0.0000e+00 - val_loss: nan - val_acc: 0.0000e+00\n",
      "Epoch 9/10\n",
      "311902/311902 [==============================] - 784s - loss: nan - acc: 0.0000e+00 - val_loss: nan - val_acc: 0.0000e+00\n",
      "Epoch 10/10\n",
      "311902/311902 [==============================] - 783s - loss: nan - acc: 0.0000e+00 - val_loss: nan - val_acc: 0.0000e+00\n",
      "Training time:  7807.194259881973\n"
     ]
    }
   ],
   "source": [
    "import time \n",
    "start_time = time.time()\n",
    "\n",
    "model_rnn_final_state.fit(x_train, y_train,\n",
    "          batch_size=128,\n",
    "          epochs=epochs,\n",
    "          validation_data=(x_val, y_val))\n",
    "\n",
    "print(\"Training time: \", time.time() - start_time)"
   ]
  },
  {
   "cell_type": "markdown",
   "metadata": {},
   "source": [
    "probably a vanishing/exploding gradient problem !!!"
   ]
  },
  {
   "cell_type": "markdown",
   "metadata": {},
   "source": [
    "### Save the model"
   ]
  },
  {
   "cell_type": "code",
   "execution_count": 21,
   "metadata": {
    "collapsed": true
   },
   "outputs": [],
   "source": [
    "model_rnn_final_state.save('models/RNN.h5')"
   ]
  },
  {
   "cell_type": "markdown",
   "metadata": {},
   "source": [
    "## LSTM"
   ]
  },
  {
   "cell_type": "markdown",
   "metadata": {},
   "source": [
    "### Build the model "
   ]
  },
  {
   "cell_type": "code",
   "execution_count": 22,
   "metadata": {
    "collapsed": true
   },
   "outputs": [],
   "source": [
    "embedding_layer = Embedding(num_words,\n",
    "                            embedding_dim,\n",
    "                            weights=[embedding_matrix],\n",
    "                            input_length=max_sequence_length,\n",
    "                            trainable=False)"
   ]
  },
  {
   "cell_type": "code",
   "execution_count": 23,
   "metadata": {
    "collapsed": true
   },
   "outputs": [],
   "source": [
    "def embedding_mean(x):\n",
    "    return tf.reduce_mean(x, axis=1)"
   ]
  },
  {
   "cell_type": "code",
   "execution_count": 24,
   "metadata": {},
   "outputs": [
    {
     "name": "stdout",
     "output_type": "stream",
     "text": [
      "(?, 1000)\n",
      "(?, 1000, 100)\n",
      "(?, 50)\n",
      "(?, 6)\n"
     ]
    }
   ],
   "source": [
    "sequence_input = Input(shape=(max_sequence_length, ), dtype='int32')\n",
    "print(sequence_input.shape)\n",
    "embedded_sequences = embedding_layer(sequence_input)\n",
    "print(embedded_sequences.shape)\n",
    "x = LSTM(50, dropout=0.2, recurrent_dropout=0.2)(embedded_sequences)\n",
    "print(x.shape)\n",
    "# x = Lambda(embedding_mean)(x)\n",
    "# print(x.shape)\n",
    "preds = Dense(6, activation='softmax')(x)\n",
    "print(preds.shape)\n",
    "\n",
    "model_lstm_final_state = Model(sequence_input, preds)"
   ]
  },
  {
   "cell_type": "code",
   "execution_count": 25,
   "metadata": {},
   "outputs": [
    {
     "name": "stdout",
     "output_type": "stream",
     "text": [
      "_________________________________________________________________\n",
      "Layer (type)                 Output Shape              Param #   \n",
      "=================================================================\n",
      "input_3 (InputLayer)         (None, array(1000))       0         \n",
      "_________________________________________________________________\n",
      "embedding_3 (Embedding)      (None, array(1000), array 2000000   \n",
      "_________________________________________________________________\n",
      "lstm_2 (LSTM)                (None, 50)                30200     \n",
      "_________________________________________________________________\n",
      "dense_3 (Dense)              (None, 6)                 306       \n",
      "=================================================================\n",
      "Total params: 2,030,506.0\n",
      "Trainable params: 30,506.0\n",
      "Non-trainable params: 2,000,000.0\n",
      "_________________________________________________________________\n"
     ]
    }
   ],
   "source": [
    "model_lstm_final_state.summary()"
   ]
  },
  {
   "cell_type": "markdown",
   "metadata": {},
   "source": [
    "### Train the model"
   ]
  },
  {
   "cell_type": "code",
   "execution_count": 26,
   "metadata": {
    "collapsed": true
   },
   "outputs": [],
   "source": [
    "model_lstm_final_state.compile(loss='categorical_crossentropy',\n",
    "              optimizer='adam',\n",
    "              metrics=['acc'])"
   ]
  },
  {
   "cell_type": "code",
   "execution_count": null,
   "metadata": {},
   "outputs": [
    {
     "name": "stdout",
     "output_type": "stream",
     "text": [
      "Train on 311902 samples, validate on 77975 samples\n",
      "Epoch 1/60\n",
      "311902/311902 [==============================] - 5515s - loss: 0.4778 - acc: 0.8328 - val_loss: 0.3781 - val_acc: 0.8730\n",
      "Epoch 2/60\n",
      "311902/311902 [==============================] - 3267s - loss: 0.4739 - acc: 0.8336 - val_loss: 0.3720 - val_acc: 0.8766\n",
      "Epoch 3/60\n",
      "311902/311902 [==============================] - 2475s - loss: 0.4692 - acc: 0.8358 - val_loss: 0.3666 - val_acc: 0.8788\n",
      "Epoch 4/60\n",
      "311902/311902 [==============================] - 2475s - loss: 0.4668 - acc: 0.8370 - val_loss: 0.3679 - val_acc: 0.8782\n",
      "Epoch 5/60\n",
      "311902/311902 [==============================] - 2475s - loss: 0.4636 - acc: 0.8382 - val_loss: 0.3594 - val_acc: 0.8805\n",
      "Epoch 6/60\n",
      "311902/311902 [==============================] - 2476s - loss: 0.4615 - acc: 0.8384 - val_loss: 0.3603 - val_acc: 0.8813\n",
      "Epoch 7/60\n",
      "311902/311902 [==============================] - 2475s - loss: 0.4582 - acc: 0.8402 - val_loss: 0.3581 - val_acc: 0.8811\n",
      "Epoch 8/60\n",
      "311902/311902 [==============================] - 2475s - loss: 0.4566 - acc: 0.8408 - val_loss: 0.3533 - val_acc: 0.8831\n",
      "Epoch 9/60\n",
      "311902/311902 [==============================] - 2477s - loss: 0.4548 - acc: 0.8415 - val_loss: 0.3491 - val_acc: 0.8843\n",
      "Epoch 10/60\n",
      "311902/311902 [==============================] - 2477s - loss: 0.4520 - acc: 0.8423 - val_loss: 0.3490 - val_acc: 0.8850\n",
      "Epoch 11/60\n",
      "311902/311902 [==============================] - 2477s - loss: 0.4518 - acc: 0.8428 - val_loss: 0.3474 - val_acc: 0.8848\n",
      "Epoch 12/60\n",
      "311902/311902 [==============================] - 2476s - loss: 0.4496 - acc: 0.8439 - val_loss: 0.3497 - val_acc: 0.8851\n",
      "Epoch 13/60\n",
      "311902/311902 [==============================] - 2478s - loss: 0.4483 - acc: 0.8437 - val_loss: 0.3408 - val_acc: 0.8870\n",
      "Epoch 14/60\n",
      "311902/311902 [==============================] - 2477s - loss: 0.4476 - acc: 0.8440 - val_loss: 0.3415 - val_acc: 0.8871\n",
      "Epoch 15/60\n",
      "311902/311902 [==============================] - 2477s - loss: 0.4464 - acc: 0.8443 - val_loss: 0.3416 - val_acc: 0.8883\n",
      "Epoch 16/60\n",
      "311902/311902 [==============================] - 2477s - loss: 0.4455 - acc: 0.8453 - val_loss: 0.3409 - val_acc: 0.8885\n",
      "Epoch 17/60\n",
      "311902/311902 [==============================] - 2475s - loss: 0.4439 - acc: 0.8453 - val_loss: 0.3367 - val_acc: 0.8901\n",
      "Epoch 18/60\n",
      "311902/311902 [==============================] - 2568s - loss: 0.4436 - acc: 0.8460 - val_loss: 0.3352 - val_acc: 0.8910\n",
      "Epoch 19/60\n",
      " 93696/311902 [========>.....................] - ETA: 1645s - loss: 0.4447 - acc: 0.8452"
     ]
    }
   ],
   "source": [
    "import time \n",
    "start_time = time.time()\n",
    "\n",
    "model_lstm_final_state.fit(x_train, y_train,\n",
    "          batch_size=128,\n",
    "          epochs=epochs,\n",
    "          validation_data=(x_val, y_val))\n",
    "\n",
    "print(\"Training time: \", time.time() - start_time)"
   ]
  },
  {
   "cell_type": "markdown",
   "metadata": {},
   "source": [
    "### Save the model"
   ]
  },
  {
   "cell_type": "code",
   "execution_count": 28,
   "metadata": {
    "collapsed": true
   },
   "outputs": [],
   "source": [
    "model_lstm_final_state.save('models/LSTM.h5')"
   ]
  },
  {
   "cell_type": "markdown",
   "metadata": {},
   "source": [
    "## GRU"
   ]
  },
  {
   "cell_type": "markdown",
   "metadata": {},
   "source": [
    "### Build the model "
   ]
  },
  {
   "cell_type": "code",
   "execution_count": 29,
   "metadata": {
    "collapsed": true
   },
   "outputs": [],
   "source": [
    "embedding_layer = Embedding(num_words,\n",
    "                            embedding_dim,\n",
    "                            weights=[embedding_matrix],\n",
    "                            input_length=max_sequence_length,\n",
    "                            trainable=False)"
   ]
  },
  {
   "cell_type": "code",
   "execution_count": 30,
   "metadata": {
    "collapsed": true
   },
   "outputs": [],
   "source": [
    "def embedding_mean(x):\n",
    "    return tf.reduce_mean(x, axis=1)"
   ]
  },
  {
   "cell_type": "code",
   "execution_count": 31,
   "metadata": {},
   "outputs": [
    {
     "name": "stdout",
     "output_type": "stream",
     "text": [
      "(?, 1000, 100)\n",
      "(?, 50)\n"
     ]
    }
   ],
   "source": [
    "sequence_input = Input(shape=(max_sequence_length, ), dtype='int32')\n",
    "# print(sequence_input.shape)\n",
    "embedded_sequences = embedding_layer(sequence_input)\n",
    "print(embedded_sequences.shape)\n",
    "x = GRU(50, dropout=0.2, recurrent_dropout=0.2)(embedded_sequences)\n",
    "print(x.shape)\n",
    "# x = Lambda(embedding_mean)(embedded_sequences)\n",
    "# print(x.shape)\n",
    "preds = Dense(6, activation='softmax')(x)\n",
    "# print(preds.shape)\n",
    "\n",
    "model_gru_final_state = Model(sequence_input, preds)"
   ]
  },
  {
   "cell_type": "code",
   "execution_count": 32,
   "metadata": {},
   "outputs": [
    {
     "name": "stdout",
     "output_type": "stream",
     "text": [
      "_________________________________________________________________\n",
      "Layer (type)                 Output Shape              Param #   \n",
      "=================================================================\n",
      "input_4 (InputLayer)         (None, array(1000))       0         \n",
      "_________________________________________________________________\n",
      "embedding_4 (Embedding)      (None, array(1000), array 2000000   \n",
      "_________________________________________________________________\n",
      "gru_1 (GRU)                  (None, 50)                22650     \n",
      "_________________________________________________________________\n",
      "dense_4 (Dense)              (None, 6)                 306       \n",
      "=================================================================\n",
      "Total params: 2,022,956.0\n",
      "Trainable params: 22,956.0\n",
      "Non-trainable params: 2,000,000.0\n",
      "_________________________________________________________________\n"
     ]
    }
   ],
   "source": [
    "model_gru_final_state.summary()"
   ]
  },
  {
   "cell_type": "markdown",
   "metadata": {},
   "source": [
    "### Train the model"
   ]
  },
  {
   "cell_type": "code",
   "execution_count": 33,
   "metadata": {
    "collapsed": true
   },
   "outputs": [],
   "source": [
    "model_gru_final_state.compile(loss='categorical_crossentropy',\n",
    "              optimizer='adam',\n",
    "              metrics=['acc'])"
   ]
  },
  {
   "cell_type": "code",
   "execution_count": 34,
   "metadata": {},
   "outputs": [
    {
     "name": "stdout",
     "output_type": "stream",
     "text": [
      "Train on 311902 samples, validate on 77975 samples\n",
      "Epoch 1/10\n",
      "311902/311902 [==============================] - 2134s - loss: 0.8134 - acc: 0.7020 - val_loss: 0.6361 - val_acc: 0.7611\n",
      "Epoch 2/10\n",
      "311902/311902 [==============================] - 2132s - loss: 0.6482 - acc: 0.7576 - val_loss: 0.5472 - val_acc: 0.7978\n",
      "Epoch 3/10\n",
      "311902/311902 [==============================] - 2132s - loss: 0.5952 - acc: 0.7797 - val_loss: 0.4948 - val_acc: 0.8228\n",
      "Epoch 4/10\n",
      "311902/311902 [==============================] - 2132s - loss: 0.5650 - acc: 0.7929 - val_loss: 0.4661 - val_acc: 0.8357\n",
      "Epoch 5/10\n",
      "311902/311902 [==============================] - 2171s - loss: 0.5455 - acc: 0.8020 - val_loss: 0.4463 - val_acc: 0.8463\n",
      "Epoch 6/10\n",
      "311902/311902 [==============================] - 2233s - loss: 0.5346 - acc: 0.8072 - val_loss: 0.4303 - val_acc: 0.8546\n",
      "Epoch 7/10\n",
      "311902/311902 [==============================] - 2206s - loss: 0.5238 - acc: 0.8115 - val_loss: 0.4218 - val_acc: 0.8559\n",
      "Epoch 8/10\n",
      "311902/311902 [==============================] - 2194s - loss: 0.5156 - acc: 0.8155 - val_loss: 0.4134 - val_acc: 0.8608\n",
      "Epoch 9/10\n",
      "311902/311902 [==============================] - 2193s - loss: 0.5406 - acc: 0.8072 - val_loss: 0.4528 - val_acc: 0.8444\n",
      "Epoch 10/10\n",
      "311902/311902 [==============================] - 2195s - loss: 0.5591 - acc: 0.7986 - val_loss: 0.4482 - val_acc: 0.8467\n",
      "Training time:  21727.566279172897\n"
     ]
    }
   ],
   "source": [
    "import time \n",
    "start_time = time.time()\n",
    "\n",
    "model_gru_final_state.fit(x_train, y_train,\n",
    "          batch_size=128,\n",
    "          epochs=epochs,\n",
    "          validation_data=(x_val, y_val))\n",
    "\n",
    "print(\"Training time: \", time.time() - start_time)"
   ]
  },
  {
   "cell_type": "markdown",
   "metadata": {},
   "source": [
    "### Save the model"
   ]
  },
  {
   "cell_type": "code",
   "execution_count": 35,
   "metadata": {
    "collapsed": true
   },
   "outputs": [],
   "source": [
    "model_gru_final_state.save('models/GRU.h5')"
   ]
  },
  {
   "cell_type": "markdown",
   "metadata": {},
   "source": [
    "## Bidirectional LSTM"
   ]
  },
  {
   "cell_type": "markdown",
   "metadata": {},
   "source": [
    "### Build the model "
   ]
  },
  {
   "cell_type": "code",
   "execution_count": 36,
   "metadata": {
    "collapsed": true
   },
   "outputs": [],
   "source": [
    "embedding_layer = Embedding(num_words,\n",
    "                            embedding_dim,\n",
    "                            weights=[embedding_matrix],\n",
    "                            input_length=max_sequence_length,\n",
    "                            trainable=False)"
   ]
  },
  {
   "cell_type": "code",
   "execution_count": 37,
   "metadata": {
    "collapsed": true
   },
   "outputs": [],
   "source": [
    "def embedding_mean(x):\n",
    "    return tf.reduce_mean(x, axis=1)"
   ]
  },
  {
   "cell_type": "code",
   "execution_count": 43,
   "metadata": {},
   "outputs": [
    {
     "name": "stdout",
     "output_type": "stream",
     "text": [
      "(?, 100)\n"
     ]
    }
   ],
   "source": [
    "sequence_input = Input(shape=(max_sequence_length, ), dtype='int32')\n",
    "# print(sequence_input.shape)\n",
    "embedded_sequences = embedding_layer(sequence_input)\n",
    "# print(embedded_sequences.shape)\n",
    "# x = Bidirectional(LSTM(50, dropout=0.2, recurrent_dropout=0.2))(embedded_sequences)\n",
    "x = Bidirectional(LSTM(50))(embedded_sequences)\n",
    "print(x.shape)\n",
    "# x = Lambda(embedding_mean)(embedded_sequences)\n",
    "# print(x.shape)\n",
    "preds = Dense(6, activation='softmax')(x)\n",
    "# print(preds.shape)\n",
    "\n",
    "model_bidirlstm_final_state = Model(sequence_input, preds)"
   ]
  },
  {
   "cell_type": "code",
   "execution_count": 44,
   "metadata": {
    "scrolled": true
   },
   "outputs": [
    {
     "name": "stdout",
     "output_type": "stream",
     "text": [
      "_________________________________________________________________\n",
      "Layer (type)                 Output Shape              Param #   \n",
      "=================================================================\n",
      "input_6 (InputLayer)         (None, array(1000))       0         \n",
      "_________________________________________________________________\n",
      "embedding_5 (Embedding)      (None, array(1000), array 2000000   \n",
      "_________________________________________________________________\n",
      "bidirectional_2 (Bidirection (None, 100)               60400     \n",
      "_________________________________________________________________\n",
      "dense_6 (Dense)              (None, 6)                 606       \n",
      "=================================================================\n",
      "Total params: 2,061,006.0\n",
      "Trainable params: 61,006.0\n",
      "Non-trainable params: 2,000,000.0\n",
      "_________________________________________________________________\n"
     ]
    }
   ],
   "source": [
    "model_bidirlstm_final_state.summary()"
   ]
  },
  {
   "cell_type": "markdown",
   "metadata": {},
   "source": [
    "### Train the model"
   ]
  },
  {
   "cell_type": "code",
   "execution_count": 45,
   "metadata": {
    "collapsed": true
   },
   "outputs": [],
   "source": [
    "model_bidirlstm_final_state.compile(loss='categorical_crossentropy',\n",
    "              optimizer='adam',\n",
    "              metrics=['acc'])"
   ]
  },
  {
   "cell_type": "code",
   "execution_count": 46,
   "metadata": {},
   "outputs": [
    {
     "name": "stdout",
     "output_type": "stream",
     "text": [
      "Train on 311902 samples, validate on 77975 samples\n",
      "Epoch 1/10\n",
      "311902/311902 [==============================] - 3596s - loss: 0.7601 - acc: 0.7213 - val_loss: 0.6030 - val_acc: 0.7758\n",
      "Epoch 2/10\n",
      "311902/311902 [==============================] - 3434s - loss: 0.5223 - acc: 0.8155 - val_loss: 0.4734 - val_acc: 0.8392\n",
      "Epoch 3/10\n",
      "311902/311902 [==============================] - 3430s - loss: 0.4276 - acc: 0.8574 - val_loss: 0.4097 - val_acc: 0.8673\n",
      "Epoch 4/10\n",
      "311902/311902 [==============================] - 3511s - loss: 0.3774 - acc: 0.8778 - val_loss: 0.3757 - val_acc: 0.8801\n",
      "Epoch 5/10\n",
      "311902/311902 [==============================] - 4003s - loss: 0.3411 - acc: 0.8919 - val_loss: 0.3634 - val_acc: 0.8871\n",
      "Epoch 6/10\n",
      "311902/311902 [==============================] - 7275s - loss: 0.3174 - acc: 0.9001 - val_loss: 0.3700 - val_acc: 0.8847\n",
      "Epoch 7/10\n",
      "311902/311902 [==============================] - 7411s - loss: 0.3007 - acc: 0.9062 - val_loss: 0.3268 - val_acc: 0.9011\n",
      "Epoch 8/10\n",
      "311902/311902 [==============================] - 7176s - loss: 0.2856 - acc: 0.9116 - val_loss: 0.3131 - val_acc: 0.9050\n",
      "Epoch 9/10\n",
      "311902/311902 [==============================] - 7168s - loss: 0.3040 - acc: 0.9045 - val_loss: 0.5966 - val_acc: 0.7913\n",
      "Epoch 10/10\n",
      "311902/311902 [==============================] - 7302s - loss: 0.4548 - acc: 0.8496 - val_loss: 0.4166 - val_acc: 0.8672\n",
      "Training time:  54313.65548968315\n"
     ]
    }
   ],
   "source": [
    "import time \n",
    "start_time = time.time()\n",
    "\n",
    "model_bidirlstm_final_state.fit(x_train, y_train,\n",
    "          batch_size=128,\n",
    "          epochs=epochs,\n",
    "          validation_data=(x_val, y_val))\n",
    "\n",
    "print(\"Training time: \", time.time() - start_time)"
   ]
  },
  {
   "cell_type": "markdown",
   "metadata": {},
   "source": [
    "### Save the model"
   ]
  },
  {
   "cell_type": "code",
   "execution_count": 47,
   "metadata": {
    "collapsed": true
   },
   "outputs": [],
   "source": [
    "model_bidirlstm_final_state.save('models/BidirectionalLSTM.h5')"
   ]
  }
 ],
 "metadata": {
  "kernelspec": {
   "display_name": "Python 3",
   "language": "python",
   "name": "python3"
  },
  "language_info": {
   "codemirror_mode": {
    "name": "ipython",
    "version": 3
   },
   "file_extension": ".py",
   "mimetype": "text/x-python",
   "name": "python",
   "nbconvert_exporter": "python",
   "pygments_lexer": "ipython3",
   "version": "3.6.1"
  }
 },
 "nbformat": 4,
 "nbformat_minor": 2
}
