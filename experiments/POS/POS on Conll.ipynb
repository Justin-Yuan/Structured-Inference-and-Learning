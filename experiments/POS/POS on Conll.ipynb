{
 "cells": [
  {
   "cell_type": "markdown",
   "metadata": {},
   "source": [
    "......"
   ]
  },
  {
   "cell_type": "code",
   "execution_count": 33,
   "metadata": {
    "collapsed": false
   },
   "outputs": [],
   "source": [
    "import numpy as np \n",
    "import pickle \n",
    "\n",
    "# from keras ...\n",
    "from keras.preprocessing.sequence import pad_sequences\n",
    "from keras.models import Sequential \n",
    "\n",
    "from keras.layers import Dense, Bidirectional, GRU, LSTM"
   ]
  },
  {
   "cell_type": "markdown",
   "metadata": {},
   "source": [
    "## Load the data "
   ]
  },
  {
   "cell_type": "code",
   "execution_count": 12,
   "metadata": {
    "collapsed": false
   },
   "outputs": [],
   "source": [
    "with open('data/pos_conll.pkl', 'rb') as f:\n",
    "    data = pickle.load(f)"
   ]
  },
  {
   "cell_type": "code",
   "execution_count": 13,
   "metadata": {
    "collapsed": true
   },
   "outputs": [],
   "source": [
    "X_train = data['train']['X'] \n",
    "tags_train = data['train']['tags'] \n",
    "chunks_train = data['train']['chunks'] \n",
    "\n",
    "X_test = data['test']['X'] \n",
    "tags_test = data['test']['tags'] \n",
    "chunks_test = data['test']['chunks'] \n",
    "\n",
    "maxlen = data['stats']['maxlen']\n",
    "word2ind = data['stats']['word2ind']\n",
    "ind2word = data['stats']['ind2word'] \n",
    "label2ind = data['stats']['label2ind'] \n",
    "ind2label = data['stats']['ind2label'] "
   ]
  },
  {
   "cell_type": "code",
   "execution_count": 15,
   "metadata": {
    "collapsed": false
   },
   "outputs": [
    {
     "name": "stdout",
     "output_type": "stream",
     "text": [
      "dictating\n",
      "\n",
      "{1: 'VBD', 2: 'WP$', 3: 'POS', 4: 'IN', 5: 'JJS', 6: 'DT', 7: '$', 8: 'VBP', 9: ':', 10: 'EX', 11: \"''\", 12: 'FW', 13: '.', 14: 'PRP', 15: 'VBG', 16: '#', 17: 'TO', 18: 'CC', 19: 'VB', 20: 'NNS', 21: 'WP', 22: 'VBZ', 23: '``', 24: 'RB', 25: ')', 26: 'NN', 27: 'NNP', 28: 'CD', 29: 'WDT', 30: 'SYM', 31: 'WRB', 32: '(', 33: 'MD', 34: 'RBS', 35: 'PDT', 36: 'UH', 37: 'NNPS', 38: 'JJR', 39: 'PRP$', 40: 'RP', 41: 'VBN', 42: 'JJ', 43: 'RBR', 44: ','}\n",
      "\n"
     ]
    }
   ],
   "source": [
    "# # a little bit of investigation \n",
    "\n",
    "# print(ind2word[1], end='\\n\\n')\n",
    "# print(ind2label)  \n",
    "# print()   # do i need to plus one for word dict?  yes "
   ]
  },
  {
   "cell_type": "markdown",
   "metadata": {},
   "source": [
    "## Map to indices"
   ]
  },
  {
   "cell_type": "code",
   "execution_count": 28,
   "metadata": {
    "collapsed": true
   },
   "outputs": [],
   "source": [
    "def encode_one_hot(idx, dim):\n",
    "    temp = [0]*dim\n",
    "    temp[idx] = 1\n",
    "    return temp\n",
    "\n",
    "def encode_corpus(X, maxlen):\n",
    "    X_enc = [[word2ind[word] for word in x] for x in X]\n",
    "    return pad_sequences(X_enc, maxlen=maxlen, value=0)\n",
    "\n",
    "def encode_labels(Y, maxlen, dim):\n",
    "    Y_enc = [[label2ind[tag] for tag in y] for y in Y]\n",
    "    Y_enc = pad_sequences(Y_enc, maxlen=maxlen, value=0)\n",
    "    Y_enc = [[encode_one_hot(idx, dim) for idx in y] for y in Y_enc]\n",
    "    return np.array(Y_enc)"
   ]
  },
  {
   "cell_type": "code",
   "execution_count": 29,
   "metadata": {
    "collapsed": false
   },
   "outputs": [
    {
     "name": "stdout",
     "output_type": "stream",
     "text": [
      "45\n"
     ]
    }
   ],
   "source": [
    "dim = len(ind2label) + 1\n",
    "print(dim)\n",
    "\n",
    "X_train_enc = encode_corpus(X_train, maxlen)\n",
    "y_train_enc = encode_labels(tags_train, maxlen, dim)"
   ]
  },
  {
   "cell_type": "code",
   "execution_count": 32,
   "metadata": {
    "collapsed": false
   },
   "outputs": [
    {
     "name": "stdout",
     "output_type": "stream",
     "text": [
      "(8936, 78)\n",
      "<class 'numpy.ndarray'> <class 'numpy.ndarray'>\n",
      "(8936, 78, 45)\n"
     ]
    }
   ],
   "source": [
    "# print(X_train_enc.shape)\n",
    "# print(type(X_train_enc), type(X_train_enc[0]))\n",
    "# print(y_train_enc.shape)"
   ]
  },
  {
   "cell_type": "markdown",
   "metadata": {},
   "source": [
    "## Model "
   ]
  },
  {
   "cell_type": "code",
   "execution_count": null,
   "metadata": {
    "collapsed": true
   },
   "outputs": [],
   "source": [
    "model = Sequential()\n",
    "\n",
    "model.add()"
   ]
  }
 ],
 "metadata": {
  "kernelspec": {
   "display_name": "Python [default]",
   "language": "python",
   "name": "python3"
  },
  "language_info": {
   "codemirror_mode": {
    "name": "ipython",
    "version": 3
   },
   "file_extension": ".py",
   "mimetype": "text/x-python",
   "name": "python",
   "nbconvert_exporter": "python",
   "pygments_lexer": "ipython3",
   "version": "3.5.2"
  }
 },
 "nbformat": 4,
 "nbformat_minor": 2
}
