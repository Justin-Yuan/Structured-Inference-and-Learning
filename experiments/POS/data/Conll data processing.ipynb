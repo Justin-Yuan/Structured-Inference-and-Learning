{
 "cells": [
  {
   "cell_type": "code",
   "execution_count": 23,
   "metadata": {
    "collapsed": true
   },
   "outputs": [],
   "source": [
    "import pickle"
   ]
  },
  {
   "cell_type": "markdown",
   "metadata": {},
   "source": [
    "## Process the data "
   ]
  },
  {
   "cell_type": "code",
   "execution_count": 25,
   "metadata": {
    "collapsed": false
   },
   "outputs": [],
   "source": [
    "def get_corpus_length(path):\n",
    "    return len(open(path, 'r').readlines())\n",
    "\n",
    "def get_corpus(path):\n",
    "    raw = open(path, 'r').readlines()\n",
    "    all_x = []\n",
    "    point = []\n",
    "    for line in raw:\n",
    "        stripped_line = line.strip().split(' ')\n",
    "        point.append(stripped_line)\n",
    "        if line == '\\n':\n",
    "            all_x.append(point[:-1])\n",
    "            point = []  \n",
    "    return all_x\n",
    "\n",
    "def get_maxlen(all_x):\n",
    "    lengths = [len(x) for x in all_x]\n",
    "    maxlen = max(lengths)\n",
    "    return maxlen\n",
    "\n",
    "def build_data(all_x):\n",
    "    X = [[c[0] for c in x] for x in all_x]\n",
    "    tags = [[c[1] for c in y] for y in all_x]\n",
    "    chunks = [[c[2] for c in z] for z in all_x]\n",
    "    return X, tags, chunks\n",
    "\n",
    "def build_word_idx_dicts(X):\n",
    "    all_text = [c for x in X for c in x]\n",
    "    words = list(set(all_text))\n",
    "    word2ind = {word: (index+1) for index, word in enumerate(words)}\n",
    "    ind2word = {(index+1): word for index, word in enumerate(words)}\n",
    "    return word2ind, ind2word\n",
    "\n",
    "def build_label_idx_dicts(tags):\n",
    "    labels = list(set([c for x in tags for c in x]))\n",
    "    label2ind = {label: (index + 1) for index, label in enumerate(labels)}\n",
    "    ind2label = {(index + 1): label for index, label in enumerate(labels)}\n",
    "    return label2ind, ind2label"
   ]
  },
  {
   "cell_type": "code",
   "execution_count": 26,
   "metadata": {
    "collapsed": false
   },
   "outputs": [],
   "source": [
    "# traing set \n",
    "all_x_train = get_corpus('train.txt')\n",
    "maxlen_train = get_maxlen(all_x_train)\n",
    "X_train, tags_train, chunks_train = build_data(all_x_train)\n",
    "\n",
    "# test set \n",
    "all_x_test = get_corpus('test.txt')\n",
    "maxlen_test = get_maxlen(all_x_test)\n",
    "X_test, tags_test, chunks_test = build_data(all_x_test)\n",
    "\n",
    "X = X_train + X_test\n",
    "tags = tags_train + tags_test\n",
    "chunks = chunks_train + chunks_test\n",
    "\n",
    "maxlen = max(maxlen_train, maxlen_test)\n",
    "word2ind, ind2word = build_word_idx_dicts(X)\n",
    "label2ind, ind2label = build_label_idx_dicts(tags)"
   ]
  },
  {
   "cell_type": "code",
   "execution_count": 20,
   "metadata": {
    "collapsed": false
   },
   "outputs": [
    {
     "name": "stdout",
     "output_type": "stream",
     "text": [
      "78 78 70\n"
     ]
    }
   ],
   "source": [
    "# print(X[0])\n",
    "# print(len(X))\n",
    "# print(len(word2ind), len(label2ind))\n",
    "# print(maxlen, maxlen_train, maxlen_test)"
   ]
  },
  {
   "cell_type": "markdown",
   "metadata": {},
   "source": [
    "## Save the processed data"
   ]
  },
  {
   "cell_type": "code",
   "execution_count": 27,
   "metadata": {
    "collapsed": true
   },
   "outputs": [],
   "source": [
    "data = {'full':{}, 'train':{}, 'test':{}, 'stats':{}}\n",
    "\n",
    "data['full']['X'] = X\n",
    "data['full']['tags'] = tags\n",
    "data['full']['chunks'] = chunks\n",
    "\n",
    "data['train']['X'] = X_train\n",
    "data['train']['tags'] = tags_train\n",
    "data['train']['chunks'] = chunks_train\n",
    "\n",
    "data['test']['X'] = X_test\n",
    "data['test']['tags'] = tags_test\n",
    "data['test']['chunks'] = chunks_test\n",
    "\n",
    "data['stats']['maxlen'] = maxlen\n",
    "data['stats']['word2ind'] = word2ind\n",
    "data['stats']['ind2word'] = ind2word\n",
    "data['stats']['label2ind'] = label2ind\n",
    "data['stats']['ind2label'] = ind2label"
   ]
  },
  {
   "cell_type": "code",
   "execution_count": 28,
   "metadata": {
    "collapsed": false
   },
   "outputs": [],
   "source": [
    "with open('pos_conll.pkl', 'wb') as f:\n",
    "    pickle.dump(data, f)"
   ]
  }
 ],
 "metadata": {
  "kernelspec": {
   "display_name": "Python [default]",
   "language": "python",
   "name": "python3"
  },
  "language_info": {
   "codemirror_mode": {
    "name": "ipython",
    "version": 3
   },
   "file_extension": ".py",
   "mimetype": "text/x-python",
   "name": "python",
   "nbconvert_exporter": "python",
   "pygments_lexer": "ipython3",
   "version": "3.5.2"
  }
 },
 "nbformat": 4,
 "nbformat_minor": 2
}
