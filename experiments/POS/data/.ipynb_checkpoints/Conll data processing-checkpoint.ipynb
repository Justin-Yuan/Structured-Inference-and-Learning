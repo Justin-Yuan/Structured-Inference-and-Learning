{
 "cells": [
  {
   "cell_type": "code",
   "execution_count": 1,
   "metadata": {
    "collapsed": true
   },
   "outputs": [],
   "source": [
    "import pickle"
   ]
  },
  {
   "cell_type": "markdown",
   "metadata": {},
   "source": [
    "## Process the data "
   ]
  },
  {
   "cell_type": "code",
   "execution_count": 3,
   "metadata": {
    "collapsed": true
   },
   "outputs": [],
   "source": [
    "# encapsulate them into functions \n",
    "\n",
    "raw = open('train.txt', 'r').readlines()\n",
    "all_x = []\n",
    "point = []"
   ]
  },
  {
   "cell_type": "code",
   "execution_count": 4,
   "metadata": {
    "collapsed": false
   },
   "outputs": [],
   "source": [
    "for line in raw:\n",
    "    stripped_line = line.strip().split(' ')\n",
    "    point.append(stripped_line)\n",
    "    if line == '\\n':\n",
    "        all_x.append(point[:-1])\n",
    "        point = []  "
   ]
  },
  {
   "cell_type": "code",
   "execution_count": 5,
   "metadata": {
    "collapsed": false
   },
   "outputs": [
    {
     "name": "stdout",
     "output_type": "stream",
     "text": [
      "8936\n",
      "[['Confidence', 'NN', 'B-NP'], ['in', 'IN', 'B-PP'], ['the', 'DT', 'B-NP'], ['pound', 'NN', 'I-NP'], ['is', 'VBZ', 'B-VP'], ['widely', 'RB', 'I-VP'], ['expected', 'VBN', 'I-VP'], ['to', 'TO', 'I-VP'], ['take', 'VB', 'I-VP'], ['another', 'DT', 'B-NP'], ['sharp', 'JJ', 'I-NP'], ['dive', 'NN', 'I-NP'], ['if', 'IN', 'B-SBAR'], ['trade', 'NN', 'B-NP'], ['figures', 'NNS', 'I-NP'], ['for', 'IN', 'B-PP'], ['September', 'NNP', 'B-NP'], [',', ',', 'O'], ['due', 'JJ', 'B-ADJP'], ['for', 'IN', 'B-PP'], ['release', 'NN', 'B-NP'], ['tomorrow', 'NN', 'B-NP'], [',', ',', 'O'], ['fail', 'VB', 'B-VP'], ['to', 'TO', 'I-VP'], ['show', 'VB', 'I-VP'], ['a', 'DT', 'B-NP'], ['substantial', 'JJ', 'I-NP'], ['improvement', 'NN', 'I-NP'], ['from', 'IN', 'B-PP'], ['July', 'NNP', 'B-NP'], ['and', 'CC', 'I-NP'], ['August', 'NNP', 'I-NP'], [\"'s\", 'POS', 'B-NP'], ['near-record', 'JJ', 'I-NP'], ['deficits', 'NNS', 'I-NP'], ['.', '.', 'O']]\n",
      "0\n",
      "[['It', 'PRP', 'B-NP'], ['is', 'VBZ', 'B-VP'], ['also', 'RB', 'I-VP'], ['pulling', 'VBG', 'I-VP'], ['20', 'CD', 'B-NP'], ['people', 'NNS', 'I-NP'], ['out', 'IN', 'B-PP'], ['of', 'IN', 'B-PP'], ['Puerto', 'NNP', 'B-NP'], ['Rico', 'NNP', 'I-NP'], [',', ',', 'O'], ['who', 'WP', 'B-NP'], ['were', 'VBD', 'B-VP'], ['helping', 'VBG', 'I-VP'], ['Huricane', 'NNP', 'B-NP'], ['Hugo', 'NNP', 'I-NP'], ['victims', 'NNS', 'I-NP'], [',', ',', 'O'], ['and', 'CC', 'O'], ['sending', 'VBG', 'B-VP'], ['them', 'PRP', 'B-NP'], ['to', 'TO', 'B-PP'], ['San', 'NNP', 'B-NP'], ['Francisco', 'NNP', 'I-NP'], ['instead', 'RB', 'B-ADVP'], ['.', '.', 'O']]\n"
     ]
    }
   ],
   "source": [
    "print(len(all_x))\n",
    "print(all_x[0])\n",
    "print(len(point))\n",
    "print(all_x[-1])"
   ]
  },
  {
   "cell_type": "code",
   "execution_count": 7,
   "metadata": {
    "collapsed": false
   },
   "outputs": [
    {
     "name": "stdout",
     "output_type": "stream",
     "text": [
      "78\n"
     ]
    }
   ],
   "source": [
    "lengths = [len(x) for x in all_x]\n",
    "maxlen = max(lengths)\n",
    "print(maxlen)"
   ]
  },
  {
   "cell_type": "code",
   "execution_count": 9,
   "metadata": {
    "collapsed": true
   },
   "outputs": [],
   "source": [
    "X = [[c[0] for c in x] for x in all_x]\n",
    "tags = [[c[1] for c in y] for y in all_x]\n",
    "chunks = [[c[2] for c in z] for z in all_x]"
   ]
  },
  {
   "cell_type": "code",
   "execution_count": 12,
   "metadata": {
    "collapsed": false
   },
   "outputs": [
    {
     "name": "stdout",
     "output_type": "stream",
     "text": [
      "8936\n",
      "8936\n",
      "8936\n",
      "['Chancellor', 'of', 'the', 'Exchequer', 'Nigel', 'Lawson', \"'s\", 'restated', 'commitment', 'to', 'a', 'firm', 'monetary', 'policy', 'has', 'helped', 'to', 'prevent', 'a', 'freefall', 'in', 'sterling', 'over', 'the', 'past', 'week', '.']\n",
      "['NNP', 'IN', 'DT', 'NNP', 'NNP', 'NNP', 'POS', 'VBN', 'NN', 'TO', 'DT', 'NN', 'JJ', 'NN', 'VBZ', 'VBN', 'TO', 'VB', 'DT', 'NN', 'IN', 'NN', 'IN', 'DT', 'JJ', 'NN', '.']\n",
      "['O', 'B-PP', 'B-NP', 'I-NP', 'B-NP', 'I-NP', 'B-NP', 'I-NP', 'I-NP', 'B-PP', 'B-NP', 'I-NP', 'I-NP', 'I-NP', 'B-VP', 'I-VP', 'I-VP', 'I-VP', 'B-NP', 'I-NP', 'B-PP', 'B-NP', 'B-PP', 'B-NP', 'I-NP', 'I-NP', 'O']\n"
     ]
    }
   ],
   "source": [
    "print(len(X))\n",
    "print(len(tags))\n",
    "print(len(chunks))\n",
    "\n",
    "print(X[1])\n",
    "print(tags[1])\n",
    "print(chunks[1])"
   ]
  },
  {
   "cell_type": "code",
   "execution_count": 13,
   "metadata": {
    "collapsed": true
   },
   "outputs": [],
   "source": [
    "all_text = [c for x in X for c in x]\n",
    "words = list(set(all_text))\n",
    "word2ind = {word: index for index, word in enumerate(words)}\n",
    "ind2word = {index: word for index, word in enumerate(words)}"
   ]
  },
  {
   "cell_type": "code",
   "execution_count": 18,
   "metadata": {
    "collapsed": false
   },
   "outputs": [
    {
     "name": "stdout",
     "output_type": "stream",
     "text": [
      "19122\n",
      "580\n",
      "1\n",
      "['338', 'announced', '580', 'Bernie', 'treatments', 'reasserting', '9.8', 'wiped', 'march', 'intermediate', 'lacks', 'Corroon', 'government-subsidized', 'versa', 'powerhouse', 'economies', 'Amendment', 'reprisals', '0.36', '833', '1986-87', 'Final', 'forgetting', 'difficult', 'STORES', 'implausible', 'devoted', 'Anaheim-Santa', 'Grateful', 'JAMES', 'alchemists', 'benefits', 'haunting', 'approach', 'socialists', 'among', 'dresses', '150,000-barrel-a-day', 'managements', 'goodies', 'Construction', 'Iwai', 'bridge', 'third-quarter', 'Poland', 'poet', 'dead', 'affiliates', 'Cubs', 'storms', '60,000', 'hastily', 'Mass.-based', 'drink', 'forthcoming', 'proponents', 'hotly', '170.65', 'republic', 'Colodny', '125-billion-a-year', 'arrangement', 'Redford', 'Dan', 'Fox', 'Torrence', 'stereotypically', 'computer-market', 'custom-tailored', 'Amazing', 'consultant', '28', 'threshold', 'Loughman', 'unless', 'Selkin', 'eavesdropping', '39.2', 'Yosi', 'fixed-rate', 'perjury', 'underweighted', 'demographics', 'Zane', 'MeraBank', 'subjects', 'Hunter', 'abolition', 'charged', 'receive', 'pervasive', 'lightened', 'alongside', 'Monsanto', 'diminutive', 'eggs', '5.16', 'video', 'management-led', 'Gingerly']\n"
     ]
    }
   ],
   "source": [
    "print(len(words))\n",
    "print(ind2word[2])\n",
    "print(word2ind['announced'])\n",
    "\n",
    "print(list(ind2word.values())[:100])"
   ]
  },
  {
   "cell_type": "code",
   "execution_count": 20,
   "metadata": {
    "collapsed": false
   },
   "outputs": [
    {
     "name": "stdout",
     "output_type": "stream",
     "text": [
      "Input sequence length range:  78 1\n"
     ]
    }
   ],
   "source": [
    "labels = list(set([c for x in tags for c in x]))\n",
    "label2ind = {label: (index + 1) for index, label in enumerate(labels)}\n",
    "ind2label = {(index + 1): label for index, label in enumerate(labels)}\n",
    "print('Input sequence length range: ', max(lengths), min(lengths))"
   ]
  },
  {
   "cell_type": "code",
   "execution_count": 22,
   "metadata": {
    "collapsed": false
   },
   "outputs": [
    {
     "name": "stdout",
     "output_type": "stream",
     "text": [
      "44\n",
      "IN\n",
      "1\n",
      "{1: 'IN', 2: 'NNP', 3: '``', 4: 'CC', 5: 'PRP$', 6: ')', 7: ',', 8: 'NNS', 9: 'JJ', 10: \"''\", 11: '.', 12: '#', 13: 'PRP', 14: 'UH', 15: 'JJR', 16: 'VBD', 17: 'VBN', 18: 'VBZ', 19: 'RB', 20: 'DT', 21: 'MD', 22: '(', 23: 'CD', 24: 'NN', 25: 'VBG', 26: ':', 27: 'WDT', 28: 'POS', 29: 'TO', 30: 'RP', 31: 'NNPS', 32: 'RBS', 33: 'VBP', 34: 'PDT', 35: '$', 36: 'WRB', 37: 'EX', 38: 'FW', 39: 'SYM', 40: 'WP', 41: 'WP$', 42: 'VB', 43: 'RBR', 44: 'JJS'}\n"
     ]
    }
   ],
   "source": [
    "print(len(labels))\n",
    "print(ind2label[1])\n",
    "print(label2ind['IN'])\n",
    "print(ind2label)"
   ]
  },
  {
   "cell_type": "markdown",
   "metadata": {},
   "source": [
    "## Save the processed data"
   ]
  },
  {
   "cell_type": "code",
   "execution_count": null,
   "metadata": {
    "collapsed": true
   },
   "outputs": [],
   "source": [
    "data_full = {}\n",
    "data_full['X'] = X\n",
    "data_full['y'] = y\n",
    "data_full['word2ind'] = word2ind\n",
    "data_full['ind2word'] = ind2word\n",
    "data_full['label2ind'] = label2ind\n",
    "data_full['ind2label'] = ind2label"
   ]
  },
  {
   "cell_type": "code",
   "execution_count": null,
   "metadata": {
    "collapsed": true
   },
   "outputs": [],
   "source": [
    "with open('conll.pkl', 'wb') as f:\n",
    "    pickle.dump(data_full, f)"
   ]
  }
 ],
 "metadata": {
  "kernelspec": {
   "display_name": "Python [default]",
   "language": "python",
   "name": "python3"
  },
  "language_info": {
   "codemirror_mode": {
    "name": "ipython",
    "version": 3
   },
   "file_extension": ".py",
   "mimetype": "text/x-python",
   "name": "python",
   "nbconvert_exporter": "python",
   "pygments_lexer": "ipython3",
   "version": "3.5.2"
  }
 },
 "nbformat": 4,
 "nbformat_minor": 2
}
