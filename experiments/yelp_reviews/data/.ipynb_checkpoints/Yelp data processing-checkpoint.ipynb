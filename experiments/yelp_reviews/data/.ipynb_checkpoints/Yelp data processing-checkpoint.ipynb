{
 "cells": [
  {
   "cell_type": "code",
   "execution_count": 1,
   "metadata": {
    "collapsed": true
   },
   "outputs": [],
   "source": [
    "import numpy as np \n",
    "import pandas as pd "
   ]
  },
  {
   "cell_type": "code",
   "execution_count": 15,
   "metadata": {
    "collapsed": false
   },
   "outputs": [
    {
     "name": "stdout",
     "output_type": "stream",
     "text": [
      "   0                                                  1\n",
      "0  5  dr. goldberg offers everything i look for in a...\n",
      "1  2  Unfortunately, the frustration of being Dr. Go...\n",
      "2  4  Been going to Dr. Goldberg for over 10 years. ...\n",
      "3  4  Got a letter in the mail last week that said D...\n",
      "4  1  I don't know what Dr. Goldberg was like before...\n",
      "5  5  Top notch doctor in a top notch practice. Can'...\n",
      "6  5  Dr. Eric Goldberg is a fantastic doctor who ha...\n",
      "7  1  I'm writing this review to give you a heads up...\n",
      "8  2  Wing sauce is like water. Pretty much a lot of...\n",
      "9  3  Decent range somewhat close to the city.  The ...\n"
     ]
    }
   ],
   "source": [
    "data = pd.read_csv('yelp_review_full_csv/train.csv', header=None)\n",
    "print(data[:10])"
   ]
  },
  {
   "cell_type": "code",
   "execution_count": 25,
   "metadata": {
    "collapsed": false
   },
   "outputs": [
    {
     "name": "stdout",
     "output_type": "stream",
     "text": [
      "2\n",
      "<class 'pandas.core.frame.DataFrame'>\n",
      "[     0      1      2 ..., 649997 649998 649999]\n",
      "[0 1]\n"
     ]
    }
   ],
   "source": [
    "print(data[0][1])\n",
    "print(type(data))\n",
    "print(data.index.values)\n",
    "print(data.columns.values)"
   ]
  },
  {
   "cell_type": "code",
   "execution_count": 23,
   "metadata": {
    "collapsed": false
   },
   "outputs": [
    {
     "name": "stdout",
     "output_type": "stream",
     "text": [
      "650000\n",
      "<class 'str'>\n",
      "<class 'str'>\n"
     ]
    }
   ],
   "source": [
    "print(len(data))\n",
    "print(type(data[1][0]))\n",
    "print(type(data[1][1]))"
   ]
  },
  {
   "cell_type": "code",
   "execution_count": 26,
   "metadata": {
    "collapsed": false
   },
   "outputs": [],
   "source": [
    "texts = []\n",
    "labels = []\n",
    "\n",
    "for i in range(len(data)):\n",
    "    labels.append(data[0][i])\n",
    "    texts.append(data[1][i])"
   ]
  },
  {
   "cell_type": "code",
   "execution_count": 30,
   "metadata": {
    "collapsed": false
   },
   "outputs": [
    {
     "name": "stdout",
     "output_type": "stream",
     "text": [
      "dr. goldberg offers everything i look for in a general practitioner.  he's nice and easy to talk to without being patronizing; he's always on time in seeing his patients; he's affiliated with a top-notch hospital (nyu) which my parents have explained to me is very important in case something happens and you need surgery; and you can get referrals to see specialists without having to see him first.  really, what more do you need?  i'm sitting here trying to think of any complaints i have about him, but i'm really drawing a blank.\n",
      "5\n",
      "Unfortunately, the frustration of being Dr. Goldberg's patient is a repeat of the experience I've had with so many other doctors in NYC -- good doctor, terrible staff.  It seems that his staff simply never answers the phone.  It usually takes 2 hours of repeated calling to get an answer.  Who has time for that or wants to deal with it?  I have run into this problem with many other doctors and I just don't get it.  You have office workers, you have patients with medical needs, why isn't anyone answering the phone?  It's incomprehensible and not work the aggravation.  It's with regret that I feel that I have to give Dr. Goldberg 2 stars.\n",
      "2\n"
     ]
    }
   ],
   "source": [
    "print(texts[0])\n",
    "print(labels[0])\n",
    "\n",
    "print(texts[1])\n",
    "print(labels[1])"
   ]
  },
  {
   "cell_type": "code",
   "execution_count": 39,
   "metadata": {
    "collapsed": true
   },
   "outputs": [],
   "source": [
    "# filtering all . ? ! into <END> token \n",
    "\n",
    "END_TK = ' <end>'\n",
    "INTER_PUNS = [',', ';', '\\\\n']\n",
    "END_PUNS = ['.', '?', '!']\n",
    "\n",
    "\n",
    "def filter_text(text):\n",
    "    temp = text.replace('Dr.', 'Dr')\n",
    "    temp = temp.replace('dr.', 'dr')\n",
    "    temp = temp.replace('DR.', 'DR')\n",
    "    \n",
    "    for pun in INTER_PUNS:\n",
    "        temp = temp.replace(pun, '')\n",
    "    \n",
    "    for pun in END_PUNS:\n",
    "        temp = temp.replace(pun, END_TK)\n",
    "    return temp.lower() \n",
    "\n",
    "text_filtered = [filter_text(text) for text in texts]"
   ]
  },
  {
   "cell_type": "code",
   "execution_count": 40,
   "metadata": {
    "collapsed": false
   },
   "outputs": [
    {
     "name": "stdout",
     "output_type": "stream",
     "text": [
      "dr goldberg offers everything i look for in a general practitioner <end>  he's nice and easy to talk to without being patronizing he's always on time in seeing his patients he's affiliated with a top-notch hospital (nyu) which my parents have explained to me is very important in case something happens and you need surgery and you can get referrals to see specialists without having to see him first <end>  really what more do you need <end>  i'm sitting here trying to think of any complaints i have about him but i'm really drawing a blank <end>\n",
      "unfortunately the frustration of being dr goldberg's patient is a repeat of the experience i've had with so many other doctors in nyc -- good doctor terrible staff <end>  it seems that his staff simply never answers the phone <end>  it usually takes 2 hours of repeated calling to get an answer <end>  who has time for that or wants to deal with it <end>  i have run into this problem with many other doctors and i just don't get it <end>  you have office workers you have patients with medical needs why isn't anyone answering the phone <end>  it's incomprehensible and not work the aggravation <end>  it's with regret that i feel that i have to give dr goldberg 2 stars <end>\n",
      "been going to dr goldberg for over 10 years <end> i think i was one of his 1st patients when he started at mhmg <end> he's been great over the years and is really all about the big picture <end> it is because of him not my now former gyn dr markoff that i found out i have fibroids <end> he explores all options with you and is very patient and understanding <end> he doesn't judge and asks all the right questions <end> very thorough and wants to be kept in the loop on every aspect of your medical health and your life <end>\n",
      "got a letter in the mail last week that said dr goldberg is moving to arizona to take a new position there in june <end>  he will be missed very much <end>  i think finding a new doctor in nyc that you actually like might almost be as awful as trying to find a date <end>\n",
      "i don't know what dr goldberg was like before  moving to arizona but let me tell you stay away from this doctor and this office <end> i was going to dr johnson before he left and goldberg took over when johnson left <end> he is not a caring doctor <end> he is only interested in the co-pay and having you come in for medication refills every month <end> he will not give refills and could less about patients's financial situations <end> trying to get your 90 days mail away pharmacy prescriptions through this guy is a joke <end> and to make matters even worse his office staff is incompetent <end> 90% of the time when you call the office they'll put you through to a voice mail that no one ever answers or returns your call <end> both my adult children and husband have decided to leave this practice after experiencing such frustration <end> the entire office has an attitude like they are doing you a favor <end> give me a break <end> stay away from this doc and the practice <end> you deserve better and they will not be there when you really need them <end> i have never felt compelled to write a bad review about anyone until i met this pathetic excuse for a doctor who is all about the money <end>\n",
      "top notch doctor in a top notch practice <end> can't say i am surprised when i was referred to him by another doctor who i think is wonderful and because he went to one of the best medical schools in the country <end> it is really easy to get an appointment <end> there is minimal wait to be seen and his bedside manner is great <end>\n"
     ]
    }
   ],
   "source": [
    "for i in range(6):\n",
    "    print(text_filtered[i])"
   ]
  },
  {
   "cell_type": "code",
   "execution_count": 47,
   "metadata": {
    "collapsed": false
   },
   "outputs": [],
   "source": [
    "all_words = [word for text in text_filtered for word in text.split()]"
   ]
  },
  {
   "cell_type": "code",
   "execution_count": 48,
   "metadata": {
    "collapsed": true
   },
   "outputs": [],
   "source": [
    "from collections import Counter \n",
    "\n",
    "counts = Counter(all_words)"
   ]
  },
  {
   "cell_type": "code",
   "execution_count": 49,
   "metadata": {
    "collapsed": false
   },
   "outputs": [
    {
     "name": "stdout",
     "output_type": "stream",
     "text": [
      "640772\n"
     ]
    }
   ],
   "source": [
    "# vocabulary for all words \n",
    "\n",
    "vocab_words = list(set(all_words))\n",
    "\n",
    "print(len(vocab_words))  # 640772"
   ]
  },
  {
   "cell_type": "code",
   "execution_count": 50,
   "metadata": {
    "collapsed": true
   },
   "outputs": [],
   "source": [
    "# get n most common word and the vocabulary as a list \n",
    "\n",
    "common_word_list = counts.most_common(20000)\n",
    "\n",
    "vocab_list = [word for word, count in common_word_list]"
   ]
  },
  {
   "cell_type": "code",
   "execution_count": 52,
   "metadata": {
    "collapsed": false
   },
   "outputs": [
    {
     "name": "stdout",
     "output_type": "stream",
     "text": [
      "20000\n"
     ]
    }
   ],
   "source": [
    "print(len(vocab_list))  # correct "
   ]
  },
  {
   "cell_type": "code",
   "execution_count": 53,
   "metadata": {
    "collapsed": true
   },
   "outputs": [],
   "source": [
    "# mapping dicts \n",
    "\n",
    "idx2word = {(idx+1):word for idx, word in enumerate(vocab_list)}\n",
    "word2idx = {word:(idx+1) for idx, word in enumerate(vocab_list)}"
   ]
  },
  {
   "cell_type": "code",
   "execution_count": 54,
   "metadata": {
    "collapsed": false
   },
   "outputs": [
    {
     "name": "stdout",
     "output_type": "stream",
     "text": [
      "20000\n",
      "20000\n"
     ]
    }
   ],
   "source": [
    "print(len(idx2word))\n",
    "print(len(word2idx))   # correct "
   ]
  },
  {
   "cell_type": "code",
   "execution_count": 56,
   "metadata": {
    "collapsed": false
   },
   "outputs": [
    {
     "ename": "KeyboardInterrupt",
     "evalue": "",
     "output_type": "error",
     "traceback": [
      "\u001b[0;31m---------------------------------------------------------------------------\u001b[0m",
      "\u001b[0;31mKeyboardInterrupt\u001b[0m                         Traceback (most recent call last)",
      "\u001b[0;32m<ipython-input-56-e319d0449de8>\u001b[0m in \u001b[0;36m<module>\u001b[0;34m()\u001b[0m\n\u001b[1;32m      4\u001b[0m     \u001b[0;32mreturn\u001b[0m \u001b[0mword\u001b[0m \u001b[0;32mif\u001b[0m \u001b[0mword\u001b[0m \u001b[0;32min\u001b[0m \u001b[0mvocab\u001b[0m \u001b[0;32melse\u001b[0m \u001b[0mUNK_TK\u001b[0m\u001b[0;34m\u001b[0m\u001b[0m\n\u001b[1;32m      5\u001b[0m \u001b[0;34m\u001b[0m\u001b[0m\n\u001b[0;32m----> 6\u001b[0;31m \u001b[0mtext_filtered_word_splitted\u001b[0m \u001b[0;34m=\u001b[0m \u001b[0;34m[\u001b[0m\u001b[0;34m[\u001b[0m\u001b[0mfilter_word\u001b[0m\u001b[0;34m(\u001b[0m\u001b[0mword\u001b[0m\u001b[0;34m,\u001b[0m \u001b[0mvocab_list\u001b[0m\u001b[0;34m)\u001b[0m \u001b[0;32mfor\u001b[0m \u001b[0mword\u001b[0m \u001b[0;32min\u001b[0m \u001b[0mtext\u001b[0m\u001b[0;34m.\u001b[0m\u001b[0msplit\u001b[0m\u001b[0;34m(\u001b[0m\u001b[0;34m)\u001b[0m\u001b[0;34m]\u001b[0m \u001b[0;32mfor\u001b[0m \u001b[0mtext\u001b[0m \u001b[0;32min\u001b[0m \u001b[0mtext_filtered\u001b[0m\u001b[0;34m]\u001b[0m\u001b[0;34m\u001b[0m\u001b[0m\n\u001b[0m",
      "\u001b[0;32m<ipython-input-56-e319d0449de8>\u001b[0m in \u001b[0;36m<listcomp>\u001b[0;34m(.0)\u001b[0m\n\u001b[1;32m      4\u001b[0m     \u001b[0;32mreturn\u001b[0m \u001b[0mword\u001b[0m \u001b[0;32mif\u001b[0m \u001b[0mword\u001b[0m \u001b[0;32min\u001b[0m \u001b[0mvocab\u001b[0m \u001b[0;32melse\u001b[0m \u001b[0mUNK_TK\u001b[0m\u001b[0;34m\u001b[0m\u001b[0m\n\u001b[1;32m      5\u001b[0m \u001b[0;34m\u001b[0m\u001b[0m\n\u001b[0;32m----> 6\u001b[0;31m \u001b[0mtext_filtered_word_splitted\u001b[0m \u001b[0;34m=\u001b[0m \u001b[0;34m[\u001b[0m\u001b[0;34m[\u001b[0m\u001b[0mfilter_word\u001b[0m\u001b[0;34m(\u001b[0m\u001b[0mword\u001b[0m\u001b[0;34m,\u001b[0m \u001b[0mvocab_list\u001b[0m\u001b[0;34m)\u001b[0m \u001b[0;32mfor\u001b[0m \u001b[0mword\u001b[0m \u001b[0;32min\u001b[0m \u001b[0mtext\u001b[0m\u001b[0;34m.\u001b[0m\u001b[0msplit\u001b[0m\u001b[0;34m(\u001b[0m\u001b[0;34m)\u001b[0m\u001b[0;34m]\u001b[0m \u001b[0;32mfor\u001b[0m \u001b[0mtext\u001b[0m \u001b[0;32min\u001b[0m \u001b[0mtext_filtered\u001b[0m\u001b[0;34m]\u001b[0m\u001b[0;34m\u001b[0m\u001b[0m\n\u001b[0m",
      "\u001b[0;32m<ipython-input-56-e319d0449de8>\u001b[0m in \u001b[0;36m<listcomp>\u001b[0;34m(.0)\u001b[0m\n\u001b[1;32m      4\u001b[0m     \u001b[0;32mreturn\u001b[0m \u001b[0mword\u001b[0m \u001b[0;32mif\u001b[0m \u001b[0mword\u001b[0m \u001b[0;32min\u001b[0m \u001b[0mvocab\u001b[0m \u001b[0;32melse\u001b[0m \u001b[0mUNK_TK\u001b[0m\u001b[0;34m\u001b[0m\u001b[0m\n\u001b[1;32m      5\u001b[0m \u001b[0;34m\u001b[0m\u001b[0m\n\u001b[0;32m----> 6\u001b[0;31m \u001b[0mtext_filtered_word_splitted\u001b[0m \u001b[0;34m=\u001b[0m \u001b[0;34m[\u001b[0m\u001b[0;34m[\u001b[0m\u001b[0mfilter_word\u001b[0m\u001b[0;34m(\u001b[0m\u001b[0mword\u001b[0m\u001b[0;34m,\u001b[0m \u001b[0mvocab_list\u001b[0m\u001b[0;34m)\u001b[0m \u001b[0;32mfor\u001b[0m \u001b[0mword\u001b[0m \u001b[0;32min\u001b[0m \u001b[0mtext\u001b[0m\u001b[0;34m.\u001b[0m\u001b[0msplit\u001b[0m\u001b[0;34m(\u001b[0m\u001b[0;34m)\u001b[0m\u001b[0;34m]\u001b[0m \u001b[0;32mfor\u001b[0m \u001b[0mtext\u001b[0m \u001b[0;32min\u001b[0m \u001b[0mtext_filtered\u001b[0m\u001b[0;34m]\u001b[0m\u001b[0;34m\u001b[0m\u001b[0m\n\u001b[0m",
      "\u001b[0;32m<ipython-input-56-e319d0449de8>\u001b[0m in \u001b[0;36mfilter_word\u001b[0;34m(word, vocab)\u001b[0m\n\u001b[1;32m      2\u001b[0m \u001b[0;34m\u001b[0m\u001b[0m\n\u001b[1;32m      3\u001b[0m \u001b[0;32mdef\u001b[0m \u001b[0mfilter_word\u001b[0m\u001b[0;34m(\u001b[0m\u001b[0mword\u001b[0m\u001b[0;34m,\u001b[0m \u001b[0mvocab\u001b[0m\u001b[0;34m)\u001b[0m\u001b[0;34m:\u001b[0m\u001b[0;34m\u001b[0m\u001b[0m\n\u001b[0;32m----> 4\u001b[0;31m     \u001b[0;32mreturn\u001b[0m \u001b[0mword\u001b[0m \u001b[0;32mif\u001b[0m \u001b[0mword\u001b[0m \u001b[0;32min\u001b[0m \u001b[0mvocab\u001b[0m \u001b[0;32melse\u001b[0m \u001b[0mUNK_TK\u001b[0m\u001b[0;34m\u001b[0m\u001b[0m\n\u001b[0m\u001b[1;32m      5\u001b[0m \u001b[0;34m\u001b[0m\u001b[0m\n\u001b[1;32m      6\u001b[0m \u001b[0mtext_filtered_word_splitted\u001b[0m \u001b[0;34m=\u001b[0m \u001b[0;34m[\u001b[0m\u001b[0;34m[\u001b[0m\u001b[0mfilter_word\u001b[0m\u001b[0;34m(\u001b[0m\u001b[0mword\u001b[0m\u001b[0;34m,\u001b[0m \u001b[0mvocab_list\u001b[0m\u001b[0;34m)\u001b[0m \u001b[0;32mfor\u001b[0m \u001b[0mword\u001b[0m \u001b[0;32min\u001b[0m \u001b[0mtext\u001b[0m\u001b[0;34m.\u001b[0m\u001b[0msplit\u001b[0m\u001b[0;34m(\u001b[0m\u001b[0;34m)\u001b[0m\u001b[0;34m]\u001b[0m \u001b[0;32mfor\u001b[0m \u001b[0mtext\u001b[0m \u001b[0;32min\u001b[0m \u001b[0mtext_filtered\u001b[0m\u001b[0;34m]\u001b[0m\u001b[0;34m\u001b[0m\u001b[0m\n",
      "\u001b[0;31mKeyboardInterrupt\u001b[0m: "
     ]
    }
   ],
   "source": [
    "# reform texts with vocab and the unknown token \n",
    "\n",
    "UNK_TK = '<UNK>'\n",
    "\n",
    "def filter_word(word, vocab):\n",
    "    return word if word in vocab else UNK_TK\n",
    "\n",
    "text_filtered_word_splitted = [[filter_word(word, vocab_list) for word in text.split()] for text in text_filtered]"
   ]
  },
  {
   "cell_type": "code",
   "execution_count": null,
   "metadata": {
    "collapsed": true
   },
   "outputs": [],
   "source": [
    "print(len(text_filtered_word_splitted))\n",
    "print(text_filtered_word_splitted[0])"
   ]
  },
  {
   "cell_type": "code",
   "execution_count": null,
   "metadata": {
    "collapsed": true
   },
   "outputs": [],
   "source": [
    "# optional, depends on the vocab size, augment the dicts with the unknown token \n",
    "\n",
    "idx2word[len(vocab_list)+1] = UNK_TK\n",
    "word2idx[UNK_TK] = len(vocab_list) + 1"
   ]
  },
  {
   "cell_type": "code",
   "execution_count": 60,
   "metadata": {
    "collapsed": false
   },
   "outputs": [],
   "source": [
    "# get sentence maxlen \n",
    "\n",
    "maxlen = max([len(text) for text in text_filtered])"
   ]
  },
  {
   "cell_type": "code",
   "execution_count": 61,
   "metadata": {
    "collapsed": false
   },
   "outputs": [
    {
     "name": "stdout",
     "output_type": "stream",
     "text": [
      "6256\n"
     ]
    }
   ],
   "source": [
    "print(maxlen)   # 6526 "
   ]
  },
  {
   "cell_type": "code",
   "execution_count": null,
   "metadata": {
    "collapsed": true
   },
   "outputs": [],
   "source": [
    "# Optional, cut down sentence length by truncating sentences \n",
    "\n",
    "maxlen_ideal = 1000  # ? how should i determine this "
   ]
  },
  {
   "cell_type": "code",
   "execution_count": 58,
   "metadata": {
    "collapsed": false
   },
   "outputs": [
    {
     "name": "stdout",
     "output_type": "stream",
     "text": [
      "[1, 2, 3, 4, 5]\n",
      "5\n"
     ]
    }
   ],
   "source": [
    "# get number of labels \n",
    "\n",
    "label_list = list(set(labels))\n",
    "print(label_list)  # 1, 2, 3, 4, 5\n",
    "\n",
    "num_labels = len(label_list)    \n",
    "print(num_labels)    # 5 "
   ]
  },
  {
   "cell_type": "code",
   "execution_count": null,
   "metadata": {
    "collapsed": true
   },
   "outputs": [],
   "source": [
    "# encoding API\n",
    "\n",
    "def encode_word(word, word2idx):\n",
    "    return word2idx[word]\n",
    "\n",
    "def encode_text(text, word2idx):\n",
    "    return [encode_word(word, word2idx) for word in text]\n",
    "\n",
    "def encode_label(label, dim):\n",
    "    temp = [0]*dim\n",
    "    temp[label] = 1\n",
    "    return temp"
   ]
  },
  {
   "cell_type": "code",
   "execution_count": null,
   "metadata": {
    "collapsed": true
   },
   "outputs": [],
   "source": []
  },
  {
   "cell_type": "code",
   "execution_count": null,
   "metadata": {
    "collapsed": true
   },
   "outputs": [],
   "source": []
  }
 ],
 "metadata": {
  "kernelspec": {
   "display_name": "Python [default]",
   "language": "python",
   "name": "python3"
  },
  "language_info": {
   "codemirror_mode": {
    "name": "ipython",
    "version": 3
   },
   "file_extension": ".py",
   "mimetype": "text/x-python",
   "name": "python",
   "nbconvert_exporter": "python",
   "pygments_lexer": "ipython3",
   "version": "3.5.2"
  }
 },
 "nbformat": 4,
 "nbformat_minor": 2
}
