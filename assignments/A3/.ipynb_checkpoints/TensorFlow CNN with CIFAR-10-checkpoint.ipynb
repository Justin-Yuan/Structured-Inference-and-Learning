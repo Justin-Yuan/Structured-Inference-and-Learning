{
 "cells": [
  {
   "cell_type": "markdown",
   "metadata": {},
   "source": [
    "# A TensorFlow Convolutional Neural Network on CIFAR-10"
   ]
  },
  {
   "cell_type": "code",
   "execution_count": 2,
   "metadata": {
    "collapsed": true
   },
   "outputs": [],
   "source": [
    "import numpy as np\n",
    "import tensorflow as tf \n",
    "import matplotlib.pyplot as plt \n",
    "%matplotlib inline\n",
    "\n",
    "from keras "
   ]
  },
  {
   "cell_type": "code",
   "execution_count": 16,
   "metadata": {
    "collapsed": true
   },
   "outputs": [],
   "source": [
    "batch_size = 32\n",
    "num_classes = 10\n",
    "epochs = 1 \n",
    "\n",
    "img_row = 32\n",
    "img_col = 32"
   ]
  },
  {
   "cell_type": "code",
   "execution_count": 17,
   "metadata": {
    "collapsed": true
   },
   "outputs": [],
   "source": [
    "x = tf.placeholder(tf.float32, shape=[None, img_row, img_col, 3])\n",
    "y_ = tf.placeholder(tf.float32, shape=[None, 10])\n",
    "\n",
    "keep_prob = tf.placeholder(tf.float32)"
   ]
  },
  {
   "cell_type": "code",
   "execution_count": 18,
   "metadata": {
    "collapsed": true
   },
   "outputs": [],
   "source": [
    "def weight_variable(shape):\n",
    "    initial = tf.truncated_normal(shape, stddev=0.1)\n",
    "    return tf.Variable(initial)\n",
    "\n",
    "def bias_variable(shape):\n",
    "    initial = tf.constant(0.1, shape=shape)\n",
    "    return tf.Variable(initial)"
   ]
  },
  {
   "cell_type": "markdown",
   "metadata": {},
   "source": []
  },
  {
   "cell_type": "code",
   "execution_count": 28,
   "metadata": {
    "collapsed": false
   },
   "outputs": [],
   "source": [
    "with tf.variable_scope(\"conv_block1\") as scope:\n",
    "    W1_conv1 = weight_variable([3, 3, 3, 32])\n",
    "    b1_conv1 = bias_variable([32])\n",
    "    \n",
    "    conv1_weight1 = tf.nn.conv2d(x, W1_conv1, strides=[1, 1, 1, 1], padding='SAME')\n",
    "    conv1_bias1 = tf.nn.bias_add(conv1_weight1, b1_conv1)\n",
    "    conv1_act1 = tf.nn.relu(conv1_bias1, name='conv1_act1')\n",
    "    \n",
    "    W2_conv1 = weight_variable([3, 3, 32, 32])\n",
    "    b2_conv1 = bias_variable([32])\n",
    "    \n",
    "    conv1_weight2 = tf.nn.conv2d(conv1_act1, W2_conv1, strides=[1, 1, 1, 1], padding='VALID')\n",
    "    conv1_bias2 = tf.nn.bias_add(conv1_weight2, b2_conv1)\n",
    "    conv1_act2 = tf.nn.relu(conv1_bias2, name='conv1_act2')\n",
    "    \n",
    "    pool1 = tf.nn.max_pool(conv1_act2, ksize=[1, 2, 2, 1], strides=[1, 2, 2, 1], padding='SAME', name='pool1')\n",
    "    conv1_dropout = tf.nn.dropout(pool1, keep_prob=0.25, name='dropout1')"
   ]
  },
  {
   "cell_type": "markdown",
   "metadata": {},
   "source": []
  },
  {
   "cell_type": "code",
   "execution_count": 32,
   "metadata": {
    "collapsed": false
   },
   "outputs": [],
   "source": [
    "with tf.variable_scope(\"conv_block2\") as scope:\n",
    "    W1_conv2 = weight_variable([3, 3, 32, 64])\n",
    "    b1_conv2 = bias_variable([64])\n",
    "    \n",
    "    conv2_weight1 = tf.nn.conv2d(conv1_dropout, W1_conv2, strides=[1, 1, 1, 1], padding='SAME')\n",
    "    conv2_bias1 = tf.nn.bias_add(conv2_weight1, b1_conv2)\n",
    "    conv2_act1 = tf.nn.relu(conv2_bias1, name='conv2_act1')\n",
    "    \n",
    "    W2_conv2 = weight_variable([3, 3, 64, 64])\n",
    "    b2_conv2 = bias_variable([64])\n",
    "    \n",
    "    conv2_weight2 = tf.nn.conv2d(conv2_act1, W2_conv2, strides=[1, 1, 1, 1], padding='VALID')\n",
    "    conv2_bias2 = tf.nn.bias_add(conv2_weight2, b2_conv2)\n",
    "    conv2_act2 = tf.nn.relu(conv2_bias2, name='conv2_act2')\n",
    "    \n",
    "    pool2 = tf.nn.max_pool(conv2_act2, ksize=[1, 2, 2, 1], strides=[1, 2, 2, 1], padding='SAME', name='pool2')\n",
    "    conv2_dropout = tf.nn.dropout(pool2, keep_prob=0.25, name='dropout2')"
   ]
  },
  {
   "cell_type": "markdown",
   "metadata": {},
   "source": []
  },
  {
   "cell_type": "code",
   "execution_count": null,
   "metadata": {
    "collapsed": true
   },
   "outputs": [],
   "source": [
    "with tf.variable_scope(\"fully-connected3\") as scope:\n",
    "    reshape = tf.reshape(conv2_dropout, [, ])\n",
    "    \n",
    "    W_fc = weight_variable([])\n",
    "    b_fc = bias_variable([])\n",
    "    \n",
    "    fc_act = tf.nn.relu(tf.matmul(reshape, W_fc) + b_fc, name='fully-connected3')\n",
    "    fc_dropout = tf.nn.dropout(fc_act, keep_prob=0.5, name='dropout3')"
   ]
  },
  {
   "cell_type": "markdown",
   "metadata": {},
   "source": []
  },
  {
   "cell_type": "code",
   "execution_count": null,
   "metadata": {
    "collapsed": true
   },
   "outputs": [],
   "source": [
    "with tf.variable_scope(\"fully-connected\") as scope:\n",
    "    W_"
   ]
  }
 ],
 "metadata": {
  "kernelspec": {
   "display_name": "Python [default]",
   "language": "python",
   "name": "python3"
  },
  "language_info": {
   "codemirror_mode": {
    "name": "ipython",
    "version": 3
   },
   "file_extension": ".py",
   "mimetype": "text/x-python",
   "name": "python",
   "nbconvert_exporter": "python",
   "pygments_lexer": "ipython3",
   "version": "3.5.2"
  }
 },
 "nbformat": 4,
 "nbformat_minor": 2
}
