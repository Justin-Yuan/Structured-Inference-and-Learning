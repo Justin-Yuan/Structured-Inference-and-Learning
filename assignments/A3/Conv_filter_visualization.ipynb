{
 "cells": [
  {
   "cell_type": "code",
   "execution_count": 1,
   "metadata": {
    "collapsed": false
   },
   "outputs": [
    {
     "data": {
      "text/plain": [
       "'/Users/zhaocongyuan/Desktop/research/Test'"
      ]
     },
     "execution_count": 1,
     "metadata": {},
     "output_type": "execute_result"
    }
   ],
   "source": [
    "pwd"
   ]
  },
  {
   "cell_type": "code",
   "execution_count": 13,
   "metadata": {
    "collapsed": false
   },
   "outputs": [
    {
     "name": "stdout",
     "output_type": "stream",
     "text": [
      "/Users/zhaocongyuan/Desktop/research/keras/examples\n",
      "README.md\n",
      "addition_rnn.py\n",
      "antirectifier.py\n",
      "babi_memnn.py\n",
      "babi_rnn.py\n",
      "cifar10_cnn.py\n",
      "conv_filter_visualization.py\n",
      "conv_lstm.py\n",
      "deep_dream.py\n",
      "image_ocr.py\n",
      "imdb_bidirectional_lstm.py\n",
      "imdb_cnn.py\n",
      "imdb_cnn_lstm.py\n",
      "imdb_fasttext.py\n",
      "imdb_lstm.py\n",
      "lstm_benchmark.py\n",
      "lstm_text_generation.py\n",
      "mnist_acgan.py\n",
      "mnist_cnn.py\n",
      "mnist_hierarchical_rnn.py\n",
      "mnist_irnn.py\n",
      "mnist_mlp.py\n",
      "mnist_net2net.py\n",
      "mnist_siamese_graph.py\n",
      "mnist_sklearn_wrapper.py\n",
      "mnist_swwae.py\n",
      "mnist_transfer_cnn.py\n",
      "neural_doodle.py\n",
      "neural_style_transfer.py\n",
      "pretrained_word_embeddings.py\n",
      "reuters_mlp.py\n",
      "stateful_lstm.py\n",
      "variational_autoencoder.py\n",
      "variational_autoencoder_deconv.py\n"
     ]
    }
   ],
   "source": [
    "%%bash \n",
    "cd \n",
    "cd Desktop/research/keras/examples/\n",
    "pwd\n",
    "ls"
   ]
  },
  {
   "cell_type": "code",
   "execution_count": 14,
   "metadata": {
    "collapsed": false
   },
   "outputs": [
    {
     "name": "stderr",
     "output_type": "stream",
     "text": [
      "ERROR:root:File `'conv_filter_visualization.py'` not found.\n"
     ]
    }
   ],
   "source": [
    "%run conv_filter_visualization.py"
   ]
  }
 ],
 "metadata": {
  "kernelspec": {
   "display_name": "Python [default]",
   "language": "python",
   "name": "python3"
  },
  "language_info": {
   "codemirror_mode": {
    "name": "ipython",
    "version": 3
   },
   "file_extension": ".py",
   "mimetype": "text/x-python",
   "name": "python",
   "nbconvert_exporter": "python",
   "pygments_lexer": "ipython3",
   "version": "3.5.2"
  }
 },
 "nbformat": 4,
 "nbformat_minor": 2
}
