{
 "cells": [
  {
   "cell_type": "markdown",
   "metadata": {},
   "source": [
    "# A TensorFlow Convolutional Neural Network on CIFAR-10"
   ]
  },
  {
   "cell_type": "code",
   "execution_count": 119,
   "metadata": {
    "collapsed": false
   },
   "outputs": [],
   "source": [
    "import numpy as np\n",
    "import tensorflow as tf \n",
    "import matplotlib.pyplot as plt \n",
    "%matplotlib inline\n",
    "\n",
    "import keras\n",
    "from keras.datasets import cifar10"
   ]
  },
  {
   "cell_type": "code",
   "execution_count": 96,
   "metadata": {
    "collapsed": true
   },
   "outputs": [],
   "source": [
    "batch_size = 32\n",
    "num_classes = 10\n",
    "epochs = 1 \n",
    "\n",
    "img_row = 32\n",
    "img_col = 32"
   ]
  },
  {
   "cell_type": "markdown",
   "metadata": {},
   "source": []
  },
  {
   "cell_type": "code",
   "execution_count": 117,
   "metadata": {
    "collapsed": false
   },
   "outputs": [
    {
     "name": "stdout",
     "output_type": "stream",
     "text": [
      "x_train shape: (50000, 32, 32, 3)\n",
      "50000 train samples\n",
      "10000 test samples\n"
     ]
    }
   ],
   "source": [
    "# The data, shuffled and split between train and test sets:\n",
    "(x_train, y_train), (x_test, y_test) = cifar10.load_data()\n",
    "\n",
    "print('x_train shape:', x_train.shape)\n",
    "print(x_train.shape[0], 'train samples')\n",
    "print(x_test.shape[0], 'test samples')"
   ]
  },
  {
   "cell_type": "code",
   "execution_count": 120,
   "metadata": {
    "collapsed": false
   },
   "outputs": [
    {
     "name": "stdout",
     "output_type": "stream",
     "text": [
      "y_train shape: (50000, 10)\n"
     ]
    }
   ],
   "source": [
    "# Convert class vectors to binary class matrices.\n",
    "y_train = keras.utils.to_categorical(y_train, num_classes)\n",
    "y_test = keras.utils.to_categorical(y_test, num_classes)\n",
    "\n",
    "print(\"y_train shape:\", y_train.shape)"
   ]
  },
  {
   "cell_type": "code",
   "execution_count": 121,
   "metadata": {
    "collapsed": false
   },
   "outputs": [
    {
     "data": {
      "text/plain": [
       "(50000, 32, 32, 3)"
      ]
     },
     "execution_count": 121,
     "metadata": {},
     "output_type": "execute_result"
    }
   ],
   "source": [
    "x_train = x_train.astype('float32')\n",
    "x_test = x_test.astype('float32')\n",
    "x_train /= 255\n",
    "x_test /= 255\n",
    "x_train.shape"
   ]
  },
  {
   "cell_type": "markdown",
   "metadata": {},
   "source": []
  },
  {
   "cell_type": "code",
   "execution_count": 17,
   "metadata": {
    "collapsed": true
   },
   "outputs": [],
   "source": [
    "x = tf.placeholder(tf.float32, shape=[None, img_row, img_col, 3])\n",
    "y_ = tf.placeholder(tf.float32, shape=[None, 10])\n",
    "\n",
    "keep_prob = tf.placeholder(tf.float32)"
   ]
  },
  {
   "cell_type": "code",
   "execution_count": 107,
   "metadata": {
    "collapsed": true
   },
   "outputs": [],
   "source": [
    "def weight_variable(shape):\n",
    "    initial = tf.truncated_normal(shape, stddev=0.1)\n",
    "    return tf.Variable(initial)\n",
    "\n",
    "def bias_variable(shape):\n",
    "    initial = tf.constant(0.1, shape=shape)\n",
    "    return tf.Variable(initial)"
   ]
  },
  {
   "cell_type": "markdown",
   "metadata": {},
   "source": []
  },
  {
   "cell_type": "code",
   "execution_count": 43,
   "metadata": {
    "collapsed": false
   },
   "outputs": [
    {
     "name": "stdout",
     "output_type": "stream",
     "text": [
      "(?, 15, 15, 32)\n"
     ]
    }
   ],
   "source": [
    "with tf.variable_scope(\"conv_block1\") as scope:\n",
    "    W1_conv1 = weight_variable([3, 3, 3, 32])\n",
    "    b1_conv1 = bias_variable([32])\n",
    "    \n",
    "    conv1_weight1 = tf.nn.conv2d(x, W1_conv1, strides=[1, 1, 1, 1], padding='SAME')\n",
    "    conv1_bias1 = tf.nn.bias_add(conv1_weight1, b1_conv1)\n",
    "    conv1_act1 = tf.nn.relu(conv1_bias1, name='conv1_act1')\n",
    "    \n",
    "    W2_conv1 = weight_variable([3, 3, 32, 32])\n",
    "    b2_conv1 = bias_variable([32])\n",
    "    \n",
    "    conv1_weight2 = tf.nn.conv2d(conv1_act1, W2_conv1, strides=[1, 1, 1, 1], padding='VALID')\n",
    "    conv1_bias2 = tf.nn.bias_add(conv1_weight2, b2_conv1)\n",
    "    conv1_act2 = tf.nn.relu(conv1_bias2, name='conv1_act2')\n",
    "    \n",
    "    pool1 = tf.nn.max_pool(conv1_act2, ksize=[1, 2, 2, 1], strides=[1, 2, 2, 1], padding='VALID', name='pool1')\n",
    "    conv1_dropout = tf.nn.dropout(pool1, keep_prob=0.25, name='dropout1')\n",
    "    print(conv1_dropout.shape)"
   ]
  },
  {
   "cell_type": "markdown",
   "metadata": {},
   "source": []
  },
  {
   "cell_type": "code",
   "execution_count": 44,
   "metadata": {
    "collapsed": false
   },
   "outputs": [
    {
     "name": "stdout",
     "output_type": "stream",
     "text": [
      "(?, 6, 6, 64)\n"
     ]
    }
   ],
   "source": [
    "with tf.variable_scope(\"conv_block2\") as scope:\n",
    "    W1_conv2 = weight_variable([3, 3, 32, 64])\n",
    "    b1_conv2 = bias_variable([64])\n",
    "    \n",
    "    conv2_weight1 = tf.nn.conv2d(conv1_dropout, W1_conv2, strides=[1, 1, 1, 1], padding='SAME')\n",
    "    conv2_bias1 = tf.nn.bias_add(conv2_weight1, b1_conv2)\n",
    "    conv2_act1 = tf.nn.relu(conv2_bias1, name='conv2_act1')\n",
    "    \n",
    "    W2_conv2 = weight_variable([3, 3, 64, 64])\n",
    "    b2_conv2 = bias_variable([64])\n",
    "    \n",
    "    conv2_weight2 = tf.nn.conv2d(conv2_act1, W2_conv2, strides=[1, 1, 1, 1], padding='VALID')\n",
    "    conv2_bias2 = tf.nn.bias_add(conv2_weight2, b2_conv2)\n",
    "    conv2_act2 = tf.nn.relu(conv2_bias2, name='conv2_act2')\n",
    "    \n",
    "    pool2 = tf.nn.max_pool(conv2_act2, ksize=[1, 2, 2, 1], strides=[1, 2, 2, 1], padding='VALID', name='pool2')\n",
    "    conv2_dropout = tf.nn.dropout(pool2, keep_prob=0.25, name='dropout2')\n",
    "    print(conv2_dropout.shape)"
   ]
  },
  {
   "cell_type": "markdown",
   "metadata": {},
   "source": []
  },
  {
   "cell_type": "code",
   "execution_count": 110,
   "metadata": {
    "collapsed": false
   },
   "outputs": [],
   "source": [
    "with tf.variable_scope(\"fully-connected3\") as scope:\n",
    "    dense_dim = tf.cast(conv2_dropout.shape[1] * conv2_dropout.shape[2] * conv2_dropout.shape[3], tf.int32)\n",
    "    # (32, 6, 6, 64) - > (32, 2304)\n",
    "    # dense_dim = 6*6*64\n",
    "    dense = tf.reshape(conv2_dropout, [batch_size, -1])   \n",
    "    \n",
    "    W_fc3 = weight_variable([dense_dim, 512])\n",
    "    b_fc3 = bias_variable([512])\n",
    "    \n",
    "    fc3_act = tf.nn.relu(tf.matmul(dense, W_fc3) + b_fc3, name='fully-connected3')\n",
    "    fc3_dropout = tf.nn.dropout(fc3_act, keep_prob=0.5, name='dropout3')"
   ]
  },
  {
   "cell_type": "markdown",
   "metadata": {},
   "source": []
  },
  {
   "cell_type": "code",
   "execution_count": 111,
   "metadata": {
    "collapsed": false
   },
   "outputs": [
    {
     "name": "stdout",
     "output_type": "stream",
     "text": [
      "(32, 10)\n"
     ]
    }
   ],
   "source": [
    "with tf.variable_scope(\"output\") as scope:\n",
    "    W_fc4 = weight_variable([512, 10])\n",
    "    b_fc4 = bias_variable([10])\n",
    "    \n",
    "    y_pred = tf.nn.softmax(tf.matmul(fc3_dropout, W_fc4) + b_fc4, name='otuput')\n",
    "    print(y_pred.shape)"
   ]
  },
  {
   "cell_type": "markdown",
   "metadata": {},
   "source": []
  },
  {
   "cell_type": "code",
   "execution_count": 112,
   "metadata": {
    "collapsed": true
   },
   "outputs": [],
   "source": [
    "xentropy_loss = tf.reduce_mean(tf.nn.softmax_cross_entropy_with_logits(logits=y_pred, labels=y_))"
   ]
  },
  {
   "cell_type": "markdown",
   "metadata": {},
   "source": []
  },
  {
   "cell_type": "code",
   "execution_count": 113,
   "metadata": {
    "collapsed": false
   },
   "outputs": [],
   "source": [
    "optimizer = tf.train.GradientDescentOptimizer(0.0001).minimize(xentropy_loss)"
   ]
  },
  {
   "cell_type": "markdown",
   "metadata": {},
   "source": []
  },
  {
   "cell_type": "code",
   "execution_count": 114,
   "metadata": {
    "collapsed": true
   },
   "outputs": [],
   "source": [
    "correct_predictions = tf.equal(tf.argmax(y_, 1), tf.argmax(y_pred, 1))\n",
    "accuracy = tf.reduce_mean(tf.cast(correct_predictions, tf.float32))"
   ]
  },
  {
   "cell_type": "markdown",
   "metadata": {},
   "source": []
  },
  {
   "cell_type": "code",
   "execution_count": 115,
   "metadata": {
    "collapsed": true
   },
   "outputs": [],
   "source": [
    "init_op = tf.global_variables_initializer()"
   ]
  },
  {
   "cell_type": "markdown",
   "metadata": {},
   "source": [
    "## Start training"
   ]
  },
  {
   "cell_type": "markdown",
   "metadata": {},
   "source": []
  },
  {
   "cell_type": "code",
   "execution_count": null,
   "metadata": {
    "collapsed": true
   },
   "outputs": [],
   "source": [
    "sess = tf.Session()\n",
    "sess.run(init_op)\n",
    "\n",
    "start_time = time.time()\n",
    "\n",
    "for i in range(epoch):\n",
    "    # get the next batch of samples with batch size 50\n",
    "    batch_train = .next_batch(50)   \n",
    "    # evaluate the loss, run optimizer to train model parameters \n",
    "    loss, _  = sess.run([entropy_loss, optimizer], feed_dict={x: batch_train[0], y_: batch_train[1], keep_prob: 0.5})\n",
    "    \n",
    "    if i % 500 == 0:\n",
    "        # evaluate training accuracy, dropout rate set to 1.0 to disable dropout layers \n",
    "        acc = sess.run([accuracy], feed_dict={x: batch_train[0], y_: batch_train[1], keep_prob: 1.0})[0]\n",
    "        # evaluate test accuracy, use test set for feed_dict\n",
    "        test_accuracy = sess.run([accuracy], feed_dict={x: mnist.test.images, y_: mnist.test.labels, keep_prob: 1.0})[0]\n",
    "        \n",
    "        # calculate elapsed time \n",
    "        elapsed_time = time.time() - start_time\n",
    "        start_time = time.time()\n",
    "        \n",
    "        print(\"At step: %d (current time: %g), loss: %g, training accuracy: %g\" % (i, elapsed_time, loss, acc))\n",
    "        print(\"test accuracy %g\\n\" % test_accuracy)\n"
   ]
  }
 ],
 "metadata": {
  "kernelspec": {
   "display_name": "Python [default]",
   "language": "python",
   "name": "python3"
  },
  "language_info": {
   "codemirror_mode": {
    "name": "ipython",
    "version": 3
   },
   "file_extension": ".py",
   "mimetype": "text/x-python",
   "name": "python",
   "nbconvert_exporter": "python",
   "pygments_lexer": "ipython3",
   "version": "3.5.2"
  }
 },
 "nbformat": 4,
 "nbformat_minor": 2
}
