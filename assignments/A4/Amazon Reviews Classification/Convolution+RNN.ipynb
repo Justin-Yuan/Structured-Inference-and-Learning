{
 "cells": [
  {
   "cell_type": "code",
   "execution_count": 1,
   "metadata": {
    "collapsed": true
   },
   "outputs": [],
   "source": [
    "from __future__ import print_function \n",
    "import numpy as np\n",
    "import tensorflow as tf \n",
    "\n",
    "import os\n",
    "import sys\n",
    "import time \n",
    "\n",
    "from keras.preprocessing.text import Tokenizer\n",
    "from keras.preprocessing.sequence import pad_sequences\n",
    "from keras.utils import to_categorical\n",
    "from keras.models import Model\n",
    "from keras.layers import Input, Dense, Flatten, Lambda, concatenate\n",
    "from keras.layers import Conv1D, MaxPooling1D, Embedding\n",
    "from keras.layers import SimpleRNN, GRU, LSTM, Bidirectional\n",
    "\n",
    "import keras.backend as K\n",
    "\n",
    "from Classifier import Classifier"
   ]
  },
  {
   "cell_type": "code",
   "execution_count": null,
   "metadata": {
    "collapsed": true
   },
   "outputs": [],
   "source": [
    "def HybridClassifier(Classifier):\n",
    "    \"\"\" Hybrid model, mainly Convolution + RNN (LSTM)\n",
    "    \"\"\"\n",
    "    def __init__(self, batch_size, epochs, raw_data_path=None, embedded_data_path='data/data_and_embedding100.npz', embedding_dim=100):\n",
    "        super(HybridClassifier, self).__init__(batch_size, epochs, raw_data_path=None,\n",
    "                                               embedded_data_path=embedded_data_path, embedding_dim=embedding_dim) \n",
    "        self.type = 'hybrid'\n",
    "\n",
    "    def build(self):\n",
    "        \"\"\" train a hybrid model with Convolution + LSTM\n",
    "        \"\"\"\n",
    "        sequence_input = Input(shape=(max_sequence_length, ), dtype='int32')\n",
    "        embedded_sequences = self.embedding_layer(sequence_input)\n",
    "        x = Conv1D(128, 5, activation='relu')(embedded_sequences)\n",
    "        x = MaxPooling1D(5)(x)\n",
    "        x = Conv1D(128, 5, activation='relu')(x)\n",
    "        x = MaxPooling1D(5)(x)\n",
    "        x = Flatten()(x)\n",
    "        x = Dense(128, activation='relu')(x)\n",
    "\n",
    "        y = LSTM(50, dropout=0.2, recurrent_dropout=0.2)(embedded_sequences)\n",
    "        z = concatenate([x, y])\n",
    "        preds = Dense(6, activation='softmax')(z)\n",
    "        self.model = Model(sequence_input, preds)"
   ]
  },
  {
   "cell_type": "code",
   "execution_count": null,
   "metadata": {
    "collapsed": true
   },
   "outputs": [],
   "source": [
    "if __name__ == \"__main__\":\n",
    "    \"\"\" test the hybird classifier with Convolution + LSTM\n",
    "    \"\"\"\n",
    "    \n",
    "    conv_lstm = HybridClassifier(batch_size=128, epochs=10, raw_data_path=None, embedded_data_path='data/data_and_embedding100.npz', embedding_dim=100)\n",
    "    conv_lstm.build()\n",
    "    conv_lstm.train()\n",
    "    print(\"constructed Convolution + LSTM classifier\")\n",
    "    conv_lstm.evaluate()\n",
    "    print(\"Convolution + LSTM classifier evaluated\")"
   ]
  }
 ],
 "metadata": {
  "kernelspec": {
   "display_name": "Python 3",
   "language": "python",
   "name": "python3"
  },
  "language_info": {
   "codemirror_mode": {
    "name": "ipython",
    "version": 3
   },
   "file_extension": ".py",
   "mimetype": "text/x-python",
   "name": "python",
   "nbconvert_exporter": "python",
   "pygments_lexer": "ipython3",
   "version": "3.6.0"
  }
 },
 "nbformat": 4,
 "nbformat_minor": 2
}
