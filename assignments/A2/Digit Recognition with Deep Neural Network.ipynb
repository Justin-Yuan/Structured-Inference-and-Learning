{
 "cells": [
  {
   "cell_type": "code",
   "execution_count": 194,
   "metadata": {
    "collapsed": true
   },
   "outputs": [],
   "source": [
    "import time \n",
    "\n",
    "import numpy as np\n",
    "import tensorflow as tf\n",
    "import matplotlib.pyplot as plt\n",
    "%matplotlib inline "
   ]
  },
  {
   "cell_type": "code",
   "execution_count": 195,
   "metadata": {
    "collapsed": false
   },
   "outputs": [
    {
     "name": "stdout",
     "output_type": "stream",
     "text": [
      "Extracting MNIST_data/train-images-idx3-ubyte.gz\n",
      "Extracting MNIST_data/train-labels-idx1-ubyte.gz\n",
      "Extracting MNIST_data/t10k-images-idx3-ubyte.gz\n",
      "Extracting MNIST_data/t10k-labels-idx1-ubyte.gz\n"
     ]
    }
   ],
   "source": [
    "from tensorflow.examples.tutorials.mnist import input_data\n",
    "mnist = input_data.read_data_sets('MNIST_data', one_hot=True)"
   ]
  },
  {
   "cell_type": "code",
   "execution_count": 211,
   "metadata": {
    "collapsed": true
   },
   "outputs": [],
   "source": [
    "epoch = 10000"
   ]
  },
  {
   "cell_type": "code",
   "execution_count": 197,
   "metadata": {
    "collapsed": true
   },
   "outputs": [],
   "source": [
    "x = tf.placeholder(tf.float32, shape=[None, 784])\n",
    "y_ = tf.placeholder(tf.float32, shape=[None, 10])\n",
    "\n",
    "keep_prob = tf.placeholder(tf.float32)"
   ]
  },
  {
   "cell_type": "code",
   "execution_count": 198,
   "metadata": {
    "collapsed": true
   },
   "outputs": [],
   "source": [
    "def weight_variable(shape):\n",
    "    initial = tf.truncated_normal(shape, stddev=0.1)\n",
    "    return tf.Variable(initial)\n",
    "\n",
    "def bias_variable(shape):\n",
    "    initial = tf.constant(0.1, shape=shape)\n",
    "    return tf.Variable(initial)"
   ]
  },
  {
   "cell_type": "code",
   "execution_count": 199,
   "metadata": {
    "collapsed": false
   },
   "outputs": [],
   "source": [
    "W_fc1 = weight_variable([784, 1024])\n",
    "b_fc1 = bias_variable([1024])\n",
    "\n",
    "h_fc1 = tf.nn.relu(tf.matmul(x, W_fc1) + b_fc1)"
   ]
  },
  {
   "cell_type": "code",
   "execution_count": 200,
   "metadata": {
    "collapsed": true
   },
   "outputs": [],
   "source": [
    "h_fc1_drop = tf.nn.dropout(h_fc1, keep_prob)"
   ]
  },
  {
   "cell_type": "code",
   "execution_count": 201,
   "metadata": {
    "collapsed": true
   },
   "outputs": [],
   "source": [
    "W_fc2 = weight_variable([1024, 512])\n",
    "b_fc2 = bias_variable([512])\n",
    "\n",
    "h_fc2 = tf.nn.relu(tf.matmul(h_fc1_drop, W_fc2) + b_fc2)"
   ]
  },
  {
   "cell_type": "code",
   "execution_count": 202,
   "metadata": {
    "collapsed": false
   },
   "outputs": [],
   "source": [
    "h_fc2_drop = tf.nn.dropout(h_fc2, keep_prob)"
   ]
  },
  {
   "cell_type": "code",
   "execution_count": 203,
   "metadata": {
    "collapsed": false
   },
   "outputs": [],
   "source": [
    "W_fc3 = weight_variable([512, 10])\n",
    "b_fc3 = bias_variable([10])\n",
    "\n",
    "h_fc3 = tf.nn.relu(tf.matmul(h_fc2_drop, W_fc3) + b_fc3)\n",
    "y_pred = tf.nn.softmax(h_fc3)"
   ]
  },
  {
   "cell_type": "code",
   "execution_count": 204,
   "metadata": {
    "collapsed": true
   },
   "outputs": [],
   "source": [
    "# h_fc3_drop = tf.nn.dropout(h_fc3, keep_prob)"
   ]
  },
  {
   "cell_type": "code",
   "execution_count": 205,
   "metadata": {
    "collapsed": false
   },
   "outputs": [],
   "source": [
    "# W_fc4 = weight_variable([256, 10])\n",
    "# b_fc4 = bias_variable([10])\n",
    "\n",
    "# h_fc4 = tf.matmul(h_fc3_drop, W_fc4) + b_fc4\n",
    "# # y_pred = h_fc4\n",
    "# y_pred = tf.nn.softmax(h_fc4)"
   ]
  },
  {
   "cell_type": "code",
   "execution_count": 206,
   "metadata": {
    "collapsed": true
   },
   "outputs": [],
   "source": [
    "entropy_loss = tf.reduce_mean(tf.nn.softmax_cross_entropy_with_logits(logits=y_pred, labels=y_))"
   ]
  },
  {
   "cell_type": "code",
   "execution_count": 212,
   "metadata": {
    "collapsed": true
   },
   "outputs": [],
   "source": [
    "optimizer = tf.train.AdamOptimizer(0.0001).minimize(entropy_loss)"
   ]
  },
  {
   "cell_type": "code",
   "execution_count": 213,
   "metadata": {
    "collapsed": true
   },
   "outputs": [],
   "source": [
    "correct_predictions = tf.equal(tf.argmax(y_, 1), tf.argmax(y_pred, 1))\n",
    "accuracy = tf.reduce_mean(tf.cast(correct_predictions, tf.float32))"
   ]
  },
  {
   "cell_type": "code",
   "execution_count": 214,
   "metadata": {
    "collapsed": true
   },
   "outputs": [],
   "source": [
    "init_op = tf.global_variables_initializer()"
   ]
  },
  {
   "cell_type": "code",
   "execution_count": 218,
   "metadata": {
    "collapsed": false
   },
   "outputs": [
    {
     "name": "stdout",
     "output_type": "stream",
     "text": [
      "At step: 0 (current time: 1.47595), loss: 2.3446, training accuracy: 0.1\n",
      "test accuracy 0.0706\n",
      "\n",
      "At step: 500 (current time: 16.2936), loss: 1.83297, training accuracy: 0.82\n",
      "test accuracy 0.7877\n",
      "\n",
      "At step: 1000 (current time: 20.6515), loss: 1.60376, training accuracy: 0.82\n",
      "test accuracy 0.8782\n",
      "\n",
      "At step: 1500 (current time: 18.1769), loss: 1.55724, training accuracy: 0.92\n",
      "test accuracy 0.9009\n",
      "\n",
      "At step: 2000 (current time: 18.9588), loss: 1.61815, training accuracy: 0.88\n",
      "test accuracy 0.9163\n",
      "\n",
      "At step: 2500 (current time: 20.5484), loss: 1.59033, training accuracy: 0.92\n",
      "test accuracy 0.9245\n",
      "\n",
      "At step: 3000 (current time: 16.9654), loss: 1.48688, training accuracy: 1\n",
      "test accuracy 0.9286\n",
      "\n",
      "At step: 3500 (current time: 17.3069), loss: 1.53453, training accuracy: 0.92\n",
      "test accuracy 0.9348\n",
      "\n",
      "At step: 4000 (current time: 15.5814), loss: 1.48713, training accuracy: 0.96\n",
      "test accuracy 0.938\n",
      "\n",
      "At step: 4500 (current time: 15.8859), loss: 1.56347, training accuracy: 0.94\n",
      "test accuracy 0.9393\n",
      "\n",
      "At step: 5000 (current time: 17.8763), loss: 1.60387, training accuracy: 0.88\n",
      "test accuracy 0.9443\n",
      "\n",
      "At step: 5500 (current time: 17.4716), loss: 1.57806, training accuracy: 0.88\n",
      "test accuracy 0.947\n",
      "\n",
      "At step: 6000 (current time: 16.6239), loss: 1.57439, training accuracy: 0.92\n",
      "test accuracy 0.9474\n",
      "\n",
      "At step: 6500 (current time: 17.022), loss: 1.49283, training accuracy: 0.98\n",
      "test accuracy 0.9486\n",
      "\n",
      "At step: 7000 (current time: 15.7435), loss: 1.52371, training accuracy: 0.96\n",
      "test accuracy 0.9501\n",
      "\n",
      "At step: 7500 (current time: 15.1257), loss: 1.51893, training accuracy: 0.98\n",
      "test accuracy 0.9524\n",
      "\n",
      "At step: 8000 (current time: 16.9199), loss: 1.54352, training accuracy: 0.92\n",
      "test accuracy 0.9555\n",
      "\n",
      "At step: 8500 (current time: 15.7519), loss: 1.48265, training accuracy: 0.98\n",
      "test accuracy 0.956\n",
      "\n",
      "At step: 9000 (current time: 17.6459), loss: 1.52356, training accuracy: 0.98\n",
      "test accuracy 0.958\n",
      "\n",
      "At step: 9500 (current time: 17.0061), loss: 1.50772, training accuracy: 0.94\n",
      "test accuracy 0.9589\n",
      "\n"
     ]
    }
   ],
   "source": [
    "sess = tf.Session()\n",
    "sess.run(init_op)\n",
    "\n",
    "start_time = time.time()\n",
    "\n",
    "for i in range(epoch):\n",
    "    batch_train = mnist.train.next_batch(50)\n",
    "    loss, _  = sess.run([entropy_loss, optimizer], feed_dict={x: batch_train[0], y_: batch_train[1], keep_prob: 0.5})\n",
    "    \n",
    "    if i % 500 == 0:\n",
    "        acc = sess.run([accuracy], feed_dict={x: batch_train[0], y_: batch_train[1], keep_prob: 1.0})[0]\n",
    "        test_accuracy = sess.run([accuracy], feed_dict={x: mnist.test.images, y_: mnist.test.labels, keep_prob: 1.0})[0]\n",
    "        \n",
    "        elapsed_time = time.time() - start_time\n",
    "        start_time = time.time()\n",
    "        \n",
    "        print(\"At step: %d (current time: %g), loss: %g, training accuracy: %g\" % (i, elapsed_time, loss, acc))\n",
    "        print(\"test accuracy %g\\n\" % test_accuracy)\n"
   ]
  },
  {
   "cell_type": "code",
   "execution_count": null,
   "metadata": {
    "collapsed": true
   },
   "outputs": [],
   "source": []
  }
 ],
 "metadata": {
  "kernelspec": {
   "display_name": "Python 3",
   "language": "python",
   "name": "python3"
  },
  "language_info": {
   "codemirror_mode": {
    "name": "ipython",
    "version": 3
   },
   "file_extension": ".py",
   "mimetype": "text/x-python",
   "name": "python",
   "nbconvert_exporter": "python",
   "pygments_lexer": "ipython3",
   "version": "3.6.0"
  }
 },
 "nbformat": 4,
 "nbformat_minor": 2
}
