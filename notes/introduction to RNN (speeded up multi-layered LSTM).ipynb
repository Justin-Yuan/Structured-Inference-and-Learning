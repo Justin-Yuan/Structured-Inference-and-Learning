{
 "cells": [
  {
   "cell_type": "code",
   "execution_count": 1,
   "metadata": {
    "collapsed": true
   },
   "outputs": [],
   "source": [
    "from __future__ import print_function, division\n",
    "import numpy as np\n",
    "import tensorflow as tf\n",
    "import matplotlib.pyplot as plt"
   ]
  },
  {
   "cell_type": "code",
   "execution_count": 10,
   "metadata": {
    "collapsed": true
   },
   "outputs": [],
   "source": [
    "num_epochs = 10\n",
    "total_series_length = 50000\n",
    "truncated_backprop_length = 15\n",
    "state_size = 4\n",
    "num_classes = 2\n",
    "echo_step = 3\n",
    "batch_size = 5\n",
    "num_batches = total_series_length//batch_size//truncated_backprop_length\n",
    "num_layers = 3"
   ]
  },
  {
   "cell_type": "code",
   "execution_count": 4,
   "metadata": {
    "collapsed": true
   },
   "outputs": [],
   "source": [
    "def generateData():\n",
    "    x = np.array(np.random.choice(2, total_series_length, p=[0.5, 0.5]))\n",
    "    y = np.roll(x, echo_step)\n",
    "    y[0:echo_step] = 0\n",
    "\n",
    "    x = x.reshape((batch_size, -1))  # The first index changing slowest, subseries as rows\n",
    "    y = y.reshape((batch_size, -1))\n",
    "\n",
    "    return (x, y)"
   ]
  },
  {
   "cell_type": "code",
   "execution_count": 5,
   "metadata": {
    "collapsed": true
   },
   "outputs": [],
   "source": [
    "batchX_placeholder = tf.placeholder(tf.float32, [batch_size, truncated_backprop_length])\n",
    "batchY_placeholder = tf.placeholder(tf.int32, [batch_size, truncated_backprop_length])\n",
    "\n",
    "init_state = tf.placeholder(tf.float32, [num_layers, 2, batch_size, state_size])\n",
    "\n",
    "state_per_layer_list = tf.unstack(init_state, axis=0)\n",
    "rnn_tuple_state = tuple(\n",
    "    [tf.contrib.rnn.LSTMStateTuple(state_per_layer_list[idx][0], state_per_layer_list[idx][1])\n",
    "     for idx in range(num_layers)]\n",
    ")\n",
    "\n",
    "W2 = tf.Variable(np.random.rand(state_size, num_classes),dtype=tf.float32)\n",
    "b2 = tf.Variable(np.zeros((1,num_classes)), dtype=tf.float32)"
   ]
  },
  {
   "cell_type": "code",
   "execution_count": 6,
   "metadata": {
    "collapsed": false
   },
   "outputs": [
    {
     "name": "stdout",
     "output_type": "stream",
     "text": [
      "(5, 15, 4)\n",
      "(75, 4)\n"
     ]
    }
   ],
   "source": [
    "# Forward passes\n",
    "cell = tf.contrib.rnn.LSTMCell(state_size, state_is_tuple=True)\n",
    "cell = tf.contrib.rnn.MultiRNNCell([cell] * num_layers, state_is_tuple=True)\n",
    "states_series, current_state = tf.nn.dynamic_rnn(cell, tf.expand_dims(batchX_placeholder, -1), initial_state=rnn_tuple_state)\n",
    "print(states_series.shape)\n",
    "states_series = tf.reshape(states_series, [-1, state_size])\n",
    "print(states_series.shape)"
   ]
  },
  {
   "cell_type": "code",
   "execution_count": 7,
   "metadata": {
    "collapsed": false
   },
   "outputs": [
    {
     "name": "stdout",
     "output_type": "stream",
     "text": [
      "(75, 2)\n",
      "(75,)\n",
      "15\n",
      "(5, 2)\n"
     ]
    }
   ],
   "source": [
    "logits = tf.matmul(states_series, W2) + b2 #Broadcasted addition\n",
    "print(logits.shape)\n",
    "labels = tf.reshape(batchY_placeholder, [-1])\n",
    "print(labels.shape)\n",
    "\n",
    "logits_series = tf.unstack(tf.reshape(logits, [batch_size, truncated_backprop_length, num_classes]), axis=1)\n",
    "print(len(logits_series))\n",
    "print(logits_series[0].shape)\n",
    "predictions_series = [tf.nn.softmax(logit) for logit in logits_series]\n",
    "\n",
    "\n",
    "losses = tf.nn.sparse_softmax_cross_entropy_with_logits(logits=logits, labels=labels)\n",
    "total_loss = tf.reduce_mean(losses)\n",
    "\n",
    "train_step = tf.train.AdagradOptimizer(0.3).minimize(total_loss)"
   ]
  },
  {
   "cell_type": "code",
   "execution_count": 8,
   "metadata": {
    "collapsed": true
   },
   "outputs": [],
   "source": [
    "def plot(loss_list, predictions_series, batchX, batchY):\n",
    "    plt.subplot(2, 3, 1)\n",
    "    plt.cla()\n",
    "    plt.plot(loss_list)\n",
    "\n",
    "    for batch_series_idx in range(5):\n",
    "        one_hot_output_series = np.array(predictions_series)[:, batch_series_idx, :]\n",
    "        single_output_series = np.array([(1 if out[0] < 0.5 else 0) for out in one_hot_output_series])\n",
    "\n",
    "        plt.subplot(2, 3, batch_series_idx + 2)\n",
    "        plt.cla()\n",
    "        plt.axis([0, truncated_backprop_length, 0, 2])\n",
    "        left_offset = range(truncated_backprop_length)\n",
    "        plt.bar(left_offset, batchX[batch_series_idx, :], width=1, color=\"blue\")\n",
    "        plt.bar(left_offset, batchY[batch_series_idx, :] * 0.5, width=1, color=\"red\")\n",
    "        plt.bar(left_offset, single_output_series * 0.3, width=1, color=\"green\")\n",
    "\n",
    "    plt.draw()\n",
    "    plt.pause(0.0001)"
   ]
  },
  {
   "cell_type": "code",
   "execution_count": 11,
   "metadata": {
    "collapsed": false
   },
   "outputs": [
    {
     "name": "stdout",
     "output_type": "stream",
     "text": [
      "WARNING:tensorflow:From <ipython-input-11-8b89da80f7df>:2: initialize_all_variables (from tensorflow.python.ops.variables) is deprecated and will be removed after 2017-03-02.\n",
      "Instructions for updating:\n",
      "Use `tf.global_variables_initializer` instead.\n"
     ]
    },
    {
     "data": {
      "text/plain": [
       "<matplotlib.figure.Figure at 0x11a89e400>"
      ]
     },
     "metadata": {},
     "output_type": "display_data"
    },
    {
     "name": "stdout",
     "output_type": "stream",
     "text": [
      "New data, epoch 0\n",
      "Step 0 Batch loss 0.69349\n",
      "Step 100 Batch loss 0.69132\n",
      "Step 200 Batch loss 0.636128\n",
      "Step 300 Batch loss 0.565442\n",
      "Step 400 Batch loss 0.35266\n",
      "Step 500 Batch loss 0.206552\n",
      "Step 600 Batch loss 0.0972039\n",
      "New data, epoch 1\n",
      "Step 0 Batch loss 0.471239\n",
      "Step 100 Batch loss 0.00641255\n",
      "Step 200 Batch loss 0.00305342\n",
      "Step 300 Batch loss 0.0023947\n",
      "Step 400 Batch loss 0.00168221\n",
      "Step 500 Batch loss 0.00132188\n",
      "Step 600 Batch loss 0.00113517\n",
      "New data, epoch 2\n",
      "Step 0 Batch loss 0.312502\n",
      "Step 100 Batch loss 0.00141916\n",
      "Step 200 Batch loss 0.00103355\n",
      "Step 300 Batch loss 0.000872041\n",
      "Step 400 Batch loss 0.000667584\n",
      "Step 500 Batch loss 0.000712787\n",
      "Step 600 Batch loss 0.00061919\n",
      "New data, epoch 3\n",
      "Step 0 Batch loss 0.394769\n",
      "Step 100 Batch loss 0.000577867\n",
      "Step 200 Batch loss 0.00052149\n",
      "Step 300 Batch loss 0.000481438\n",
      "Step 400 Batch loss 0.000463577\n",
      "Step 500 Batch loss 0.000425726\n",
      "Step 600 Batch loss 0.000344236\n",
      "New data, epoch 4\n",
      "Step 0 Batch loss 0.411185\n",
      "Step 100 Batch loss 0.000416227\n",
      "Step 200 Batch loss 0.000400953\n",
      "Step 300 Batch loss 0.000322065\n",
      "Step 400 Batch loss 0.000277934\n",
      "Step 500 Batch loss 0.000266279\n",
      "Step 600 Batch loss 0.00027388\n",
      "New data, epoch 5\n",
      "Step 0 Batch loss 0.288735\n",
      "Step 100 Batch loss 0.000365022\n",
      "Step 200 Batch loss 0.000257219\n",
      "Step 300 Batch loss 0.000261749\n",
      "Step 400 Batch loss 0.000258402\n",
      "Step 500 Batch loss 0.000249616\n",
      "Step 600 Batch loss 0.000207082\n",
      "New data, epoch 6\n",
      "Step 0 Batch loss 0.800509\n",
      "Step 100 Batch loss 0.000304245\n",
      "Step 200 Batch loss 0.000292088\n",
      "Step 300 Batch loss 0.000219837\n",
      "Step 400 Batch loss 0.000240676\n",
      "Step 500 Batch loss 0.000217594\n",
      "Step 600 Batch loss 0.000182172\n",
      "New data, epoch 7\n",
      "Step 0 Batch loss 0.453526\n",
      "Step 100 Batch loss 0.000228078\n",
      "Step 200 Batch loss 0.000212896\n",
      "Step 300 Batch loss 0.000194456\n",
      "Step 400 Batch loss 0.00019621\n",
      "Step 500 Batch loss 0.00019955\n",
      "Step 600 Batch loss 0.000189793\n",
      "New data, epoch 8\n",
      "Step 0 Batch loss 0.272017\n",
      "Step 100 Batch loss 0.000195766\n",
      "Step 200 Batch loss 0.000296288\n",
      "Step 300 Batch loss 0.000225814\n",
      "Step 400 Batch loss 0.000193538\n",
      "Step 500 Batch loss 0.000171329\n",
      "Step 600 Batch loss 0.000163731\n",
      "New data, epoch 9\n",
      "Step 0 Batch loss 0.401\n",
      "Step 100 Batch loss 0.000212664\n",
      "Step 200 Batch loss 0.000222534\n",
      "Step 300 Batch loss 0.000225827\n",
      "Step 400 Batch loss 0.000249125\n",
      "Step 500 Batch loss 0.000173672\n",
      "Step 600 Batch loss 0.000172567\n"
     ]
    },
    {
     "data": {
      "image/png": "[encoded data removed]",
      "text/plain": [
       "<matplotlib.figure.Figure at 0x11b202748>"
      ]
     },
     "metadata": {},
     "output_type": "display_data"
    }
   ],
   "source": [
    "with tf.Session() as sess:\n",
    "    sess.run(tf.initialize_all_variables())\n",
    "    plt.ion()\n",
    "    plt.figure()\n",
    "    plt.show()\n",
    "    loss_list = []\n",
    "\n",
    "    for epoch_idx in range(num_epochs):\n",
    "        x,y = generateData()\n",
    "\n",
    "        _current_state = np.zeros((num_layers, 2, batch_size, state_size))\n",
    "\n",
    "        print(\"New data, epoch\", epoch_idx)\n",
    "\n",
    "        for batch_idx in range(num_batches):\n",
    "            start_idx = batch_idx * truncated_backprop_length\n",
    "            end_idx = start_idx + truncated_backprop_length\n",
    "\n",
    "            batchX = x[:,start_idx:end_idx]\n",
    "            batchY = y[:,start_idx:end_idx]\n",
    "\n",
    "            _total_loss, _train_step, _current_state, _predictions_series = sess.run(\n",
    "                [total_loss, train_step, current_state, predictions_series],\n",
    "                feed_dict={\n",
    "                    batchX_placeholder: batchX,\n",
    "                    batchY_placeholder: batchY,\n",
    "                    init_state: _current_state\n",
    "                })\n",
    "\n",
    "\n",
    "            loss_list.append(_total_loss)\n",
    "\n",
    "            if batch_idx%100 == 0:\n",
    "                print(\"Step\",batch_idx, \"Batch loss\", _total_loss)\n",
    "                plot(loss_list, _predictions_series, batchX, batchY)\n",
    "\n",
    "plt.ioff()\n",
    "plt.show()"
   ]
  }
 ],
 "metadata": {
  "kernelspec": {
   "display_name": "Python [default]",
   "language": "python",
   "name": "python3"
  },
  "language_info": {
   "codemirror_mode": {
    "name": "ipython",
    "version": 3
   },
   "file_extension": ".py",
   "mimetype": "text/x-python",
   "name": "python",
   "nbconvert_exporter": "python",
   "pygments_lexer": "ipython3",
   "version": "3.5.2"
  }
 },
 "nbformat": 4,
 "nbformat_minor": 2
}
