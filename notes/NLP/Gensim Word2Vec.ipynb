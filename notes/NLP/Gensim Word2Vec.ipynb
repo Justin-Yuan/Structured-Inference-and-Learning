{
 "cells": [
  {
   "cell_type": "markdown",
   "metadata": {},
   "source": [
    "## A Gensim tutorial on Word2Vec \n",
    "\n",
    "https://radimrehurek.com/gensim/models/word2vec.html"
   ]
  },
  {
   "cell_type": "code",
   "execution_count": 7,
   "metadata": {
    "collapsed": false
   },
   "outputs": [],
   "source": [
    "import gensim, logging "
   ]
  },
  {
   "cell_type": "code",
   "execution_count": 8,
   "metadata": {
    "collapsed": true
   },
   "outputs": [],
   "source": [
    "logging.basicConfig(format='%(asctime)s : %(levelname)s : %(message)s', level=logging.INFO)"
   ]
  },
  {
   "cell_type": "code",
   "execution_count": 9,
   "metadata": {
    "collapsed": false
   },
   "outputs": [],
   "source": [
    "sentences = [['first', 'sentence'], ['second', 'sentence']]"
   ]
  },
  {
   "cell_type": "code",
   "execution_count": 10,
   "metadata": {
    "collapsed": false
   },
   "outputs": [
    {
     "name": "stderr",
     "output_type": "stream",
     "text": [
      "2017-06-20 13:10:41,139 : INFO : collecting all words and their counts\n",
      "2017-06-20 13:10:41,142 : INFO : PROGRESS: at sentence #0, processed 0 words, keeping 0 word types\n",
      "2017-06-20 13:10:41,143 : INFO : collected 3 word types from a corpus of 4 raw words and 2 sentences\n",
      "2017-06-20 13:10:41,145 : INFO : Loading a fresh vocabulary\n",
      "2017-06-20 13:10:41,147 : INFO : min_count=1 retains 3 unique words (100% of original 3, drops 0)\n",
      "2017-06-20 13:10:41,148 : INFO : min_count=1 leaves 4 word corpus (100% of original 4, drops 0)\n",
      "2017-06-20 13:10:41,151 : INFO : deleting the raw counts dictionary of 3 items\n",
      "2017-06-20 13:10:41,154 : INFO : sample=0.001 downsamples 3 most-common words\n",
      "2017-06-20 13:10:41,155 : INFO : downsampling leaves estimated 0 word corpus (5.7% of prior 4)\n",
      "2017-06-20 13:10:41,156 : INFO : estimated required memory for 3 words and 100 dimensions: 3900 bytes\n",
      "2017-06-20 13:10:41,159 : INFO : resetting layer weights\n",
      "2017-06-20 13:10:41,162 : INFO : training model with 3 workers on 3 vocabulary and 100 features, using sg=0 hs=0 sample=0.001 negative=5 window=5\n",
      "2017-06-20 13:10:41,167 : INFO : worker thread finished; awaiting finish of 2 more threads\n",
      "2017-06-20 13:10:41,168 : INFO : worker thread finished; awaiting finish of 1 more threads\n",
      "2017-06-20 13:10:41,169 : INFO : worker thread finished; awaiting finish of 0 more threads\n",
      "2017-06-20 13:10:41,170 : INFO : training on 20 raw words (0 effective words) took 0.0s, 0 effective words/s\n",
      "2017-06-20 13:10:41,171 : WARNING : under 10 jobs per worker: consider setting a smaller `batch_words' for smoother alpha decay\n"
     ]
    }
   ],
   "source": [
    "model = gensim.models.Word2Vec(sentences, min_count=1)"
   ]
  },
  {
   "cell_type": "markdown",
   "metadata": {},
   "source": [
    "if input is split across several files on disk, with one sentence perline tehn instead of loading everything into an in-memory list, we can process the input file by file, line by line"
   ]
  },
  {
   "cell_type": "code",
   "execution_count": null,
   "metadata": {
    "collapsed": true
   },
   "outputs": [],
   "source": [
    "import os \n",
    "\n",
    "class MySentences(object):\n",
    "    def __init__(self, dirname):\n",
    "        self.dirname = dirname \n",
    "        \n",
    "    def __iter__(self):\n",
    "        for fname in os.listdir(self.dirname):\n",
    "            for line in open(os.path.join(self.dirname, fname)):\n",
    "                yield line.split()\n",
    "                \n",
    "sentences = MySentences('/some/directory')\n",
    "model = gensim.models.Word2Vec(sentences)"
   ]
  },
  {
   "cell_type": "code",
   "execution_count": null,
   "metadata": {
    "collapsed": true
   },
   "outputs": [],
   "source": [
    "model = gensim.models.Word2Vec(iter=1) # an empty model \n",
    "model.build_vocab(some_sentences)\n",
    "model.train(other_sentences)"
   ]
  },
  {
   "cell_type": "markdown",
   "metadata": {},
   "source": [
    "major parammeters: min_count, size, workers "
   ]
  }
 ],
 "metadata": {
  "kernelspec": {
   "display_name": "Python [default]",
   "language": "python",
   "name": "python3"
  },
  "language_info": {
   "codemirror_mode": {
    "name": "ipython",
    "version": 3
   },
   "file_extension": ".py",
   "mimetype": "text/x-python",
   "name": "python",
   "nbconvert_exporter": "python",
   "pygments_lexer": "ipython3",
   "version": "3.5.2"
  }
 },
 "nbformat": 4,
 "nbformat_minor": 2
}
