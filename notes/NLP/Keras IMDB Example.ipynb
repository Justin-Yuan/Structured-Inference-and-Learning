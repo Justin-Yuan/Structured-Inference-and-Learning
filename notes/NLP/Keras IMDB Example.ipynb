{
 "cells": [
  {
   "cell_type": "code",
   "execution_count": 1,
   "metadata": {},
   "outputs": [
    {
     "name": "stderr",
     "output_type": "stream",
     "text": [
      "Using TensorFlow backend.\n"
     ]
    }
   ],
   "source": [
    "from __future__ import print_function\n",
    "\n",
    "from keras.preprocessing import sequence \n",
    "from keras.models import Sequential\n",
    "from keras.layers import Dense, Embedding \n",
    "from keras.layers import LSTM \n",
    "from keras.datasets import imdb \n"
   ]
  },
  {
   "cell_type": "code",
   "execution_count": 4,
   "metadata": {
    "collapsed": true
   },
   "outputs": [],
   "source": [
    "max_features = 20000\n",
    "maxlen = 80 \n",
    "batch_size = 32 \n"
   ]
  },
  {
   "cell_type": "code",
   "execution_count": 5,
   "metadata": {},
   "outputs": [
    {
     "name": "stdout",
     "output_type": "stream",
     "text": [
      "Downloading data from https://s3.amazonaws.com/text-datasets/imdb.npz\n",
      "25000 train sequences\n",
      "25000 test sequences\n"
     ]
    }
   ],
   "source": [
    "(x_train, y_train), (x_test, y_test) = imdb.load_data(num_words=max_features)\n",
    "print(len(x_train), \"train sequences\")\n",
    "print(len(x_test), \"test sequences\")\n"
   ]
  },
  {
   "cell_type": "code",
   "execution_count": 7,
   "metadata": {},
   "outputs": [
    {
     "name": "stdout",
     "output_type": "stream",
     "text": [
      "[ 125   68    2 6853   15  349  165 4362   98    5    4  228    9   43    2\n",
      " 1157   15  299  120    5  120  174   11  220  175  136   50    9 4373  228\n",
      " 8255    5    2  656  245 2350    5    4 9837  131  152  491   18    2   32\n",
      " 7464 1212   14    9    6  371   78   22  625   64 1382    9    8  168  145\n",
      "   23    4 1690   15   16    4 1355    5   28    6   52  154  462   33   89\n",
      "   78  285   16  145   95]\n"
     ]
    }
   ],
   "source": [
    "print(x_train[1])"
   ]
  },
  {
   "cell_type": "code",
   "execution_count": 6,
   "metadata": {},
   "outputs": [
    {
     "name": "stdout",
     "output_type": "stream",
     "text": [
      "(25000, 80)\n",
      "(25000, 80)\n"
     ]
    }
   ],
   "source": [
    "x_train = sequence.pad_sequences(x_train, maxlen=maxlen)\n",
    "x_test = sequence.pad_sequences(x_test, maxlen=maxlen)\n",
    "print(x_train.shape)\n",
    "print(x_test.shape)"
   ]
  },
  {
   "cell_type": "code",
   "execution_count": 8,
   "metadata": {
    "collapsed": true
   },
   "outputs": [],
   "source": [
    "model = Sequential()\n",
    "model.add(Embedding(max_features, 128))\n",
    "model.add(LSTM(128, dropout=0.2, recurrent_dropout=0.2))\n",
    "model.add(Dense(1, activation='sigmoid'))"
   ]
  },
  {
   "cell_type": "code",
   "execution_count": 9,
   "metadata": {
    "collapsed": true
   },
   "outputs": [],
   "source": [
    "model.compile(loss='binary_crossentropy', optimizer='adam', metrics=['accuracy'])"
   ]
  },
  {
   "cell_type": "code",
   "execution_count": 10,
   "metadata": {},
   "outputs": [
    {
     "name": "stdout",
     "output_type": "stream",
     "text": [
      "Train on 25000 samples, validate on 25000 samples\n",
      "Epoch 1/15\n",
      "25000/25000 [==============================] - 96s - loss: 0.4661 - acc: 0.7798 - val_loss: 0.3937 - val_acc: 0.8289\n",
      "Epoch 2/15\n",
      "25000/25000 [==============================] - 94s - loss: 0.2927 - acc: 0.8830 - val_loss: 0.3868 - val_acc: 0.8370\n",
      "Epoch 3/15\n",
      "25000/25000 [==============================] - 94s - loss: 0.2053 - acc: 0.9212 - val_loss: 0.4025 - val_acc: 0.8343\n",
      "Epoch 4/15\n",
      "25000/25000 [==============================] - 93s - loss: 0.1412 - acc: 0.9479 - val_loss: 0.5330 - val_acc: 0.8266\n",
      "Epoch 5/15\n",
      "25000/25000 [==============================] - 93s - loss: 0.0957 - acc: 0.9654 - val_loss: 0.5478 - val_acc: 0.8204\n",
      "Epoch 6/15\n",
      "25000/25000 [==============================] - 93s - loss: 0.0733 - acc: 0.9746 - val_loss: 0.6698 - val_acc: 0.8204\n",
      "Epoch 7/15\n",
      "25000/25000 [==============================] - 93s - loss: 0.0526 - acc: 0.9813 - val_loss: 0.6579 - val_acc: 0.8086\n",
      "Epoch 8/15\n",
      "25000/25000 [==============================] - 93s - loss: 0.0419 - acc: 0.9856 - val_loss: 0.8493 - val_acc: 0.8180\n",
      "Epoch 9/15\n",
      "25000/25000 [==============================] - 92s - loss: 0.0346 - acc: 0.9890 - val_loss: 0.8144 - val_acc: 0.8088\n",
      "Epoch 10/15\n",
      "25000/25000 [==============================] - 92s - loss: 0.0255 - acc: 0.9920 - val_loss: 0.9047 - val_acc: 0.8119\n",
      "Epoch 11/15\n",
      "25000/25000 [==============================] - 92s - loss: 0.0214 - acc: 0.9935 - val_loss: 1.0333 - val_acc: 0.8060\n",
      "Epoch 12/15\n",
      "25000/25000 [==============================] - 92s - loss: 0.0235 - acc: 0.9920 - val_loss: 0.9713 - val_acc: 0.8056\n",
      "Epoch 13/15\n",
      "25000/25000 [==============================] - 92s - loss: 0.0164 - acc: 0.9946 - val_loss: 1.0534 - val_acc: 0.8128\n",
      "Epoch 14/15\n",
      "25000/25000 [==============================] - 92s - loss: 0.0094 - acc: 0.9976 - val_loss: 1.0582 - val_acc: 0.8084\n",
      "Epoch 15/15\n",
      "25000/25000 [==============================] - 92s - loss: 0.0163 - acc: 0.9945 - val_loss: 1.0390 - val_acc: 0.8106\n",
      "24992/25000 [============================>.] - ETA: 0s"
     ]
    }
   ],
   "source": [
    "model.fit(x_train, y_train, batch_size=batch_size, epochs=15, validation_data=(x_test, y_test))\n",
    "score, acc = model.evaluate(x_test, y_test, batch_size=batch_size)"
   ]
  },
  {
   "cell_type": "code",
   "execution_count": 11,
   "metadata": {},
   "outputs": [
    {
     "name": "stdout",
     "output_type": "stream",
     "text": [
      "Test score: 1.03901027122\n",
      "Test accuracy: 0.81056\n"
     ]
    }
   ],
   "source": [
    "print('Test score:', score)\n",
    "print('Test accuracy:', acc)"
   ]
  }
 ],
 "metadata": {
  "kernelspec": {
   "display_name": "Python 3",
   "language": "python",
   "name": "python3"
  },
  "language_info": {
   "codemirror_mode": {
    "name": "ipython",
    "version": 3
   },
   "file_extension": ".py",
   "mimetype": "text/x-python",
   "name": "python",
   "nbconvert_exporter": "python",
   "pygments_lexer": "ipython3",
   "version": "3.6.1"
  }
 },
 "nbformat": 4,
 "nbformat_minor": 2
}
