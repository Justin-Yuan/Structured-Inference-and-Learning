{
 "cells": [
  {
   "cell_type": "code",
   "execution_count": 35,
   "metadata": {
    "collapsed": false
   },
   "outputs": [],
   "source": [
    "import numpy as np \n",
    "import tensorflow as tf \n",
    "import matplotlib.pyplot as plt \n",
    "import time \n",
    "import os \n",
    "import urllib.request\n",
    "# from tensorflow.models.rnn.ptb import reader"
   ]
  },
  {
   "cell_type": "code",
   "execution_count": 36,
   "metadata": {
    "collapsed": true
   },
   "outputs": [],
   "source": [
    "def ptb_iterator(raw_data, batch_size, num_steps, steps_ahead=1):\n",
    "  \"\"\"Iterate on the raw PTB data.\n",
    "  This generates batch_size pointers into the raw PTB data, and allows\n",
    "  minibatch iteration along these pointers.\n",
    "  Args:\n",
    "    raw_data: one of the raw data outputs from ptb_raw_data.\n",
    "    batch_size: int, the batch size.\n",
    "    num_steps: int, the number of unrolls.\n",
    "  Yields:\n",
    "    Pairs of the batched data, each a matrix of shape [batch_size, num_steps].\n",
    "    The second element of the tuple is the same data time-shifted to the\n",
    "    right by one.\n",
    "  Raises:\n",
    "    ValueError: if batch_size or num_steps are too high.\n",
    "  \"\"\"\n",
    "  raw_data = np.array(raw_data, dtype=np.int32)\n",
    "\n",
    "  data_len = len(raw_data)\n",
    "\n",
    "  batch_len = data_len // batch_size\n",
    "\n",
    "  data = np.zeros([batch_size, batch_len], dtype=np.int32)\n",
    "  offset = 0\n",
    "  if data_len % batch_size:\n",
    "    offset = np.random.randint(0, data_len % batch_size)\n",
    "  for i in range(batch_size):\n",
    "    data[i] = raw_data[batch_len * i + offset:batch_len * (i + 1) + offset]\n",
    "\n",
    "  epoch_size = (batch_len - steps_ahead) // num_steps\n",
    "\n",
    "  if epoch_size == 0:\n",
    "    raise ValueError(\"epoch_size == 0, decrease batch_size or num_steps\")\n",
    "\n",
    "  for i in range(epoch_size):\n",
    "    x = data[:, i*num_steps:(i+1)*num_steps]\n",
    "    y = data[:, i*num_steps+1:(i+1)*num_steps+steps_ahead]\n",
    "    yield (x, y)\n",
    "\n",
    "  if epoch_size * num_steps < batch_len - steps_ahead:\n",
    "    yield (data[:, epoch_size*num_steps : batch_len - steps_ahead], data[:, epoch_size*num_steps + 1:])\n",
    "\n",
    "def shuffled_ptb_iterator(raw_data, batch_size, num_steps):\n",
    "    raw_data = np.array(raw_data, dtype=np.int32)\n",
    "    r = len(raw_data) % num_steps\n",
    "    if r:\n",
    "        n = np.random.randint(0, r)\n",
    "        raw_data = raw_data[n:n + len(raw_data) - r]\n",
    "\n",
    "    raw_data = np.reshape(raw_data, [-1, num_steps])\n",
    "    np.random.shuffle(raw_data)\n",
    "\n",
    "    num_batches = int(np.ceil(len(raw_data) / batch_size))\n",
    "\n",
    "    for i in range(num_batches):\n",
    "        data = raw_data[i*batch_size:min(len(raw_data), (i+1)*batch_size),:]\n",
    "        yield (data[:,:-1], data[:,1:])"
   ]
  },
  {
   "cell_type": "code",
   "execution_count": 37,
   "metadata": {
    "collapsed": false
   },
   "outputs": [
    {
     "name": "stdout",
     "output_type": "stream",
     "text": [
      "Data length: 1115394\n"
     ]
    }
   ],
   "source": [
    "file_url = 'https://raw.githubusercontent.com/jcjohnson/torch-rnn/master/data/tiny-shakespeare.txt'\n",
    "file_name = 'tinyshakespeare.txt'\n",
    "if not os.path.exists(file_name):\n",
    "    urllib.request.urlretrieve(file_url, file_name)\n",
    "    \n",
    "with open(file_name, 'r') as f:\n",
    "    raw_data = f.read()\n",
    "    print(\"Data length:\", len(raw_data))\n",
    "    \n",
    "vocab = set(raw_data)\n",
    "vocab_size = len(vocab)\n",
    "idx_to_vocab = dict(enumerate(vocab))\n",
    "vocab_to_idx = dict(zip(idx_to_vocab.values(), idx_to_vocab.keys()))\n",
    "\n",
    "data = [vocab_to_idx[c] for c in raw_data]\n",
    "del raw_data\n",
    "\n",
    "def gen_epochs(n, num_steps, batch_size):\n",
    "    for i in range(n):\n",
    "        yield ptb_iterator(data, batch_size, num_steps)\n",
    "        \n",
    "def reset_graph():\n",
    "    if 'sess' in globals() and sess:\n",
    "        sess.close()\n",
    "    tf.reset_default_graph()\n",
    "    \n",
    "def train_network(g, num_epochs, num_steps=200, batch_size=32, verbose=True, save=False):\n",
    "    tf.set_random_seed(2345)\n",
    "    with tf.Session() as sess:\n",
    "        sess.run(tf.global_variables_initializer())\n",
    "        training_losses = []\n",
    "        for idx, epoch in enumerate(gen_epochs(num_epochs, num_steps, batch_size)):\n",
    "            training_loss = 0\n",
    "            steps = 0\n",
    "            training_state = None \n",
    "            for X, Y in epoch:\n",
    "                steps += 1\n",
    "                \n",
    "                feed_dict = {g['x']: X, g['y']: Y}\n",
    "                if training_state is not None:\n",
    "                    feed_dict[g['init_state']] = training_state\n",
    "                training_loss_, training_state, _ = sess.run([g['total_loss'],\n",
    "                                                             g['final_state'],\n",
    "                                                             g['train_step']],\n",
    "                                                            feed_dict)\n",
    "                training_loss += training_loss_\n",
    "            if verbose:\n",
    "                print(\"Average training loss for Epoch\", idx, \":\", training_loss/steps)\n",
    "            training_losses.append(training_loss/steps)\n",
    "            \n",
    "        if isinstance(save, str):\n",
    "            g['saver'].save(sess, save)\n",
    "            \n",
    "    return training_losses "
   ]
  },
  {
   "cell_type": "code",
   "execution_count": null,
   "metadata": {
    "collapsed": true
   },
   "outputs": [],
   "source": [
    "def build_basic_rnn_graph_with_list(\n",
    "        state_size = 100,\n",
    "        num_classes = vocab_size,\n",
    "        batch_size = 32,\n",
    "        num_steps = 200,\n",
    "        learning_rate = 1e-4):\n",
    "    \n",
    "    reset_graph"
   ]
  }
 ],
 "metadata": {
  "kernelspec": {
   "display_name": "Python [default]",
   "language": "python",
   "name": "python3"
  },
  "language_info": {
   "codemirror_mode": {
    "name": "ipython",
    "version": 3
   },
   "file_extension": ".py",
   "mimetype": "text/x-python",
   "name": "python",
   "nbconvert_exporter": "python",
   "pygments_lexer": "ipython3",
   "version": "3.5.2"
  }
 },
 "nbformat": 4,
 "nbformat_minor": 2
}
