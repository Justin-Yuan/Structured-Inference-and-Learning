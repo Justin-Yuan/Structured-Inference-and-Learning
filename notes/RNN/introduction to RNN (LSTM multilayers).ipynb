{
 "cells": [
  {
   "cell_type": "code",
   "execution_count": 1,
   "metadata": {
    "collapsed": true
   },
   "outputs": [],
   "source": [
    "from __future__ import print_function, division\n",
    "import numpy as np\n",
    "import tensorflow as tf\n",
    "import matplotlib.pyplot as plt"
   ]
  },
  {
   "cell_type": "code",
   "execution_count": 10,
   "metadata": {
    "collapsed": true
   },
   "outputs": [],
   "source": [
    "num_epochs = 10\n",
    "total_series_length = 50000\n",
    "truncated_backprop_length = 15\n",
    "state_size = 4\n",
    "num_classes = 2\n",
    "echo_step = 3\n",
    "batch_size = 5\n",
    "num_batches = total_series_length//batch_size//truncated_backprop_length\n",
    "num_layers = 3"
   ]
  },
  {
   "cell_type": "code",
   "execution_count": 3,
   "metadata": {
    "collapsed": true
   },
   "outputs": [],
   "source": [
    "def generateData():\n",
    "    x = np.array(np.random.choice(2, total_series_length, p=[0.5, 0.5]))\n",
    "    y = np.roll(x, echo_step)\n",
    "    y[0:echo_step] = 0\n",
    "\n",
    "    x = x.reshape((batch_size, -1))  # The first index changing slowest, subseries as rows\n",
    "    y = y.reshape((batch_size, -1))\n",
    "\n",
    "    return (x, y)"
   ]
  },
  {
   "cell_type": "code",
   "execution_count": 4,
   "metadata": {
    "collapsed": true
   },
   "outputs": [],
   "source": [
    "batchX_placeholder = tf.placeholder(tf.float32, [batch_size, truncated_backprop_length])\n",
    "batchY_placeholder = tf.placeholder(tf.int32, [batch_size, truncated_backprop_length])\n",
    "\n",
    "init_state = tf.placeholder(tf.float32, [num_layers, 2, batch_size, state_size])\n",
    "\n",
    "state_per_layer_list = tf.unstack(init_state, axis=0)\n",
    "rnn_tuple_state = tuple(\n",
    "    [tf.contrib.rnn.LSTMStateTuple(state_per_layer_list[idx][0], state_per_layer_list[idx][1])\n",
    "     for idx in range(num_layers)]\n",
    ")\n",
    "\n",
    "W2 = tf.Variable(np.random.rand(state_size, num_classes),dtype=tf.float32)\n",
    "b2 = tf.Variable(np.zeros((1,num_classes)), dtype=tf.float32)"
   ]
  },
  {
   "cell_type": "code",
   "execution_count": 6,
   "metadata": {
    "collapsed": false
   },
   "outputs": [],
   "source": [
    "# Unpack columns\n",
    "inputs_series = tf.split(batchX_placeholder, truncated_backprop_length, 1)\n",
    "labels_series = tf.unstack(batchY_placeholder, axis=1)\n",
    "\n",
    "# Forward passes\n",
    "cell = tf.contrib.rnn.LSTMCell(state_size, state_is_tuple=True)\n",
    "cell = tf.contrib.rnn.MultiRNNCell([cell] * num_layers, state_is_tuple=True)\n",
    "states_series, current_state = tf.contrib.rnn.static_rnn(cell, inputs_series, initial_state=rnn_tuple_state)"
   ]
  },
  {
   "cell_type": "code",
   "execution_count": 7,
   "metadata": {
    "collapsed": true
   },
   "outputs": [],
   "source": [
    "logits_series = [tf.matmul(state, W2) + b2 for state in states_series] #Broadcasted addition\n",
    "predictions_series = [tf.nn.softmax(logits) for logits in logits_series]\n",
    "\n",
    "losses = [tf.nn.sparse_softmax_cross_entropy_with_logits(logits=logits, labels=labels) for logits, labels in zip(logits_series,labels_series)]\n",
    "total_loss = tf.reduce_mean(losses)\n",
    "\n",
    "train_step = tf.train.AdagradOptimizer(0.3).minimize(total_loss)"
   ]
  },
  {
   "cell_type": "code",
   "execution_count": 8,
   "metadata": {
    "collapsed": true
   },
   "outputs": [],
   "source": [
    "def plot(loss_list, predictions_series, batchX, batchY):\n",
    "    plt.subplot(2, 3, 1)\n",
    "    plt.cla()\n",
    "    plt.plot(loss_list)\n",
    "\n",
    "    for batch_series_idx in range(5):\n",
    "        one_hot_output_series = np.array(predictions_series)[:, batch_series_idx, :]\n",
    "        single_output_series = np.array([(1 if out[0] < 0.5 else 0) for out in one_hot_output_series])\n",
    "\n",
    "        plt.subplot(2, 3, batch_series_idx + 2)\n",
    "        plt.cla()\n",
    "        plt.axis([0, truncated_backprop_length, 0, 2])\n",
    "        left_offset = range(truncated_backprop_length)\n",
    "        plt.bar(left_offset, batchX[batch_series_idx, :], width=1, color=\"blue\")\n",
    "        plt.bar(left_offset, batchY[batch_series_idx, :] * 0.5, width=1, color=\"red\")\n",
    "        plt.bar(left_offset, single_output_series * 0.3, width=1, color=\"green\")\n",
    "\n",
    "    plt.draw()\n",
    "    plt.pause(0.0001)"
   ]
  },
  {
   "cell_type": "code",
   "execution_count": 11,
   "metadata": {
    "collapsed": false
   },
   "outputs": [
    {
     "name": "stdout",
     "output_type": "stream",
     "text": [
      "WARNING:tensorflow:From <ipython-input-11-8b89da80f7df>:2: initialize_all_variables (from tensorflow.python.ops.variables) is deprecated and will be removed after 2017-03-02.\n",
      "Instructions for updating:\n",
      "Use `tf.global_variables_initializer` instead.\n"
     ]
    },
    {
     "data": {
      "text/plain": [
       "<matplotlib.figure.Figure at 0x103c0ef28>"
      ]
     },
     "metadata": {},
     "output_type": "display_data"
    },
    {
     "name": "stdout",
     "output_type": "stream",
     "text": [
      "New data, epoch 0\n",
      "Step 0 Batch loss 0.691919\n",
      "Step 100 Batch loss 0.620822\n",
      "Step 200 Batch loss 0.598076\n",
      "Step 300 Batch loss 0.502309\n",
      "Step 400 Batch loss 0.302033\n",
      "Step 500 Batch loss 0.144799\n",
      "Step 600 Batch loss 0.00670407\n",
      "New data, epoch 1\n",
      "Step 0 Batch loss 0.489146\n",
      "Step 100 Batch loss 0.00310392\n",
      "Step 200 Batch loss 0.00203834\n",
      "Step 300 Batch loss 0.00197354\n",
      "Step 400 Batch loss 0.00114208\n",
      "Step 500 Batch loss 0.00114914\n",
      "Step 600 Batch loss 0.000978921\n",
      "New data, epoch 2\n",
      "Step 0 Batch loss 0.425597\n",
      "Step 100 Batch loss 0.000747605\n",
      "Step 200 Batch loss 0.000629315\n",
      "Step 300 Batch loss 0.00074707\n",
      "Step 400 Batch loss 0.000553632\n",
      "Step 500 Batch loss 0.000663881\n",
      "Step 600 Batch loss 0.00045795\n",
      "New data, epoch 3\n",
      "Step 0 Batch loss 0.314911\n",
      "Step 100 Batch loss 0.000448868\n",
      "Step 200 Batch loss 0.000444953\n",
      "Step 300 Batch loss 0.000397714\n",
      "Step 400 Batch loss 0.000438245\n",
      "Step 500 Batch loss 0.000407686\n",
      "Step 600 Batch loss 0.000337392\n",
      "New data, epoch 4\n",
      "Step 0 Batch loss 0.500967\n",
      "Step 100 Batch loss 0.000394331\n",
      "Step 200 Batch loss 0.000339855\n",
      "Step 300 Batch loss 0.000296808\n",
      "Step 400 Batch loss 0.00030488\n",
      "Step 500 Batch loss 0.000275996\n",
      "Step 600 Batch loss 0.000290515\n",
      "New data, epoch 5\n",
      "Step 0 Batch loss 0.723862\n",
      "Step 100 Batch loss 0.000276405\n",
      "Step 200 Batch loss 0.000270068\n",
      "Step 300 Batch loss 0.000251032\n",
      "Step 400 Batch loss 0.000233905\n",
      "Step 500 Batch loss 0.000257945\n",
      "Step 600 Batch loss 0.000270851\n",
      "New data, epoch 6\n",
      "Step 0 Batch loss 0.526532\n",
      "Step 100 Batch loss 0.00026365\n",
      "Step 200 Batch loss 0.000249274\n",
      "Step 300 Batch loss 0.000225003\n",
      "Step 400 Batch loss 0.000217096\n",
      "Step 500 Batch loss 0.000190893\n",
      "Step 600 Batch loss 0.00022389\n",
      "New data, epoch 7\n",
      "Step 0 Batch loss 0.398095\n",
      "Step 100 Batch loss 0.000205021\n",
      "Step 200 Batch loss 0.00020205\n",
      "Step 300 Batch loss 0.000175173\n",
      "Step 400 Batch loss 0.00017789\n",
      "Step 500 Batch loss 0.000183614\n",
      "Step 600 Batch loss 0.00017618\n",
      "New data, epoch 8\n",
      "Step 0 Batch loss 0.633429\n",
      "Step 100 Batch loss 0.000219207\n",
      "Step 200 Batch loss 0.000251945\n",
      "Step 300 Batch loss 0.000199175\n",
      "Step 400 Batch loss 0.000203556\n",
      "Step 500 Batch loss 0.000211405\n",
      "Step 600 Batch loss 0.000146614\n",
      "New data, epoch 9\n",
      "Step 0 Batch loss 0.394687\n",
      "Step 100 Batch loss 0.000181197\n",
      "Step 200 Batch loss 0.000176856\n",
      "Step 300 Batch loss 0.000192971\n",
      "Step 400 Batch loss 0.00017866\n",
      "Step 500 Batch loss 0.000179465\n",
      "Step 600 Batch loss 0.000164396\n"
     ]
    },
    {
     "data": {
      "image/png": "[encoded data removed]",
      "text/plain": [
       "<matplotlib.figure.Figure at 0x11dc78908>"
      ]
     },
     "metadata": {},
     "output_type": "display_data"
    }
   ],
   "source": [
    "with tf.Session() as sess:\n",
    "    sess.run(tf.initialize_all_variables())\n",
    "    plt.ion()\n",
    "    plt.figure()\n",
    "    plt.show()\n",
    "    loss_list = []\n",
    "\n",
    "    for epoch_idx in range(num_epochs):\n",
    "        x,y = generateData()\n",
    "\n",
    "        _current_state = np.zeros((num_layers, 2, batch_size, state_size))\n",
    "\n",
    "        print(\"New data, epoch\", epoch_idx)\n",
    "\n",
    "        for batch_idx in range(num_batches):\n",
    "            start_idx = batch_idx * truncated_backprop_length\n",
    "            end_idx = start_idx + truncated_backprop_length\n",
    "\n",
    "            batchX = x[:,start_idx:end_idx]\n",
    "            batchY = y[:,start_idx:end_idx]\n",
    "\n",
    "            _total_loss, _train_step, _current_state, _predictions_series = sess.run(\n",
    "                [total_loss, train_step, current_state, predictions_series],\n",
    "                feed_dict={\n",
    "                    batchX_placeholder: batchX,\n",
    "                    batchY_placeholder: batchY,\n",
    "                    init_state: _current_state\n",
    "                })\n",
    "\n",
    "\n",
    "            loss_list.append(_total_loss)\n",
    "\n",
    "            if batch_idx%100 == 0:\n",
    "                print(\"Step\",batch_idx, \"Batch loss\", _total_loss)\n",
    "                plot(loss_list, _predictions_series, batchX, batchY)\n",
    "\n",
    "plt.ioff()\n",
    "plt.show()\n"
   ]
  }
 ],
 "metadata": {
  "kernelspec": {
   "display_name": "Python [default]",
   "language": "python",
   "name": "python3"
  },
  "language_info": {
   "codemirror_mode": {
    "name": "ipython",
    "version": 3
   },
   "file_extension": ".py",
   "mimetype": "text/x-python",
   "name": "python",
   "nbconvert_exporter": "python",
   "pygments_lexer": "ipython3",
   "version": "3.5.2"
  }
 },
 "nbformat": 4,
 "nbformat_minor": 2
}
